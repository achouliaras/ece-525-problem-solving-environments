{
 "cells": [
  {
   "cell_type": "markdown",
   "metadata": {},
   "source": [
    "# Neural Networks and Deep Learning: A Quick Overview\n",
    "\n",
    "\\begin{exercise}\n",
    "\n",
    "* Prepare an introductory presentation of NN concept\n",
    "* Implement a NN using sklearn library for binary classification  and clustering and compared it to the methods and datasets considered in Labs 8 and 9.\n",
    "\n",
    "\\end{exercise}\n",
    "\n"
   ]
  },
  {
   "cell_type": "markdown",
   "metadata": {},
   "source": [
    "# Neural Networks\n",
    "\n",
    "Artificial neural networks are computational systems that can learn to\n",
    "perform tasks by considering examples, generally without being\n",
    "programmed with any task-specific rules. It is supposed to mimic a\n",
    "biological system, wherein neurons interact by sending signals in the\n",
    "form of mathematical functions between layers. All layers can contain\n",
    "an arbitrary number of neurons, and each connection is represented by\n",
    "a weight variable."
   ]
  },
  {
   "cell_type": "markdown",
   "metadata": {},
   "source": [
    "## Recall supervised learning setup\n",
    "\n",
    "- Input features $x^{(i)} \\in \\mathbb{R}^n$\n",
    "\n",
    "- Ouput $y^{(i)}$\n",
    "\n",
    "- Model parameters $\\theta \\in \\mathbb{R}^k$\n",
    "\n",
    "- Hypothesis function $h_{\\theta}: \\mathbb{R}^n \\rightarrow y$\n",
    "\n",
    "- Loss function $\\ell: y \\times y \\rightarrow \\mathbb{R}_+$\n",
    "\n",
    "\n",
    "- Machine learning optimization problem\n",
    "\n",
    "$$ \\min_{\\theta} \\sum_{i=1}^{m}\\ell\\left( h_{\\theta}\\left(x^{(i)}\\right),y^{(i)}\\right)$$\n",
    "\n",
    "$\\quad \\;$(possibly plus some additional regularization)\n",
    "\n",
    "\n",
    "We mainly considered the __linear__ hypothesis class\n",
    "\n",
    "$$h_{\\theta}\\left( x^{(i)}\\right) = \\theta^T \\phi (x^{(i)})$$\n",
    "\n",
    "for some set of _non-linear_ feature $\\phi: \\mathbb{R}^n \\rightarrow \\mathbb{R}^k$"
   ]
  },
  {
   "cell_type": "markdown",
   "metadata": {},
   "source": [
    "## Challenges with linear models\n",
    "\n",
    "- Linear models crucially depend on choosing \"good\" features\n",
    "\n",
    "\n",
    "- Some \"standard\" choices: polynomial features, radial basis functions, random features (suprisingly effective)\n",
    "\n",
    "\n",
    "- But, many specialized domains required highly engineered special features"
   ]
  },
  {
   "cell_type": "markdown",
   "metadata": {},
   "source": [
    "## Artificial neurons\n",
    "\n",
    "The field of artificial neural networks has a long history of\n",
    "development, and is closely connected with the advancement of computer\n",
    "science and computers in general. A model of artificial neurons was\n",
    "first developed by McCulloch and Pitts in 1943 to study signal\n",
    "processing in the brain and has later been refined by others. The\n",
    "general idea is to mimic neural networks in the human brain, which is\n",
    "composed of billions of neurons that communicate with each other by\n",
    "sending electrical signals.  Each neuron accumulates its incoming\n",
    "signals, which must exceed an activation threshold to yield an\n",
    "output. If the threshold is not overcome, the neuron remains inactive,\n",
    "i.e. has zero output.\n",
    "\n",
    "This behaviour has inspired a simple mathematical model for an artificial neuron.\n",
    "\n",
    "$y = f(\\sum_{i=1}^n w_i x_i) = f(u)$\n",
    "\n",
    "Here, the output $y$ of the neuron is the value of its activation function, which have as input\n",
    "a weighted sum of signals $x_i, \\dots ,x_n$ received by $n$ other neurons.\n",
    "\n",
    "Conceptually, it is helpful to divide neural networks into four\n",
    "categories:\n",
    "1. general purpose neural networks for supervised learning,\n",
    "\n",
    "2. neural networks designed specifically for image processing, the most prominent example of this class being Convolutional Neural Networks (CNNs),\n",
    "\n",
    "3. neural networks for sequential data such as Recurrent Neural Networks (RNNs), and\n",
    "\n",
    "4. neural networks for unsupervised learning such as Deep Boltzmann Machines.\n",
    "\n",
    "In natural science, DNNs and CNNs have already found numerous\n",
    "applications. In statistical physics, they have been applied to detect\n",
    "phase transitions in 2D Ising and Potts models, lattice gauge\n",
    "theories, and different phases of polymers, or solving the\n",
    "Navier-Stokes equation in weather forecasting.  Deep learning has also\n",
    "found interesting applications in quantum physics. Various quantum\n",
    "phase transitions can be detected and studied using DNNs and CNNs,\n",
    "topological phases, and even non-equilibrium many-body\n",
    "localization. Representing quantum states as DNNs quantum state\n",
    "tomography are among some of the impressive achievements to reveal the\n",
    "potential of DNNs to facilitate the study of quantum systems.\n",
    "\n",
    "In quantum information theory, it has been shown that one can perform\n",
    "gate decompositions with the help of neural. \n",
    "\n",
    "The applications are not limited to the natural sciences. There is a\n",
    "plethora of applications in essentially all disciplines, from the\n",
    "humanities to life science and medicine.\n",
    "\n",
    "## Neural network types\n",
    "\n",
    "An artificial neural network (ANN), is a computational model that\n",
    "consists of layers of connected neurons, or nodes or units.  We will\n",
    "refer to these interchangeably as units or nodes, and sometimes as\n",
    "neurons.\n",
    "\n",
    "It is supposed to mimic a biological nervous system by letting each\n",
    "neuron interact with other neurons by sending signals in the form of\n",
    "mathematical functions between layers.  A wide variety of different\n",
    "ANNs have been developed, but most of them consist of an input layer,\n",
    "an output layer and eventual layers in-between, called *hidden\n",
    "layers*. All layers can contain an arbitrary number of nodes, and each\n",
    "connection between two nodes is associated with a weight variable.\n",
    "\n",
    "Neural networks (also called neural nets) are neural-inspired\n",
    "nonlinear models for supervised learning.  As we will see, neural nets\n",
    "can be viewed as natural, more powerful extensions of supervised\n",
    "learning methods such as linear and logistic regression and soft-max\n",
    "methods we discussed earlier.\n",
    "\n",
    "\n",
    "## Feed-forward neural networks\n",
    "\n",
    "The feed-forward neural network (FFNN) was the first and simplest type\n",
    "of ANNs that were devised. In this network, the information moves in\n",
    "only one direction: forward through the layers.\n",
    "\n",
    "Nodes are represented by circles, while the arrows display the\n",
    "connections between the nodes, including the direction of information\n",
    "flow. Additionally, each arrow corresponds to a weight variable\n",
    "(figure to come).  We observe that each node in a layer is connected\n",
    "to *all* nodes in the subsequent layer, making this a so-called\n",
    "*fully-connected* FFNN.\n",
    "\n",
    "\n",
    "\n",
    "## Convolutional Neural Network\n",
    "\n",
    "A different variant of FFNNs are *convolutional neural networks*\n",
    "(CNNs), which have a connectivity pattern inspired by the animal\n",
    "visual cortex. Individual neurons in the visual cortex only respond to\n",
    "stimuli from small sub-regions of the visual field, called a receptive\n",
    "field. This makes the neurons well-suited to exploit the strong\n",
    "spatially local correlation present in natural images. The response of\n",
    "each neuron can be approximated mathematically as a convolution\n",
    "operation.  (figure to come)\n",
    "\n",
    "Convolutional neural networks emulate the behaviour of neurons in the\n",
    "visual cortex by enforcing a *local* connectivity pattern between\n",
    "nodes of adjacent layers: Each node in a convolutional layer is\n",
    "connected only to a subset of the nodes in the previous layer, in\n",
    "contrast to the fully-connected FFNN.  Often, CNNs consist of several\n",
    "convolutional layers that learn local features of the input, with a\n",
    "fully-connected layer at the end, which gathers all the local data and\n",
    "produces the outputs. They have wide applications in image and video\n",
    "recognition.\n",
    "\n",
    "## Recurrent neural networks\n",
    "\n",
    "So far we have only mentioned ANNs where information flows in one\n",
    "direction: forward. *Recurrent neural networks* on the other hand,\n",
    "have connections between nodes that form directed *cycles*. This\n",
    "creates a form of internal memory which are able to capture\n",
    "information on what has been calculated before; the output is\n",
    "dependent on the previous computations. Recurrent NNs make use of\n",
    "sequential information by performing the same task for every element\n",
    "in a sequence, where each element depends on previous elements. An\n",
    "example of such information is sentences, making recurrent NNs\n",
    "especially well-suited for handwriting and speech recognition.\n",
    "\n",
    "## Other types of networks\n",
    "\n",
    "There are many other kinds of ANNs that have been developed. One type\n",
    "that is specifically designed for interpolation in multidimensional\n",
    "space is the radial basis function (RBF) network. RBFs are typically\n",
    "made up of three layers: an input layer, a hidden layer with\n",
    "non-linear radial symmetric activation functions and a linear output\n",
    "layer (''linear'' here means that each node in the output layer has a\n",
    "linear activation function). The layers are normally fully-connected\n",
    "and there are no cycles, thus RBFs can be viewed as a type of\n",
    "fully-connected FFNN. They are however usually treated as a separate\n",
    "type of NN due the unusual activation functions.\n"
   ]
  },
  {
   "cell_type": "markdown",
   "metadata": {},
   "source": [
    "# Multilayer perceptrons\n",
    "\n",
    "One uses often so-called fully-connected feed-forward neural networks\n",
    "with three or more layers (an input layer, one or more hidden layers\n",
    "and an output layer) consisting of neurons that have non-linear\n",
    "activation functions.\n",
    "\n",
    "Such networks are often called *multilayer perceptrons* (MLPs).\n",
    "\n",
    "<img src=\"neural-networks/multiple-output-nn.png\" width = 300>\n",
    "\n",
    "## Why multilayer perceptrons?\n",
    "\n",
    "According to the *Universal approximation theorem*, a feed-forward\n",
    "neural network with just a single hidden layer containing a finite\n",
    "number of neurons can approximate a continuous multidimensional\n",
    "function to arbitrary accuracy, assuming the activation function for\n",
    "the hidden layer is a **non-constant, bounded and\n",
    "monotonically-increasing continuous function**.\n",
    "\n",
    "Note that the requirements on the activation function only applies to\n",
    "the hidden layer, the output nodes are always assumed to be linear, so\n",
    "as to not restrict the range of output values."
   ]
  },
  {
   "cell_type": "markdown",
   "metadata": {},
   "source": [
    "### Universal Approximation Theorems\n",
    "\n",
    "Leshno and Schocken (1991) showed:\n",
    "\n",
    "– A neural network with one [possibly huge] hidden layer can uniformly approximate any continuous function on a compact set iff the activation function is not a polynomial (i.e. tanh, logistic, and ReLU all work, as do $\\sin$,$\\cos$, $\\exp$, etc.). \n",
    "\n",
    "• In more words:\n",
    "\n",
    "– Let $\\varphi(\\cdot)$ be any non-polynomial function (an activation function).Let K be any compact set in $\\mathbb R^{m}$. (Such as the unit hypercube $[0,1]^{m}$.)\n",
    "\n",
    "_ _ _ _ _ _ _ _ _ _ _ _ _ _ \n",
    "\n",
    "– Let $f:K\\to\\mathbb R$ be any continuous function on a compact set $K\\subset\\mathbb R^{m}$.\n",
    "\n",
    "_ _ _ _ _ _ _ _ _ _ _ _ _ _ \n",
    "\n",
    "– Then $\\forall\\epsilon>0$, there exists an integer N (the number of hidden units), and parameters $v_{i},b_{i}\\in\\mathbb R$ and $w_{i}\\in\\mathbb R^{m}$ such that the function $F(x)=\\sum_{i=1}^{N}v_{i}\\varphi(w_{i}^{T}x+b_{i})$ satisfies $\\left|F(x)-f(x)\\right|<\\epsilon$ for all $x\\in K$. \n",
    "\n",
    "_ _ _ _ _ _ _ _ _ _ _ _ _ _ \n",
    "\n",
    "• Leshno & Schocken note that this doesn't work without the bias $term b_{i}$ (they call it the threshold term). (e.g. consider $\\varphi=\\sin$: then we always have $F(-x)=-F(x))$ Hornik et al and concurrently by Cybenko in 1989 showed we get uniform approximation for activation functions that are nonconstant, bounded, nondecreasing, and continuous. These functions are known as squashing functions.). http://citeseerx.ist.psu.edu/viewdoc/download?doi=10.1.1.441.7873&rep=rep1&type=pdf Leshno: https://archive.nyu.edu/bitstream/2451/14384/1/IS-91-26.pdf points out that the bias term (they call the threshold) is essential."
   ]
  },
  {
   "cell_type": "markdown",
   "metadata": {},
   "source": [
    "###  Approximation Ability: $f(x)=x^{2}$\n",
    "\n",
    "• 3 hidden units; tanh activation functions \n",
    "\n",
    "• Blue dots are training points; Dashed lines are hidden unit outputs; Final output in Red.\n"
   ]
  },
  {
   "cell_type": "code",
   "execution_count": 5,
   "metadata": {},
   "outputs": [
    {
     "data": {
      "text/html": [
       "\n",
       "        <iframe\n",
       "            width=\"600\"\n",
       "            height=\"300\"\n",
       "            src=\"Figures/neural-networks/Figure5.3a.pdf\"\n",
       "            frameborder=\"0\"\n",
       "            allowfullscreen\n",
       "        ></iframe>\n",
       "        "
      ],
      "text/plain": [
       "<IPython.lib.display.IFrame at 0x20fcc956da0>"
      ]
     },
     "execution_count": 5,
     "metadata": {},
     "output_type": "execute_result"
    }
   ],
   "source": [
    "from IPython.display import IFrame\n",
    "IFrame(\"Figures/neural-networks/Figure5.3a.pdf\", width=600, height=300)"
   ]
  },
  {
   "cell_type": "markdown",
   "metadata": {},
   "source": [
    "## Mathematical model\n",
    "\n",
    "The output $y$ is produced via the activation function $f$\n",
    "\n",
    "$$y = f(\\sum_{i=1}^n w_i x_i) = f(u)$$\n",
    "\n",
    "This function receives $x_i$ as inputs.\n",
    "\n",
    "Generates the weighted sum from all previews neurons  $z=(\\sum_{i=1}^n w_ix_i+b_i)$. \n",
    "\n",
    "In an FFNN of such neurons, the *inputs* $x_i$ are the *outputs* of\n",
    "the neurons in the preceding layer. Furthermore, an MLP is\n",
    "fully-connected, which means that each neuron receives a weighted sum\n",
    "of the outputs of *all* neurons in the previous layer."
   ]
  },
  {
   "cell_type": "markdown",
   "metadata": {},
   "source": [
    "First, for each node $i$ in the first hidden layer, we calculate a weighted sum $z_i^1$ of the input coordinates $x_j$,\n",
    "\n",
    "\\begin{equation} z_i^1 = \\sum_{j=1}^{M} w_{ij}^1 x_j + b_i^1\n",
    "\\label{_auto1} \\tag{2}\n",
    "\\end{equation}\n",
    "\n",
    "Here $b_i$ is the so-called bias which is normally needed in\n",
    "case of zero activation weights or inputs. How to fix the biases and\n",
    "the weights will be discussed below.  The value of $z_i^1$ is the\n",
    "argument to the activation function $f_i$ of each node $i$, The\n",
    "variable $M$ stands for all possible inputs to a given node $i$ in the\n",
    "first layer.  We define  the output $y_i^1$ of all neurons in layer 1 as\n",
    "\n",
    "\\begin{equation}\n",
    " y_i^1 = f(z_i^1) = f\\left(\\sum_{j=1}^M w_{ij}^1 x_j  + b_i^1\\right)\n",
    "\\label{outputLayer1} \\tag{3}\n",
    "\\end{equation}\n",
    "\n",
    "where we assume that all nodes in the same layer have identical\n",
    "activation functions, hence the notation $f$. In general, we could assume in the more general case that different layers have different activation functions.\n",
    "In this case we would identify these functions with a superscript $l$ for the $l$-th layer,\n",
    "\n",
    "\\begin{equation}\n",
    " y_i^l = f^l(u_i^l) = f^l\\left(\\sum_{j=1}^{N_{l-1}} w_{ij}^l y_j^{l-1} + b_i^l\\right)\n",
    "\\label{generalLayer} \\tag{4}\n",
    "\\end{equation}\n",
    "\n",
    "where $N_l$ is the number of nodes in layer $l$. When the output of\n",
    "all the nodes in the first hidden layer are computed, the values of\n",
    "the subsequent layer can be calculated and so forth until the output\n",
    "is obtained."
   ]
  },
  {
   "cell_type": "markdown",
   "metadata": {},
   "source": [
    "## Mathematical model\n",
    "\n",
    "The output of neuron $i$ in layer 2 is thus,\n",
    "\n",
    "\\begin{equation}\n",
    " y_i^2 = f^2\\left(\\sum_{j=1}^N w_{ij}^2 y_j^1 + b_i^2\\right) \n",
    "\\label{_auto2} \\tag{5}\n",
    "\\end{equation}\n",
    "\n",
    "\n",
    "\\begin{equation} \n",
    " = f^2\\left[\\sum_{j=1}^N w_{ij}^2f^1\\left(\\sum_{k=1}^M w_{jk}^1 x_k + b_j^1\\right) + b_i^2\\right]\n",
    "\\label{outputLayer2} \\tag{6}\n",
    "\\end{equation}\n",
    "\n",
    "where we have substituted $y_k^1$ with the inputs $x_k$. Finally, the ANN output reads\n",
    "\n",
    "\\begin{equation}\n",
    " y_i^3 = f^3\\left(\\sum_{j=1}^N w_{ij}^3 y_j^2 + b_i^3\\right) \n",
    "\\label{_auto3} \\tag{7}\n",
    "\\end{equation}\n",
    "\n",
    "\\begin{equation} \n",
    " = f_3\\left[\\sum_{j} w_{ij}^3 f^2\\left(\\sum_{k} w_{jk}^2 f^1\\left(\\sum_{m} w_{km}^1 x_m + b_k^1\\right) + b_j^2\\right)\n",
    "  + b_1^3\\right]\n",
    "\\label{_auto4} \\tag{8}\n",
    "\\end{equation}\n",
    "\n",
    "We can generalize this expression to an MLP with $l$ hidden\n",
    "layers. The complete functional form is,\n",
    "\n",
    "\\begin{equation}\n",
    "y^{l+1}_i = f^{l+1}\\left[\\!\\sum_{j=1}^{N_l} w_{ij}^3 f^l\\left(\\sum_{k=1}^{N_{l-1}}w_{jk}^{l-1}\\left(\\dots f^1\\left(\\sum_{n=1}^{N_0} w_{mn}^1 x_n+ b_m^1\\right)\\dots\\right)+b_k^2\\right)+b_1^3\\right] \n",
    "\\label{completeNN} \\tag{9}\n",
    "\\end{equation}\n",
    "\n",
    "\n",
    "which illustrates a basic property of MLPs: The only independent\n",
    "variables are the input values $x_n$.\n",
    "\n",
    "## Mathematical model\n",
    "\n",
    "This confirms that an MLP, despite its quite convoluted mathematical\n",
    "form, is nothing more than an analytic function, specifically a\n",
    "mapping of real-valued vectors $\\hat{x} \\in \\mathbb{R}^n \\rightarrow\n",
    "\\hat{y} \\in \\mathbb{R}^m$.\n",
    "\n",
    "Furthermore, the flexibility and universality of an MLP can be\n",
    "illustrated by realizing that the expression is essentially a nested\n",
    "sum of scaled activation functions of the form\n",
    "\n",
    "\n",
    "\\begin{equation}\n",
    " f(x) = c_1 f(c_2 x + c_3) + c_4\n",
    "\\label{_auto5} \\tag{10}\n",
    "\\end{equation}\n",
    "\n",
    "where the parameters $c_i$ are weights and biases. By adjusting these\n",
    "parameters, the activation functions can be shifted up and down or\n",
    "left and right, change slope or be rescaled which is the key to the\n",
    "flexibility of a neural network."
   ]
  },
  {
   "cell_type": "markdown",
   "metadata": {},
   "source": [
    "### Matrix-vector notation\n",
    "\n",
    "We can introduce a more convenient notation for the activations in an A NN. \n",
    "\n",
    "Additionally, we can represent the biases and activations\n",
    "as layer-wise column vectors $\\hat{b}_l$ and $\\hat{y}_l$, so that the $i$-th element of each vector \n",
    "is the bias $b_i^l$ and activation $y_i^l$ of node $i$ in layer $l$ respectively. \n",
    "\n",
    "We have that $\\mathrm{W}_l$ is an $N_{l-1} \\times N_l$ matrix, while $\\hat{b}_l$ and $\\hat{y}_l$ are $N_l \\times 1$ column vectors. \n",
    "With this notation, the sum becomes a matrix-vector multiplication, and we can write\n",
    "the equation for the activations of hidden layer 2 (assuming three nodes for simplicity) as\n",
    "\n",
    "\\begin{equation}\n",
    " \\hat{y}_2 = f_2(\\mathrm{W}_2 \\hat{y}_{1} + \\hat{b}_{2}) = \n",
    " f_2\\left(\\left[\\begin{array}{ccc}\n",
    "    w^2_{11} &w^2_{12} &w^2_{13} \\\\\n",
    "    w^2_{21} &w^2_{22} &w^2_{23} \\\\\n",
    "    w^2_{31} &w^2_{32} &w^2_{33} \\\\\n",
    "    \\end{array} \\right] \\cdot\n",
    "    \\left[\\begin{array}{c}\n",
    "           y^1_1 \\\\\n",
    "           y^1_2 \\\\\n",
    "           y^1_3 \\\\\n",
    "          \\end{array}\\right] + \n",
    "    \\left[\\begin{array}{c}\n",
    "           b^2_1 \\\\\n",
    "           b^2_2 \\\\\n",
    "           b^2_3 \\\\\n",
    "          \\end{array}\\right]\\right).\n",
    "\\label{_auto6} \\tag{11}\n",
    "\\end{equation}\n",
    "\n",
    "### Matrix-vector notation  and activation\n",
    "\n",
    "The activation of node $i$ in layer 2 is\n",
    "\n",
    "\\begin{equation}\n",
    " y^2_i = f_2\\Bigr(w^2_{i1}y^1_1 + w^2_{i2}y^1_2 + w^2_{i3}y^1_3 + b^2_i\\Bigr) = \n",
    " f_2\\left(\\sum_{j=1}^3 w^2_{ij} y_j^1 + b^2_i\\right).\n",
    "\\label{_auto7} \\tag{12}\n",
    "\\end{equation}\n",
    "\n",
    "This is not just a convenient and compact notation, but also a useful\n",
    "and intuitive way to think about MLPs: The output is calculated by a\n",
    "series of matrix-vector multiplications and vector additions that are\n",
    "used as input to the activation functions. For each operation\n",
    "$\\mathrm{W}_l \\hat{y}_{l-1}$ we move forward one layer.\n",
    "\n",
    "\n",
    "### Activation functions\n",
    "\n",
    "A property that characterizes a neural network, other than its\n",
    "connectivity, is the choice of activation function(s).  As described\n",
    "in, the following restrictions are imposed on an activation function\n",
    "for a FFNN to fulfill the universal approximation theorem\n",
    "\n",
    "  * Non-constant\n",
    "\n",
    "  * Bounded\n",
    "\n",
    "  * Monotonically-increasing\n",
    "\n",
    "  * Continuous\n",
    "\n",
    "### Activation functions, Logistic and Hyperbolic ones\n",
    "\n",
    "The second requirement excludes all linear functions. Furthermore, in\n",
    "a MLP with only linear activation functions, each layer simply\n",
    "performs a linear transformation of its inputs.\n",
    "\n",
    "Regardless of the number of layers, the output of the NN will be\n",
    "nothing but a linear function of the inputs. Thus we need to introduce\n",
    "some kind of non-linearity to the NN to be able to fit non-linear\n",
    "functions Typical examples are the logistic *Sigmoid*"
   ]
  },
  {
   "cell_type": "code",
   "execution_count": 6,
   "metadata": {},
   "outputs": [
    {
     "data": {
      "image/png": "[encoded data removed]",
      "text/plain": [
       "<Figure size 432x288 with 1 Axes>"
      ]
     },
     "metadata": {
      "needs_background": "light"
     },
     "output_type": "display_data"
    },
    {
     "data": {
      "image/png": "[encoded data removed]",
      "text/plain": [
       "<Figure size 432x288 with 1 Axes>"
      ]
     },
     "metadata": {
      "needs_background": "light"
     },
     "output_type": "display_data"
    },
    {
     "data": {
      "image/png": "[encoded data removed]",
      "text/plain": [
       "<Figure size 432x288 with 1 Axes>"
      ]
     },
     "metadata": {
      "needs_background": "light"
     },
     "output_type": "display_data"
    },
    {
     "data": {
      "image/png": "[encoded data removed]",
      "text/plain": [
       "<Figure size 432x288 with 1 Axes>"
      ]
     },
     "metadata": {
      "needs_background": "light"
     },
     "output_type": "display_data"
    }
   ],
   "source": [
    "%matplotlib inline\n",
    "\n",
    "\"\"\"The sigmoid function (or the logistic curve) is a \n",
    "function that takes any real number, z, and outputs a number (0,1).\n",
    "It is useful in neural networks for assigning weights on a relative scale.\n",
    "The value z is the weighted sum of parameters involved in the learning algorithm.\"\"\"\n",
    "\n",
    "import numpy\n",
    "import matplotlib.pyplot as plt\n",
    "import math as mt\n",
    "\n",
    "z = numpy.arange(-5, 5, .1)\n",
    "sigma_fn = numpy.vectorize(lambda z: 1/(1+numpy.exp(-z)))\n",
    "sigma = sigma_fn(z)\n",
    "\n",
    "fig = plt.figure()\n",
    "ax = fig.add_subplot(111)\n",
    "ax.plot(z, sigma)\n",
    "ax.set_ylim([-0.1, 1.1])\n",
    "ax.set_xlim([-5,5])\n",
    "ax.grid(True)\n",
    "ax.set_xlabel('z')\n",
    "ax.set_title('sigmoid function')\n",
    "\n",
    "plt.show()\n",
    "\n",
    "\"\"\"Step Function\"\"\"\n",
    "z = numpy.arange(-5, 5, .02)\n",
    "step_fn = numpy.vectorize(lambda z: 1.0 if z >= 0.0 else 0.0)\n",
    "step = step_fn(z)\n",
    "\n",
    "fig = plt.figure()\n",
    "ax = fig.add_subplot(111)\n",
    "ax.plot(z, step)\n",
    "ax.set_ylim([-0.5, 1.5])\n",
    "ax.set_xlim([-5,5])\n",
    "ax.grid(True)\n",
    "ax.set_xlabel('z')\n",
    "ax.set_title('step function')\n",
    "\n",
    "plt.show()\n",
    "\n",
    "\"\"\"Sine Function\"\"\"\n",
    "z = numpy.arange(-2*mt.pi, 2*mt.pi, 0.1)\n",
    "t = numpy.sin(z)\n",
    "\n",
    "fig = plt.figure()\n",
    "ax = fig.add_subplot(111)\n",
    "ax.plot(z, t)\n",
    "ax.set_ylim([-1.0, 1.0])\n",
    "ax.set_xlim([-2*mt.pi,2*mt.pi])\n",
    "ax.grid(True)\n",
    "ax.set_xlabel('z')\n",
    "ax.set_title('sine function')\n",
    "\n",
    "plt.show()\n",
    "\n",
    "\"\"\"Plots a graph of the squashing function used by a rectified linear\n",
    "unit\"\"\"\n",
    "z = numpy.arange(-2, 2, .1)\n",
    "zero = numpy.zeros(len(z))\n",
    "y = numpy.max([zero, z], axis=0)\n",
    "\n",
    "fig = plt.figure()\n",
    "ax = fig.add_subplot(111)\n",
    "ax.plot(z, y)\n",
    "ax.set_ylim([-2.0, 2.0])\n",
    "ax.set_xlim([-2.0, 2.0])\n",
    "ax.grid(True)\n",
    "ax.set_xlabel('z')\n",
    "ax.set_title('Rectified linear unit')\n",
    "\n",
    "plt.show()"
   ]
  },
  {
   "cell_type": "markdown",
   "metadata": {},
   "source": [
    "## Approximation Properties of Multilayer Perceptrons"
   ]
  },
  {
   "cell_type": "markdown",
   "metadata": {},
   "source": [
    "## Review: Multinomial Logistic Regression\n",
    "\n"
   ]
  },
  {
   "cell_type": "markdown",
   "metadata": {},
   "source": [
    "### Recall: Multinomial Logistic Regression\n",
    "\n",
    "• Setting: $\\mathcal X=\\mathbb R^{d}, \\mathcal Y=\\left\\{ 1,\\ldots,k\\right\\} $\n",
    "\n",
    "_ _ _ _ _ _ _ _ _ _ _ _ _ _ \n",
    "\n",
    "• For each x, we want to produce a distribution on k classes.\n",
    "\n",
    "_ _ _ _ _ _ _ _ _ _ _ _ _ _ \n",
    "\n",
    "• Such a distribution is called a “multinoulli” or “categorical” distribution.\n",
    "\n",
    "_ _ _ _ _ _ _ _ _ _ _ _ _ _ \n",
    "\n",
    "• Represent categorical distribution by probability vector $\\theta=\\left(\\theta_{1},\\ldots,\\theta_{k}\\right)\\in\\mathbb R^{k}$, where\n",
    "_ _ _ _ _ _ _ _ _ _ _ _ _ _ \n",
    " -  $\\sum_{y=1}^{k}\\theta_{y}=1$ and $\\theta_{y}\\ge0$ for $y\\in\\left\\{ 1,\\ldots,k\\right\\}$ "
   ]
  },
  {
   "cell_type": "markdown",
   "metadata": {},
   "source": [
    "### Multinomial Logistic Regression\n",
    "\n",
    "• From each x, we compute a linear score function for each class: \n",
    "\n",
    "$$x\\mapsto\\left(\\left\\langle w_{1},x\\right\\rangle ,\\ldots,\\left\\langle w_{k},x\\right\\rangle \\right)\\in\\mathbb R^{k}$$\n",
    "\n",
    "• We need to map this $\\mathbb R^{k}$ vector into a probability vector $\\theta$.\n",
    "\n",
    "_ _ _ _ _ _ _ _ _ _ _ _ _ _ \n",
    "\n",
    "• The __softmax function__ maps scores $s=\\left(s_{1},\\ldots,s_{k}\\right)\\in\\mathbb R^{k}$ to a categorical distribution: \n",
    "\n",
    "$$\\left(s_{1},\\ldots,s_{k}\\right)\\mapsto\\theta=\\textrm {softmax}\\left(s_{1},\\ldots,s_{k}\\right)=\\left(\\frac{\\exp\\left(s_{1}\\right)}{\\sum_{i=1}^{k}\\exp\\left(s_{i}\\right)},\\ldots,\\frac{\\exp\\left(s_{k}\\right)}{\\sum_{i=1}^{k}\\exp\\left(s_{i}\\right)}\\right)$$\n",
    "\n"
   ]
  },
  {
   "cell_type": "markdown",
   "metadata": {},
   "source": [
    "## Multinomial Logistic Regression: Learning\n",
    "\n",
    "• Let $y\\in\\left\\{ 1,\\ldots,k\\right\\}$  be an index denoting a class.\n",
    "\n",
    "• Then predicted probability for class $y$ given $x$ is \n",
    "\n",
    "$$\\hat{p}(y\\mid x)=\\textrm{softmax}\\left(\\left\\langle w_{1},x\\right\\rangle ,\\ldots,\\left\\langle w_{k},x\\right\\rangle \\right)_{y}$$\n",
    ",where the $y$ subscript indicates taking the $y$'th entry of the vector produced $\\textrm{softmax}$.\n",
    "\n",
    "_ _ _ _ _ _ _ _ _ _ _ _ _ _ \n",
    "\n",
    "• __Learning__: Maximize the log-likelihood of training data\n",
    "\n",
    "$$\\textrm{argmax}_{w_{1},\\ldots,w_{k}\\in\\mathbb R^{d}}\\sum_{i=1}^{n}\\log\\left[\\textrm{softmax}\\left(\\left\\langle w_{1},x_{i}\\right\\rangle ,\\ldots,\\left\\langle w_{k},x_{i}\\right\\rangle \\right)_{y_{i}}\\right]$$.\n",
    "\n",
    "_ _ _ _ _ _ _ _ _ _ _ _ _ _ \n",
    "\n",
    "• This objective function is concave in $w$'s and straightforward to optimize."
   ]
  },
  {
   "cell_type": "markdown",
   "metadata": {},
   "source": [
    "## Standard MLP for Multiclass\n",
    "\n",
    "### Nonlinear Generalization of Multinomial Logistic Regression\n",
    "\n",
    "Could make each class a separate task / output.\n",
    "\n",
    "• Key change: Rather than k linear score functions\n",
    "\n",
    "$$x\\mapsto\\left(\\left\\langle w_{1},x\\right\\rangle ,\\ldots,\\left\\langle w_{k},x\\right\\rangle \\right)\\in\\mathbb R^{k}$$,\n",
    "\n",
    "use nonlinear score functions:\n",
    "\n",
    "$$x\\mapsto\\left(f_{1}(x),\\ldots,f_{k}(x)\\right)\\in\\mathbb R^{k}$$,\n",
    "\n",
    "• Then predicted probability for class $y\\in\\left\\{ 1,\\ldots,k\\right\\}$  given x is \n",
    "$$\\hat{p}(y\\mid x)=\\textrm {softmax}\\left(f_{1}(x),\\ldots,f_{k}(x)\\right)_{y}$$."
   ]
  },
  {
   "cell_type": "markdown",
   "metadata": {},
   "source": [
    "## Nonlinear Generalization of Multinomial Logistic Regression\n",
    "\n",
    "• __Learning__: Maximize the log-likelihood of training data\n",
    "\n",
    "$$\\textrm{ argmax}_{f_{1},\\ldots,f_{k}}\\sum_{i=1}^{n}\\log\\left[\\textrm{softmax}\\left(f_{1}(x),\\ldots,f_{k}(x)\\right)_{y_{i}}\\right]$$.\n",
    "\n",
    "_ _ _ _ _ _ _ _ _ _ _ _ _ _ \n",
    "\n",
    "• We could use gradient boosting to get $f_{i}$'s as ensembles of regression trees.\n",
    "\n",
    "_ _ _ _ _ _ _ _ _ _ _ _ _ _ \n",
    "\n",
    "• Today we'll learn to use a multilayer perceptron for $f:\\mathbb R^{d}\\to\\mathbb R^{k}$.\n",
    "\n",
    "_ _ _ _ _ _ _ _ _ _ _ _ _ _ \n",
    "\n",
    "• Unfortunately, this objective function will not be concave or convex. \n",
    "\n",
    "_ _ _ _ _ _ _ _ _ _ _ _ _ _ \n",
    "\n",
    "• But we can still use gradient methods to find a good local optimum."
   ]
  },
  {
   "cell_type": "markdown",
   "metadata": {},
   "source": [
    "## Multilayer Perceptron: Standard Recipe\n",
    "\n",
    "• __Input space__: $\\mathcal X=\\mathbb R^{d}$ __Action space__ $\\mathcal A =\\mathbb R^{k}$ (for k-class classification).\n",
    "\n",
    "_ _ _ _ _ _ _ _ _ _ _ _ _ _ \n",
    "\n",
    "• Let $\\sigma:\\mathbb R\\to\\mathbb R$ be a non-polynomial activation function (e.g. $\\tanh$ or ReLU).\n",
    "\n",
    "_ _ _ _ _ _ _ _ _ _ _ _ _ _ \n",
    "\n",
    "• Let's take all hidden layers to have m units.\n",
    "\n",
    "_ _ _ _ _ _ _ _ _ _ _ _ _ _ \n",
    "\n",
    "• First hidden layer is given by \n",
    "\n",
    "$$h^{(1)}(x)=\\sigma\\left(W^{(1)}x+b^{(1)}\\right),$$ \n",
    "for parameters $W^{(1)}\\in\\mathbb R^{m\\times d}$ and $b\\in\\mathbb R^{m}$, and where $\\sigma\\left(\\cdot\\right)$ is applied to each entry of its argument."
   ]
  },
  {
   "cell_type": "markdown",
   "metadata": {},
   "source": [
    "## Neural networks\n",
    "\n",
    "Neural networks are a simply a machine learning algorithm with a more complex hypothesis class, directly incorporating non-linearity (in the parameters)\n",
    "\n",
    "__Example__: neural network for logistic regression\n",
    "\n",
    "Frame Linear Prediction Functions\n",
    "\n",
    "• Linear prediction functions: SVM, ridge regression, Lasso\n",
    "\n",
    "• Generate the feature vector $\\phi(x)$ by hand.\n",
    "\n",
    "_ _ _ _ _ _ _ _ _ _ _ _ _ _ \n",
    "\n",
    "• Learn parameter vector w from data.\n",
    "\n",
    "\n",
    "<img src=\"neural-networks/linear-classifier.png\" width = 300>\n",
    "\n",
    "• So for $w\\in\\mathbb R^{3}$, $\\text{score}=\\sigma(w^{T}\\phi(x))$ where $\\sigma$ is an activation function."
   ]
  },
  {
   "cell_type": "markdown",
   "metadata": {},
   "source": [
    "## Basic Neural Network (Multilayer Perceptron)\n",
    "\n",
    "• Add an extra layer with hidden nodes $h_{1}$ and $h_{2}$:\n",
    "\n",
    "<img src=\"neural-networks/neural-network-percy.png\" width = 300>\n",
    "\n",
    "\n",
    "_ _ _ _ _ _ _ _ _ _ _ _ _ _ \n",
    "\n",
    "• For parameter vector $v_{i}\\in\\mathbb R^{3}$, define $h_{i}=\\sigma\\left(v_{i}^{T}\\phi(x)\\right)$,where $\\sigma$ is a nonlinear activation function. "
   ]
  },
  {
   "cell_type": "markdown",
   "metadata": {},
   "source": [
    "## Basic Neural Network (Multilayer Perceptron)\n",
    "\n",
    "\n",
    "<img src=\"neural-networks/neural-network-percy.png\" width = 300>\n",
    "\n",
    "• For parameters $w_{1},w_{2}\\in\\mathbb R$, score is just \n",
    "\n",
    "$\\text{score}\t=\tw_{1}h_{1}+w_{2}h_{2} =\tw_{1}\\sigma(v_{1}^{T}\\phi(x))+w_{2}\\sigma\\left(v_{2}^{T}\\phi(x)\\right)$\n",
    "\n",
    "_ _ _ _ _ _ _ _ _ _ _ _ _ _ \n",
    "\n",
    "• This is the basic recipe.\n",
    "\n",
    "– We can add more hidden layers. (>1 hidden layer is a “deep network”.) "
   ]
  },
  {
   "cell_type": "markdown",
   "metadata": {},
   "source": [
    "## Activation Functions\n",
    "\n",
    "\n",
    "• The nonlinearity of the activation function is a key ingredient.\n",
    "\n",
    "• The logistic sigmoid function is a classic activation function:$\\sigma(x)=\\frac{1}{1+e^{-x}}$.\n",
    "\n",
    "<img src=\"neural-networks/activationFn-Sigmoid.png\" width = 500>\n",
    "\n"
   ]
  },
  {
   "cell_type": "markdown",
   "metadata": {},
   "source": [
    "## Activation Functions\n",
    "\n",
    "\n",
    "\n",
    "• The hyperbolic tangent is a common activation function these days:  $\\sigma(x)=\\tanh\\left(x\\right)$.\n",
    "\n",
    "<img src=\"neural-networks/activationFn-Tanh.png\" width = 500>\n",
    "\n",
    "\n",
    " _ _ _ _ _ _ _ _ _ _ _ _ _ _ \n",
    " \n",
    " • (Shape exactly the same – notice just the axis scales have changed)"
   ]
  },
  {
   "cell_type": "markdown",
   "metadata": {},
   "source": [
    "## Activation Functions\n",
    "\n",
    "• More recently, the rectified linear function has been very popular:$\\sigma(x)=\\max(0,x)$.\n",
    "\n",
    "• “ReLU” is much faster to calculate, and to calculate its derivatives.\n",
    "\n",
    "• Also often seems to work better.\n",
    "\n",
    " <img src=\"neural-networks/activationFn-Rectified_Linear.png\" width = 500>"
   ]
  },
  {
   "cell_type": "markdown",
   "metadata": {},
   "source": [
    "## Activations Functions\n",
    "$$a^i_j = \\sigma(x^i_j) = \\frac{\\exp(z^i_j)}{\\sum\\limits_k \\exp(z^i_k)}$$\n",
    "\n",
    "\n",
    "<img src=\"softmax.png\" width = 800>"
   ]
  },
  {
   "cell_type": "code",
   "execution_count": 7,
   "metadata": {},
   "outputs": [
    {
     "data": {
      "image/png": "[encoded data removed]",
      "text/plain": [
       "<Figure size 432x288 with 1 Axes>"
      ]
     },
     "metadata": {
      "needs_background": "light"
     },
     "output_type": "display_data"
    }
   ],
   "source": [
    "x = [-3, -2, -1, 0, 1, 2, 3]\n",
    "y = [2, 2, 2, 2, 2.9, 2.9, 2.9]\n",
    "plt.plot(np.exp(x) / np.sum(np.exp(x)))\n",
    "plt.grid(True)\n",
    "plt.xlabel('x', fontsize=15)\n",
    "plt.ylabel('f(x)', fontsize=15)\n",
    "plt.savefig('softmax.svg', format='svg')"
   ]
  },
  {
   "cell_type": "markdown",
   "metadata": {},
   "source": [
    "## List of Activation Functions\n",
    "<img src=\"activation_functions.png\" width = 500>"
   ]
  },
  {
   "cell_type": "markdown",
   "metadata": {},
   "source": [
    "## Graphs of Derivatives Activation Functions\n",
    "<img src=\"derivatives_activation.png\" width = 500>"
   ]
  },
  {
   "cell_type": "markdown",
   "metadata": {},
   "source": [
    "## Architectures are often shown graphically\n",
    "\n",
    "<img src=\"./image_files/nn_structure.png\" width = 300>\n",
    "\n",
    "Middle layer $a$ is referred to as the hidden layer, there is nothing in the data that prescribes what values these should take, left up to the algorithm to decide\n",
    "\n",
    "Viewed another way: neural networks are like linear classifiers where the features themselves are also learned\n",
    "\n",
    "__Pros__\n",
    "\n",
    "- No need to manually engineer good features, just let the machine learning algorithm handle this part\n",
    "\n",
    "- It turns out that a 3-layer network is a universal function approximator, any non-linear function can be represented with a 3-layer network with a large enough hidden layer\n",
    "\n",
    "__Cons__\n",
    "\n",
    "- Minimizing loss on training data is no longer a convex optimization problem in parameters $\\theta$\n",
    "\n",
    "- Still need to engineer a good architecture (more on this shortly)"
   ]
  },
  {
   "cell_type": "markdown",
   "metadata": {},
   "source": [
    "__Example__: neural network with one hidden layer\n",
    "\n",
    "$$h_{\\theta}(x) = \\Theta^{(2)} f\\left( \\Theta^{(1)}x\\right)$$\n",
    "\n",
    "where $\\Theta^{(1)} \\in \\mathbb{R}^{k \\times n}, \\Theta^{(2)} \\in \\mathbb{R}^{1 \\times k}$ and $f$ is some non-linear function applied elementwise to a vector (common choice is \"tanh\" function $\\tanh(x) = \\frac{1 - e^{-2x}}{1+e^{-2x}}$)\n",
    "\n",
    "<img src=\"./image_files/tanh.png\" width = 300>"
   ]
  },
  {
   "cell_type": "markdown",
   "metadata": {},
   "source": [
    "# Example: Regression with Multilayer Perceptrons (MLPs)\n",
    "\n",
    "## MLP Regression \n",
    "\n",
    "• Input space: $\\mathcal X=\\mathbb R$ \n",
    "\n",
    "• Action Space / Output space: $\\mathcal A=\\mathcal Y=\\mathbb R$\n",
    "\n",
    "_ _ _ _ _ _ _ _ _ _ _ _ _ _ \n",
    "\n",
    "• Hypothesis space: MLPs with a single 3-node hidden layer:\n",
    "\n",
    "$f(x)=w_{0}+w_{1}h_{1}(x)+w_{2}h_{2}(x)+w_{3}h_{3}(x)$,\n",
    "\n",
    "where \n",
    "\n",
    "$h_{i}(x)=\\sigma(v_{i}x+b_{i})\\text{ for }i=1,2,3$,\n",
    "\n",
    "for some fixed nonlinear “activation function” $\\sigma:\\mathbb R\\to\\mathbb R$. \n",
    "\n",
    "_ _ _ _ _ _ _ _ _ _ _ _ _ _ \n",
    "\n",
    "• What are the parameters we need to fit?\n",
    "\n",
    "$b_{1},b_{2},b_{3},v_{1},v_{2},v_{3},w_{0},w_{1},w_{2},w_{3}\\in\\mathbb R$"
   ]
  },
  {
   "cell_type": "markdown",
   "metadata": {},
   "source": [
    "## Multilayer Perceptron for $f:\\mathbb R\\to\\mathbb R$\n",
    "\n",
    "• MLP with one hidden layer; $\\sigma$ typically activation functions $\\tanh$ or $\\text{RELU}$; $x,h_{1},h_{2},h_{3,}\\hat{y}\\in\\mathbb R$.\n",
    "\n",
    "\n",
    "<img src=\"neural-networks/mlp-1d-regression.png\" width = 300>"
   ]
  },
  {
   "cell_type": "markdown",
   "metadata": {},
   "source": [
    "## Hidden Layer as Feature/Basis Functions\n",
    "\n",
    "• Can think of $h_{i}=h_{i}(x)=\\sigma(v_{i}x+b_{i})$ as a feature of $x$.\n",
    "\n",
    "– Learned by fitting the parameters $v_{i}$ and $b_{i}$.\n",
    "\n",
    "_ _ _ _ _ _ _ _ _ _ _ _ _ _ \n",
    "\n",
    "• Here are some $h_{i}(x)$'s for $\\sigma=\\tanh$ and randomly chosen $v_{i}$ and $b_{i}$:\n",
    "\n",
    "\n",
    "<img src=\"neural-networks/tanh-hidden-functions.png\" width = 300>"
   ]
  },
  {
   "cell_type": "markdown",
   "metadata": {},
   "source": [
    "## Samples from the Hypothesis Space\n",
    "\n",
    "• Choosing 6 sets of random settings for $b_{1},b_{2},b_{3},v_{1},v_{2},v_{3},w_{0},w_{1},w_{2},w_{3}\\in\\mathbb R$, we get the following score functions:\n",
    "\n",
    "<img src=\"Figures/neural-networks/random-NN-scorefns.png\" width = 300>"
   ]
  },
  {
   "cell_type": "markdown",
   "metadata": {},
   "source": [
    "## How to choose the best hypothesis?\n",
    "\n",
    "• As usual, choose our prediction function using empirical risk minimization.\n",
    "\n",
    "_ _ _ _ _ _ _ _ _ _ _ _ _ _ \n",
    "\n",
    "• Our hypothesis space is parameterized by \n",
    "\n",
    "$\\theta=\\left(b_{1},b_{2},b_{3},v_{1},v_{2},v_{3},w_{0},w_{1},w_{2},w_{3}\\right)\\in\\Theta=\\mathbb R^{10}$.\n",
    "\n",
    "_ _ _ _ _ _ _ _ _ _ _ _ _ _ \n",
    "\n",
    "• For a training set $(x_{1},y_{1}),\\ldots,(x_{n},y_{n})$, find\n",
    "\n",
    "$$\\hat{\\theta}=\\textrm {argmin}_{\\theta\\in\\mathbb R^{10}}\\frac{1}{n}\\sum_{i=1}^{n}\\left(f_{\\theta}(x_{i})-y_{i}\\right)^{2}$$.\n",
    "\n",
    "_ _ _ _ _ _ _ _ _ _ _ _ _ _ \n",
    "\n",
    "• Do we have the tools to find $\\hat{\\theta}$?\n",
    "\n",
    "_ _ _ _ _ _ _ _ _ _ _ _ _ _ \n",
    "\n",
    "• Not quite, but close enough..."
   ]
  },
  {
   "cell_type": "markdown",
   "metadata": {},
   "source": [
    "## Gradient Methods for MLPs\n",
    "\n",
    "• Note that\n",
    "\n",
    "$$f(x)\t=\tw_{0}+\\sum_{i=1}^{3}w_{i}h_{i}(x) =\tw_{0}+\\sum_{i=1}^{3}w_{i}\\tanh(v_{i}x+b_{i})$$\n",
    "\n",
    "is differentiable w.r.t. all parameters.\n",
    "\n",
    "_ _ _ _ _ _ _ _ _ _ _ _ _ _ \n",
    "\n",
    "• We can use gradient-based methods as usual.\n",
    "\n",
    "_ _ _ _ _ _ _ _ _ _ _ _ _ _ \n",
    "\n",
    "• However, the objective function is not convex w.r.t. parameters.\n",
    "\n",
    "_ _ _ _ _ _ _ _ _ _ _ _ _ _ \n",
    "\n",
    "• So we can only hope to converge to a local minimum.\n",
    "\n",
    "_ _ _ _ _ _ _ _ _ _ _ _ _ _ \n",
    "\n",
    "• In practice, this seems to be good enough."
   ]
  },
  {
   "cell_type": "markdown",
   "metadata": {},
   "source": [
    "###  Approximation Ability: $f(x)=x^{2}$\n",
    "\n",
    "• 3 hidden units; tanh activation functions \n",
    "\n",
    "• Blue dots are training points; Dashed lines are hidden unit outputs; Final output in Red.\n"
   ]
  },
  {
   "cell_type": "code",
   "execution_count": 1,
   "metadata": {},
   "outputs": [
    {
     "data": {
      "text/html": [
       "\n",
       "        <iframe\n",
       "            width=\"600\"\n",
       "            height=\"300\"\n",
       "            src=\"Figures/neural-networks/Figure5.3a.pdf\"\n",
       "            frameborder=\"0\"\n",
       "            allowfullscreen\n",
       "        ></iframe>\n",
       "        "
      ],
      "text/plain": [
       "<IPython.lib.display.IFrame at 0x20fcc956e80>"
      ]
     },
     "execution_count": 1,
     "metadata": {},
     "output_type": "execute_result"
    }
   ],
   "source": [
    "from IPython.display import IFrame\n",
    "IFrame(\"neural-networks/Figure5.3a.pdf\", width=600, height=300)"
   ]
  },
  {
   "cell_type": "markdown",
   "metadata": {},
   "source": [
    "### Approximation Ability: $f(x)=\\sin(x)$\n",
    "\n",
    "• 3 hidden units; logistic activation function\n",
    "\n",
    "• Blue dots are training points; Dashed lines are hidden unit outputs; Final output in Red.\n",
    "\n"
   ]
  },
  {
   "cell_type": "code",
   "execution_count": 2,
   "metadata": {},
   "outputs": [
    {
     "data": {
      "text/html": [
       "\n",
       "        <iframe\n",
       "            width=\"600\"\n",
       "            height=\"300\"\n",
       "            src=\"Figures/neural-networks/Figure5.3b.pdf\"\n",
       "            frameborder=\"0\"\n",
       "            allowfullscreen\n",
       "        ></iframe>\n",
       "        "
      ],
      "text/plain": [
       "<IPython.lib.display.IFrame at 0x20fcc956a90>"
      ]
     },
     "execution_count": 2,
     "metadata": {},
     "output_type": "execute_result"
    }
   ],
   "source": [
    "from IPython.display import IFrame\n",
    "IFrame(\"Figures/neural-networks/Figure5.3b.pdf\", width=600, height=300)"
   ]
  },
  {
   "cell_type": "markdown",
   "metadata": {},
   "source": [
    "### Approximation Ability: $f(x)=\\left|x\\right|$\n",
    "\n",
    "• 3 hidden units; logistic activation functions \n",
    "\n",
    "• Blue dots are training points; Dashed lines are hidden unit outputs; Final output in Red."
   ]
  },
  {
   "cell_type": "code",
   "execution_count": 3,
   "metadata": {},
   "outputs": [
    {
     "data": {
      "text/html": [
       "\n",
       "        <iframe\n",
       "            width=\"600\"\n",
       "            height=\"300\"\n",
       "            src=\"Figures/neural-networks/Figure5.3c.pdf\"\n",
       "            frameborder=\"0\"\n",
       "            allowfullscreen\n",
       "        ></iframe>\n",
       "        "
      ],
      "text/plain": [
       "<IPython.lib.display.IFrame at 0x20fcc9565f8>"
      ]
     },
     "execution_count": 3,
     "metadata": {},
     "output_type": "execute_result"
    }
   ],
   "source": [
    "from IPython.display import IFrame\n",
    "IFrame(\"Figures/neural-networks/Figure5.3c.pdf\", width=600, height=300)"
   ]
  },
  {
   "cell_type": "markdown",
   "metadata": {},
   "source": [
    "## Approximation Ability: $f(x)= 1 {x>0}$\n",
    "\n",
    "• 3 hidden units; logistic activation function\n",
    "\n",
    "• Blue dots are training points; Dashed lines are hidden unit outputs; Final output in Red."
   ]
  },
  {
   "cell_type": "code",
   "execution_count": 4,
   "metadata": {},
   "outputs": [
    {
     "data": {
      "text/html": [
       "\n",
       "        <iframe\n",
       "            width=\"600\"\n",
       "            height=\"300\"\n",
       "            src=\"Figures/neural-networks/Figure5.3d.pdf\"\n",
       "            frameborder=\"0\"\n",
       "            allowfullscreen\n",
       "        ></iframe>\n",
       "        "
      ],
      "text/plain": [
       "<IPython.lib.display.IFrame at 0x20fcc956e48>"
      ]
     },
     "execution_count": 4,
     "metadata": {},
     "output_type": "execute_result"
    }
   ],
   "source": [
    "from IPython.display import IFrame\n",
    "IFrame(\"Figures/neural-networks/Figure5.3d.pdf\", width=600, height=300)"
   ]
  },
  {
   "cell_type": "markdown",
   "metadata": {},
   "source": [
    "### Universal Approximation Theorems\n",
    "\n",
    "Leshno and Schocken (1991) showed:\n",
    "\n",
    "– A neural network with one [possibly huge] hidden layer can uniformly approximate any continuous function on a compact set iff the activation function is not a polynomial (i.e. tanh, logistic, and ReLU all work, as do $\\sin$,$\\cos$, $\\exp$, etc.). \n",
    "\n",
    "• In more words:\n",
    "\n",
    "– Let $\\varphi(\\cdot)$ be any non-polynomial function (an activation function).Let K be any compact set in $\\mathbb R^{m}$. (Such as the unit hypercube $[0,1]^{m}$.)\n",
    "\n",
    "_ _ _ _ _ _ _ _ _ _ _ _ _ _ \n",
    "\n",
    "– Let $f:K\\to\\mathbb R$ be any continuous function on a compact set $K\\subset\\mathbb R^{m}$.\n",
    "\n",
    "_ _ _ _ _ _ _ _ _ _ _ _ _ _ \n",
    "\n",
    "– Then $\\forall\\epsilon>0$, there exists an integer N (the number of hidden units), and parameters $v_{i},b_{i}\\in\\mathbb R$ and $w_{i}\\in\\mathbb R^{m}$ such that the function $F(x)=\\sum_{i=1}^{N}v_{i}\\varphi(w_{i}^{T}x+b_{i})$ satisfies $\\left|F(x)-f(x)\\right|<\\epsilon$ for all $x\\in K$. \n",
    "\n",
    "_ _ _ _ _ _ _ _ _ _ _ _ _ _ \n",
    "\n",
    "• Leshno & Schocken note that this doesn't work without the bias $term b_{i}$ (they call it the threshold term). (e.g. consider $\\varphi=\\sin$: then we always have $F(-x)=-F(x))$ Hornik et al and concurrently by Cybenko in 1989 showed we get uniform approximation for activation functions that are nonconstant, bounded, nondecreasing, and continuous. These functions are known as squashing functions.). http://citeseerx.ist.psu.edu/viewdoc/download?doi=10.1.1.441.7873&rep=rep1&type=pdf Leshno: https://archive.nyu.edu/bitstream/2451/14384/1/IS-91-26.pdf points out that the bias term (they call the threshold) is essential."
   ]
  },
  {
   "cell_type": "markdown",
   "metadata": {},
   "source": [
    "## Multilayer Perceptron: Standard Recipe\n",
    "\n",
    "• __Input space__: $\\mathcal X=\\mathbb R^{d}$  __Action space__: $\\mathcal A=\\mathbb R^{k}$ (for k-class classification).\n",
    "\n",
    "_ _ _ _ _ _ _ _ _ _ _ _ _ _ \n",
    "\n",
    "• Let $\\sigma:\\mathbb R\\to\\mathbb R$ be a non-polynomial activation function (e.g. $\\tanh$ or ReLU).\n",
    "\n",
    "_ _ _ _ _ _ _ _ _ _ _ _ _ _ \n",
    "\n",
    "• Let's take all hidden layers to have $m$ units.\n",
    "\n",
    "_ _ _ _ _ _ _ _ _ _ _ _ _ _ \n",
    "\n",
    "• First hidden layer is given by\n",
    "\n",
    "$$h^{(1)}(x)=\\sigma\\left(W^{(1)}x+b^{(1)}\\right)$$,\n",
    "for parameters $W^{(1)}\\in\\mathbb R^{m\\times d}$ and $b\\in\\mathbb R^{m}$, and where $\\sigma\\left(\\cdot\\right)$ is applied to each entry of its argument."
   ]
  },
  {
   "cell_type": "markdown",
   "metadata": {},
   "source": [
    "## Multilayer Perceptron: Standard Recipe\n",
    "\n",
    "• Each subsequent hidden layer takes the output $o\\in\\mathbb R^{m}$ of previous layer and produces \n",
    "\n",
    "$$h^{(j)}(o)=\\sigma\\left(W^{(j)}o+b^{(j)}\\right),\\text{ for }j=1,\\ldots,D$$\n",
    "\n",
    "where $W^{(j)}\\in\\mathbb R^{m\\times m}$, $b^{(j)}\\in\\mathbb R^{m}$, and $D$ is the number of hidden layers.\n",
    "\n",
    "_ _ _ _ _ _ _ _ _ _ _ _ _ _ \n",
    "\n",
    "• Last layer is an affine mapping: \n",
    "\n",
    "$$a(o)=W^{(D+1)}o+b^{(D+1)}$$,\n",
    "where $W^{(D+1)}\\in\\mathbb R^{k\\times m}$ and $b^{(D+1)}\\in\\mathbb R^{k}$."
   ]
  },
  {
   "cell_type": "markdown",
   "metadata": {},
   "source": [
    "• So the full neural network function is given by the composition of layers:\n",
    "\n",
    "$$f(x)\t=\t\\left(a\\circ h^{(D)}\\circ\\cdots\\circ h^{(1)}\\right)(x)$$\n",
    "\n",
    "• This gives us the $k$ score functions we need.\n",
    "\n",
    "_ _ _ _ _ _ _ _ _ _ _ _ _ _ \n",
    "\n",
    "• To train this we maximize the conditional log-likelihood for the training data:\n",
    "\n",
    "$$J(\\theta)=\\frac{1}{n}\\sum_{i=1}^{n}\\log\\left[\\textrm{softmax}(f(x_{i}))_{y_{i}}\\right]$$,\n",
    "\n",
    "where $\\theta=(W^{(1)},\\ldots,W^{(D+1)},b^{(1)},\\ldots,b^{(D+1)})$."
   ]
  },
  {
   "cell_type": "markdown",
   "metadata": {},
   "source": [
    "\n",
    "## Gradient of a Hidden Computation Node\n",
    "\n",
    "• For simplicity, consider the a hidden layer with a single node and $\\tanh$ nonlinearity:\n",
    "\n",
    "$$o(x)=\\tanh(w^{T}x+b)$$\n",
    "for parameters $b\\in\\mathbb R$ and $w\\in\\mathbb R^{d}$. We can represent this in a computation graph as\n",
    "\n",
    "\n",
    "<img src=\"Figures/backpropagation/hidden-comp-node.png\" width = 450>\n",
    "\n",
    "\n",
    "\n",
    "• Suppose we can write a first order approximation to $o$ as \n",
    "\n",
    "$$o\\approx g_{w}^{T}w+g_{b}b+c$$,\n",
    "\n",
    "where $c,g_{b}\\in \\mathbb R$ and $g_{w}\\in\\mathbb R^{d}$ may depend on $x$. \n",
    "\n",
    "• Then the we know that $g_{w}$ and $g_{b}$ are the gradients of $o$ w.r.t. $w$ and $b$ respectively."
   ]
  },
  {
   "cell_type": "markdown",
   "metadata": {},
   "source": [
    "## Multiclass Classification: Cross-Entropy Loss\n",
    "\n",
    "\n",
    "\n",
    "• Network can do better if it “knows” that classes are mutually exclusive.\n",
    "\n",
    "_ _ _ _ _ _ _ _ _ _ _ _ _ _ \n",
    "\n",
    "• Need to introduce a joint loss across the outputs. \n",
    "\n",
    "• Joint loss function (cross-entropy/deviance):\n",
    "\n",
    "$$\\ell(w,v)=-\\sum_{i=1}^{n}\\sum_{i=1}^{K}y_{ik}\\log f_{k}(x_{i})$$,\n",
    "\n",
    "where $y_{ik}=1 ({y_{i}=k})$.\n",
    "\n",
    "_ _ _ _ _ _ _ _ _ _ _ _ _ _ \n",
    "\n",
    "• This is the negative log-likelihood we get for softmax predictions in multinomial logistic regression."
   ]
  },
  {
   "cell_type": "markdown",
   "metadata": {},
   "source": [
    "## Deep learning\n",
    "\n",
    "\"Deep\" neural networks typically refer to networks with multiple hidden layers\n",
    "\n",
    "<img src=\"./image_files/deep_structure.png\" width = 450>\n",
    "\n",
    "Note: original term \"deep learning\" referred to any machine learning architecture with multiple layers, including several probabilistic models, etc, but most work these days focuses on neural networks\n",
    "\n",
    "Motivation from neurobiology: brain appears to use multiple levels of interconnected neurons to process information (but careful,neurons in brain are not just non-linear functions)\n",
    "\n",
    "In practive: works better for many domains"
   ]
  },
  {
   "cell_type": "markdown",
   "metadata": {},
   "source": [
    "## Multiple Output Neural Networks\n",
    "\n",
    "\n",
    "\n",
    "• Very easy to add extra outputs to neural network structure.\n",
    "\n",
    "<img src=\"Figures/neural-networks/multiple-output-nn.png\" width = 300>"
   ]
  },
  {
   "cell_type": "markdown",
   "metadata": {},
   "source": [
    "# Training Neural Networks\n",
    "\n",
    "## Optimizing neural network parameters\n",
    "\n",
    "<img src=\"./image_files/nn_structure.png\" width = 300>\n",
    "\n",
    "How do we optimize the parameters for the machine learning loss minimization problem with a neural network\n",
    "\n",
    "$$ \\min_{\\theta} \\sum_{i=1}^{m}\\ell\\left( h_{\\theta}\\left(x^{(i)}\\right),y^{(i)}\\right)$$\n",
    "\n",
    "now is this problem non-convex?\n",
    "\n",
    "Just do exactly what we did before:  initialize with random weights and run stochastic gradient descent\n",
    "\n",
    "Now have the possibility of local optima, and function can be harder to optimize, but we will not worry about all that because the resulting model still often perform better than linear models\n",
    "\n",
    "Stochastic gradient descent, repeat:\n",
    "\n",
    "- Select some example $i$\n",
    "\n",
    "$$ \\theta:= \\theta - \\alpha \\nabla_{\\theta} \\left( h_{\\theta} \\left(x^{(i)}\\right),y^{(i)}\\right)$$\n",
    "\n",
    "So how do we compute the gradient with respect to all the parameters in a neural network (_i.e._, all weights $\\Theta^{(1)}, \\Theta^{(2)}, \\cdots$) ?"
   ]
  },
  {
   "cell_type": "markdown",
   "metadata": {},
   "source": [
    "## Backpropagation\n",
    "\n",
    "Backpropagation is a method for computing all the necessary gradients using one \"forward pass\" (just computing all the values at layers), and one \"backward pass\" (computing gradients backwards in the network)\n",
    "\n",
    "The equations sometimes look complex, it is just an application of the chain rule of calculus\n",
    "\n",
    "First, some notation that will make things a bit easier:\n",
    "\n",
    "- Activations: $a^{(i)}$ values at hidden layer $i$ (with convention that $a^{(1)} = x$)\n",
    "\n",
    "- Linear activation: $z^{(i)} = \\Theta^{(i)}a^{(i)}$, so $a^{(i+1)} = f(z^{(i)})$\n",
    "\n",
    "Let's treat everything as scalars for now, and consider a network with two hidden layers:\n",
    "\n",
    "\n",
    "\\begin{align*}\n",
    "\\frac{\\partial}{\\partial \\Theta^{(1)}}\\ell \\left( h_{\\theta}(x),y \\right) & = \\frac{\\partial}{\\partial \\Theta^{(1)}}\\ell \\left( \\Theta^{(3)}f(\\Theta^{(2)}f(\\Theta^{(1)}x))   ,y \\right)\\\\\n",
    "& = \\ell'\\left( z^{(3)},y\\right) \\Theta^{(3)} \\frac{\\partial}{\\partial \\Theta^{(1)}} f(\\Theta^{(2)}f(\\Theta^{(1)}x))\\\\\n",
    "& = \\ell'\\left( z^{(3)},y\\right) \\Theta^{(3)} f'\\left(z^{(2)} \\right)\\Theta^{(2)}\\frac{\\partial}{\\partial \\Theta^{(1)}}f(\\Theta^{(1)}x)\\\\\n",
    "& = \\ell'\\left( z^{(3)},y\\right) \\Theta^{(3)} f'\\left(z^{(2)} \\right)\\Theta^{(2)} f'\\left( z^{(1)}\\right) a^{(1)}\n",
    "\\end{align*}\n",
    "\n",
    "\n",
    "By the same procedure\n",
    "\n",
    "$$\\frac{\\partial}{\\partial \\Theta^{(2)}}\\ell \\left( h_{\\theta}(x),y \\right) = \\ell'\\left( z^{(3)},y\\right) \\Theta^{(3)} f'\\left(z^{(2)} \\right) a^{(2)}$$"
   ]
  },
  {
   "cell_type": "markdown",
   "metadata": {},
   "source": [
    "If you want to compute gradients with respect to all the parameters $\\Theta^{(1)},\\cdots,\\Theta^{(L)}$, we can \"reuse\" parts of this computation\n",
    "\n",
    "Let\n",
    "\n",
    "\n",
    "\\begin{align*}\n",
    "g^{(L)} & = \\ell'\\left( z^{(L)}\\right) \\Theta^{(L)}\\\\\n",
    "g^{(i)} & = g^{(i+1)} f'\\left(z^{(i)} \\right)\\Theta^{(i)}\n",
    "\\end{align*}\n",
    "\n",
    "\n",
    "then\n",
    "\n",
    "$$ \\frac{\\partial}{\\partial \\Theta^{(i)}}\\ell \\left( h_{\\theta}(x),y \\right) = g^{(i+1)} f'\\left(z^{(i)} \\right) a^{(i)}\n",
    "$$\n",
    "\n",
    "It takes just slightly more advanced calculus, but it turns out the general matrix/vector case is exactly the same, just being carful with the ordering/size of matrix multiplication\n",
    "\n",
    "The full backpropagation algorithm:\n",
    "\n",
    "\n",
    "\\begin{align*}\n",
    "g^{(L)} & = {\\Theta^{(L)}}^T \\ell'\\left( z^{(L)}\\right) \\\\\n",
    "g^{(i)} & = {\\Theta^{(i)}}^T g^{(i+1)} f'\\left(z^{(i)} \\right)\\\\\n",
    "\\nabla_{\\Theta^{(i)}}\\ell \\left( h_{\\theta}(x),y \\right) &= \\left( g^{(i+1)} \\cdot f'\\left(z^{(i)} \\right) \\right) {a^{(i)}}^T\n",
    "\\end{align*}\n",
    "\n",
    "\n",
    "where $\\cdot$ denotes elementwise multiplication"
   ]
  },
  {
   "cell_type": "markdown",
   "metadata": {},
   "source": [
    "Gradients can get somewhat tedious to derive by hand, especially for the more complex models \n",
    "\n",
    "__Fortunately, a lot of this work has already been done for us__\n",
    "\n",
    "Tools like Theano, Torch, Caffe, TensorFlow all let us specify the network structure and then automatically compute all gradients (and use GPUs to do so)\n"
   ]
  },
  {
   "cell_type": "code",
   "execution_count": 1,
   "metadata": {},
   "outputs": [
    {
     "data": {
      "text/html": [
       "<iframe src=\"https://www.youtube.com/embed/uXt8qF2Zzfo\" \n",
       " width=\"560\" height=\"315\" frameborder=\"0\" allowfullscreen></iframe>"
      ],
      "text/plain": [
       "<IPython.core.display.HTML object>"
      ]
     },
     "metadata": {},
     "output_type": "display_data"
    }
   ],
   "source": [
    "%%html\n",
    "<iframe src=\"https://www.youtube.com/embed/uXt8qF2Zzfo\" \n",
    " width=\"560\" height=\"315\" frameborder=\"0\" allowfullscreen></iframe>"
   ]
  },
  {
   "cell_type": "markdown",
   "metadata": {},
   "source": [
    "# Deep Learning"
   ]
  },
  {
   "cell_type": "markdown",
   "metadata": {},
   "source": [
    "## What is changed since the 80s?\n",
    "\n",
    "All these algorithms (and most of the extensions in later slides), were developed in the 80s or 90s\n",
    "\n",
    "So why are these just becoming more popular in the last few years?\n",
    "\n",
    "- more data\n",
    "\n",
    "- faster computers\n",
    "\n",
    "- (some) better optimization techniques\n",
    "\n",
    "__Unsupervised pre-training (Hinton et al., 2006)__: \"Pre-train\" the network have the hidden layers recreate their input, one layer at a time, in an unsupervised fashion\n",
    "\n",
    "- This paper was partly responsible for re-igniting the interest in deep neural networks, but the general feeling now is that it does not help much\n",
    "\n",
    "__Dropout (Hinton et al., 2012)__: During training and computation of gradients, randomly set about half the hidden units to zero \n",
    "\n",
    "- Acts like regularization, prevents the parameters for overfitting to particular exampels\n",
    "\n",
    "__Different non-linear fuctions (Nair and Hinton, 2010)__: Use non-linearity $f(x) = \\max\\{0,x\\}$ instead of $f(x) = \\tanh(x)$\n",
    "\n",
    "## Again, why successful?\n",
    "\n",
    "- Pre-training: Restricted Boltzmann machine (RBM), Autoencoder, nonnegative matrix factorization (NMF)\n",
    "\n",
    "- Training: Dropout\n",
    "\n",
    "- Rectified linear units: No vanishing gradient, sparse activation"
   ]
  },
  {
   "cell_type": "code",
   "execution_count": 2,
   "metadata": {},
   "outputs": [
    {
     "data": {
      "text/html": [
       "<iframe src=\"https://www.youtube.com/embed/VrMHA3yX_QI\" \n",
       "width=\"560\" height=\"315\" frameborder=\"0\" allowfullscreen></iframe>"
      ],
      "text/plain": [
       "<IPython.core.display.HTML object>"
      ]
     },
     "metadata": {},
     "output_type": "display_data"
    }
   ],
   "source": [
    "%%html\n",
    "<iframe src=\"https://www.youtube.com/embed/VrMHA3yX_QI\" \n",
    "width=\"560\" height=\"315\" frameborder=\"0\" allowfullscreen></iframe>"
   ]
  },
  {
   "cell_type": "markdown",
   "metadata": {},
   "source": [
    "# 4. Advanced Models and Architectures in Deep Learning\n",
    "- Convolutional neural networks\n",
    "\n",
    "- Recurrent neural networks\n",
    "\n",
    "- Deep reinforcement learning"
   ]
  },
  {
   "cell_type": "markdown",
   "metadata": {},
   "source": [
    "## Convolutional neural networks\n",
    "\n",
    "One of the biggest successes for neural networks has come in computer vision, using convolution neural networks.\n",
    "\n",
    "In traditional neural networks, images are treated as unstructured vectors $x \\in \\mathbb{R}^{W\\cdot H}$, and we learn arbitrary transformation _i.e._, $f(\\Theta x)$\n",
    "\n",
    "But this does not seem like a good model, slightly shifting/scaling image winds up with a very different input vector, so we need to learn all these invariances in our parameters.\n",
    "\n",
    "Basic idea of convolutional neural networks: parameters are elements of a (set of) convolutional filters applied to the image\n",
    "\n",
    "$$ a^{(i+1)} = f\\left( a^{(i)} \\ast \\Theta^{(i)}\\right)$$\n",
    "\n",
    "The function $f$ also does downsampling \"max-pooling\" to produce lower dimensional images and translation invariance at later layers.\n",
    "\n",
    "__ImageNet Large Scale Visual Recognition Challenge (ILSVRC)__\n",
    "\n",
    "- Lenet-5 (LeCun et al., 1998) architecture, 1% error on MNIST classification (compare to 10% for linear classifier)\n",
    "\n",
    "<img src=\"./image_files/Lenet.png\" width = 700>\n",
    "\n",
    "- \"AlexNet\" (Krizhevsky et al., 2012), work ImageNet 2012 competition with a Top-5 error rate of 15.3% (next best system with highly engineered features based upon SIFT got 26.1% error)\n",
    "\n",
    "<img src=\"./image_files/AlexNet.png\" width = 700>"
   ]
  },
  {
   "cell_type": "code",
   "execution_count": 3,
   "metadata": {
    "scrolled": true
   },
   "outputs": [
    {
     "data": {
      "text/html": [
       "<iframe src=\"https://www.youtube.com/embed/bL1Zymz1b7g\" \n",
       "width=\"560\" height=\"315\" frameborder=\"0\" allowfullscreen></iframe>"
      ],
      "text/plain": [
       "<IPython.core.display.HTML object>"
      ]
     },
     "metadata": {},
     "output_type": "display_data"
    }
   ],
   "source": [
    "%%html\n",
    "<iframe src=\"https://www.youtube.com/embed/bL1Zymz1b7g\" \n",
    "width=\"560\" height=\"315\" frameborder=\"0\" allowfullscreen></iframe>"
   ]
  },
  {
   "cell_type": "markdown",
   "metadata": {},
   "source": [
    "\n",
    "$\\;\\;$<a href=\"./files/deep_learning_tutorial_2015.pdf\" target=\"_blank\">Slides available</a> (click to open in a new page)\n",
    "\n",
    "- By Phillip Isola\n",
    "\n",
    "- Tutorial Series in Computational topics for BCS \n"
   ]
  },
  {
   "cell_type": "markdown",
   "metadata": {},
   "source": [
    "## 4.2. Recurrent neural networks\n",
    "\n",
    "Framework for dealing with _sequence_ data: hidden units for elements in sequence are fed into hidden units for subsequent elements\n",
    "\n",
    "- difference equation\n",
    "\n",
    "- time series analysis\n",
    "\n",
    "- hidden Markov model (HMM)\n",
    "\n",
    "<img src=\"./image_files/RNN.png\" width = 500>\n",
    "<center>Figure from Karpathy, 2015 (http://karpathy.github.io/2015/05/21/rnn-effectiveness/)</center>"
   ]
  },
  {
   "cell_type": "markdown",
   "metadata": {},
   "source": [
    "## Deep reinforcement learning\n",
    "\n",
    "Instead of maintaining a separate Q-value for each state/action pair, we can use a deep neural network (or any other class of functions) to represent the Q function\n",
    "\n",
    "Q-Learning update rule becomes\n",
    "\n",
    "$$\\theta := \\theta - \\alpha \\left( R+\\gamma \\max_{a'}Q(s',a';\\theta) -Q(s,a;\\theta)\\right) \\nabla_{\\theta} Q(s,a;\\theta) $$\n",
    "\n",
    "where $\\theta$ are the parameters (_i.e._, network weights) that specify our reprentation of the Q function\n",
    "\n",
    "Google DeepMind paper shows deep learning to play Atari video games: Pong, Breakout, Space Invaders, Seaquest, Beam Rider (Mihn et al., 2013)\n",
    "\n",
    "- Markov decision process (MDP)\n",
    "\n",
    "- Bellman equations\n",
    "\n",
    "- Reinforcement learning\n",
    "\n",
    "- Q-learning"
   ]
  }
 ],
 "metadata": {
  "anaconda-cloud": {},
  "kernelspec": {
   "display_name": "Python 3",
   "language": "python",
   "name": "python3"
  },
  "language_info": {
   "codemirror_mode": {
    "name": "ipython",
    "version": 3
   },
   "file_extension": ".py",
   "mimetype": "text/x-python",
   "name": "python",
   "nbconvert_exporter": "python",
   "pygments_lexer": "ipython3",
   "version": "3.6.8"
  },
  "latex_envs": {
   "LaTeX_envs_menu_present": true,
   "autoclose": false,
   "autocomplete": true,
   "bibliofile": "biblio.bib",
   "cite_by": "apalike",
   "current_citInitial": 1,
   "eqLabelWithNumbers": true,
   "eqNumInitial": 1,
   "hotkeys": {
    "equation": "Ctrl-E",
    "itemize": "Ctrl-I"
   },
   "labels_anchors": false,
   "latex_user_defs": false,
   "report_style_numbering": false,
   "user_envs_cfg": false
  },
  "nbTranslate": {
   "displayLangs": [
    "*"
   ],
   "hotkey": "alt-t",
   "langInMainMenu": true,
   "sourceLang": "en",
   "targetLang": "fr",
   "useGoogleTranslate": true
  },
  "toc": {
   "base_numbering": 1,
   "nav_menu": {},
   "number_sections": true,
   "sideBar": true,
   "skip_h1_title": false,
   "title_cell": "Table of Contents",
   "title_sidebar": "Contents",
   "toc_cell": false,
   "toc_position": {},
   "toc_section_display": true,
   "toc_window_display": false
  },
  "varInspector": {
   "cols": {
    "lenName": 16,
    "lenType": 16,
    "lenVar": 40
   },
   "kernels_config": {
    "python": {
     "delete_cmd_postfix": "",
     "delete_cmd_prefix": "del ",
     "library": "var_list.py",
     "varRefreshCmd": "print(var_dic_list())"
    },
    "r": {
     "delete_cmd_postfix": ") ",
     "delete_cmd_prefix": "rm(",
     "library": "var_list.r",
     "varRefreshCmd": "cat(var_dic_list()) "
    }
   },
   "types_to_exclude": [
    "module",
    "function",
    "builtin_function_or_method",
    "instance",
    "_Feature"
   ],
   "window_display": false
  }
 },
 "nbformat": 4,
 "nbformat_minor": 1
}
