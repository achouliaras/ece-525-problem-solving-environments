{
 "cells": [
  {
   "cell_type": "markdown",
   "metadata": {},
   "source": [
    "# Lab4 PCA multidimensional analysis\n",
    "\n",
    "Chouliaras Andreas 2143\n",
    "\n",
    "Pappas Apostolos 2109\n",
    "\n",
    "Gkountouvas Stylianos 1973"
   ]
  },
  {
   "cell_type": "markdown",
   "metadata": {},
   "source": [
    "## Importing the libraries"
   ]
  },
  {
   "cell_type": "code",
   "execution_count": 1,
   "metadata": {
    "ExecuteTime": {
     "end_time": "2019-12-02T16:00:06.494772Z",
     "start_time": "2019-12-02T16:00:04.686627Z"
    }
   },
   "outputs": [],
   "source": [
    "from pydoc import help  # can type in the python console `help(name of function)` to get the documentation\n",
    "import pandas as pd\n",
    "import numpy as np\n",
    "import matplotlib.pyplot as plt\n",
    "import seaborn as sns\n",
    "from sklearn.preprocessing import scale\n",
    "from sklearn.preprocessing import LabelEncoder\n",
    "from sklearn.decomposition import PCA\n",
    "from sklearn.discriminant_analysis import LinearDiscriminantAnalysis\n",
    "from scipy import stats\n",
    "from IPython.display import display, HTML\n",
    "\n",
    "# figures inline in notebook\n",
    "%matplotlib inline\n",
    "\n",
    "np.set_printoptions(suppress=True)\n",
    "\n",
    "DISPLAY_MAX_ROWS = 20  # number of max rows to print for a DataFrame\n",
    "pd.set_option('display.max_rows', DISPLAY_MAX_ROWS)"
   ]
  },
  {
   "cell_type": "markdown",
   "metadata": {},
   "source": [
    "## Reading Multivariate Analysis Data into Python\n",
    "\n",
    "The first thing that you will want to do to analyse your multivariate data will be to read it into Python, and to plot the data. For data analysis an I will be using the [Python Data Analysis Library](http://pandas.pydata.org) (pandas, imported as `pd`), which provides a number of useful functions for reading and analyzing the data, as well as a `DataFrame` storage structure, similar to that found in other popular data analytics languages, such as R.\n",
    "\n",
    "We will use the Bank Marketing Data Set from the UCI Machine Learning Repository.\n",
    "\n",
    "The data is related with direct marketing campaigns of a Portuguese banking institution. The marketing campaigns were based on phone calls. Often, more than one contact to the same client was required, in order to access if the product (bank term deposit) would be (or not) subscribed.\n"
   ]
  },
  {
   "cell_type": "code",
   "execution_count": 2,
   "metadata": {
    "ExecuteTime": {
     "end_time": "2019-12-02T16:00:06.562591Z",
     "start_time": "2019-12-02T16:00:06.496768Z"
    }
   },
   "outputs": [
    {
     "data": {
      "text/html": [
       "<div>\n",
       "<style scoped>\n",
       "    .dataframe tbody tr th:only-of-type {\n",
       "        vertical-align: middle;\n",
       "    }\n",
       "\n",
       "    .dataframe tbody tr th {\n",
       "        vertical-align: top;\n",
       "    }\n",
       "\n",
       "    .dataframe thead th {\n",
       "        text-align: right;\n",
       "    }\n",
       "</style>\n",
       "<table border=\"1\" class=\"dataframe\">\n",
       "  <thead>\n",
       "    <tr style=\"text-align: right;\">\n",
       "      <th></th>\n",
       "      <th>V1</th>\n",
       "      <th>V2</th>\n",
       "      <th>V3</th>\n",
       "      <th>V4</th>\n",
       "      <th>V5</th>\n",
       "      <th>V6</th>\n",
       "      <th>V7</th>\n",
       "      <th>V8</th>\n",
       "      <th>V9</th>\n",
       "      <th>V10</th>\n",
       "      <th>V11</th>\n",
       "      <th>V12</th>\n",
       "      <th>V13</th>\n",
       "      <th>V14</th>\n",
       "      <th>V15</th>\n",
       "      <th>V16</th>\n",
       "      <th>V17</th>\n",
       "    </tr>\n",
       "  </thead>\n",
       "  <tbody>\n",
       "    <tr>\n",
       "      <th>0</th>\n",
       "      <td>30</td>\n",
       "      <td>unemployed</td>\n",
       "      <td>married</td>\n",
       "      <td>primary</td>\n",
       "      <td>no</td>\n",
       "      <td>1787</td>\n",
       "      <td>no</td>\n",
       "      <td>no</td>\n",
       "      <td>cellular</td>\n",
       "      <td>19</td>\n",
       "      <td>oct</td>\n",
       "      <td>79</td>\n",
       "      <td>1</td>\n",
       "      <td>-1</td>\n",
       "      <td>0</td>\n",
       "      <td>unknown</td>\n",
       "      <td>no</td>\n",
       "    </tr>\n",
       "    <tr>\n",
       "      <th>1</th>\n",
       "      <td>33</td>\n",
       "      <td>services</td>\n",
       "      <td>married</td>\n",
       "      <td>secondary</td>\n",
       "      <td>no</td>\n",
       "      <td>4789</td>\n",
       "      <td>yes</td>\n",
       "      <td>yes</td>\n",
       "      <td>cellular</td>\n",
       "      <td>11</td>\n",
       "      <td>may</td>\n",
       "      <td>220</td>\n",
       "      <td>1</td>\n",
       "      <td>339</td>\n",
       "      <td>4</td>\n",
       "      <td>failure</td>\n",
       "      <td>no</td>\n",
       "    </tr>\n",
       "    <tr>\n",
       "      <th>2</th>\n",
       "      <td>35</td>\n",
       "      <td>management</td>\n",
       "      <td>single</td>\n",
       "      <td>tertiary</td>\n",
       "      <td>no</td>\n",
       "      <td>1350</td>\n",
       "      <td>yes</td>\n",
       "      <td>no</td>\n",
       "      <td>cellular</td>\n",
       "      <td>16</td>\n",
       "      <td>apr</td>\n",
       "      <td>185</td>\n",
       "      <td>1</td>\n",
       "      <td>330</td>\n",
       "      <td>1</td>\n",
       "      <td>failure</td>\n",
       "      <td>no</td>\n",
       "    </tr>\n",
       "    <tr>\n",
       "      <th>3</th>\n",
       "      <td>30</td>\n",
       "      <td>management</td>\n",
       "      <td>married</td>\n",
       "      <td>tertiary</td>\n",
       "      <td>no</td>\n",
       "      <td>1476</td>\n",
       "      <td>yes</td>\n",
       "      <td>yes</td>\n",
       "      <td>unknown</td>\n",
       "      <td>3</td>\n",
       "      <td>jun</td>\n",
       "      <td>199</td>\n",
       "      <td>4</td>\n",
       "      <td>-1</td>\n",
       "      <td>0</td>\n",
       "      <td>unknown</td>\n",
       "      <td>no</td>\n",
       "    </tr>\n",
       "    <tr>\n",
       "      <th>4</th>\n",
       "      <td>59</td>\n",
       "      <td>blue-collar</td>\n",
       "      <td>married</td>\n",
       "      <td>secondary</td>\n",
       "      <td>no</td>\n",
       "      <td>0</td>\n",
       "      <td>yes</td>\n",
       "      <td>no</td>\n",
       "      <td>unknown</td>\n",
       "      <td>5</td>\n",
       "      <td>may</td>\n",
       "      <td>226</td>\n",
       "      <td>1</td>\n",
       "      <td>-1</td>\n",
       "      <td>0</td>\n",
       "      <td>unknown</td>\n",
       "      <td>no</td>\n",
       "    </tr>\n",
       "    <tr>\n",
       "      <th>5</th>\n",
       "      <td>35</td>\n",
       "      <td>management</td>\n",
       "      <td>single</td>\n",
       "      <td>tertiary</td>\n",
       "      <td>no</td>\n",
       "      <td>747</td>\n",
       "      <td>no</td>\n",
       "      <td>no</td>\n",
       "      <td>cellular</td>\n",
       "      <td>23</td>\n",
       "      <td>feb</td>\n",
       "      <td>141</td>\n",
       "      <td>2</td>\n",
       "      <td>176</td>\n",
       "      <td>3</td>\n",
       "      <td>failure</td>\n",
       "      <td>no</td>\n",
       "    </tr>\n",
       "    <tr>\n",
       "      <th>6</th>\n",
       "      <td>36</td>\n",
       "      <td>self-employed</td>\n",
       "      <td>married</td>\n",
       "      <td>tertiary</td>\n",
       "      <td>no</td>\n",
       "      <td>307</td>\n",
       "      <td>yes</td>\n",
       "      <td>no</td>\n",
       "      <td>cellular</td>\n",
       "      <td>14</td>\n",
       "      <td>may</td>\n",
       "      <td>341</td>\n",
       "      <td>1</td>\n",
       "      <td>330</td>\n",
       "      <td>2</td>\n",
       "      <td>other</td>\n",
       "      <td>no</td>\n",
       "    </tr>\n",
       "    <tr>\n",
       "      <th>7</th>\n",
       "      <td>39</td>\n",
       "      <td>technician</td>\n",
       "      <td>married</td>\n",
       "      <td>secondary</td>\n",
       "      <td>no</td>\n",
       "      <td>147</td>\n",
       "      <td>yes</td>\n",
       "      <td>no</td>\n",
       "      <td>cellular</td>\n",
       "      <td>6</td>\n",
       "      <td>may</td>\n",
       "      <td>151</td>\n",
       "      <td>2</td>\n",
       "      <td>-1</td>\n",
       "      <td>0</td>\n",
       "      <td>unknown</td>\n",
       "      <td>no</td>\n",
       "    </tr>\n",
       "    <tr>\n",
       "      <th>8</th>\n",
       "      <td>41</td>\n",
       "      <td>entrepreneur</td>\n",
       "      <td>married</td>\n",
       "      <td>tertiary</td>\n",
       "      <td>no</td>\n",
       "      <td>221</td>\n",
       "      <td>yes</td>\n",
       "      <td>no</td>\n",
       "      <td>unknown</td>\n",
       "      <td>14</td>\n",
       "      <td>may</td>\n",
       "      <td>57</td>\n",
       "      <td>2</td>\n",
       "      <td>-1</td>\n",
       "      <td>0</td>\n",
       "      <td>unknown</td>\n",
       "      <td>no</td>\n",
       "    </tr>\n",
       "    <tr>\n",
       "      <th>9</th>\n",
       "      <td>43</td>\n",
       "      <td>services</td>\n",
       "      <td>married</td>\n",
       "      <td>primary</td>\n",
       "      <td>no</td>\n",
       "      <td>-88</td>\n",
       "      <td>yes</td>\n",
       "      <td>yes</td>\n",
       "      <td>cellular</td>\n",
       "      <td>17</td>\n",
       "      <td>apr</td>\n",
       "      <td>313</td>\n",
       "      <td>1</td>\n",
       "      <td>147</td>\n",
       "      <td>2</td>\n",
       "      <td>failure</td>\n",
       "      <td>no</td>\n",
       "    </tr>\n",
       "    <tr>\n",
       "      <th>...</th>\n",
       "      <td>...</td>\n",
       "      <td>...</td>\n",
       "      <td>...</td>\n",
       "      <td>...</td>\n",
       "      <td>...</td>\n",
       "      <td>...</td>\n",
       "      <td>...</td>\n",
       "      <td>...</td>\n",
       "      <td>...</td>\n",
       "      <td>...</td>\n",
       "      <td>...</td>\n",
       "      <td>...</td>\n",
       "      <td>...</td>\n",
       "      <td>...</td>\n",
       "      <td>...</td>\n",
       "      <td>...</td>\n",
       "      <td>...</td>\n",
       "    </tr>\n",
       "    <tr>\n",
       "      <th>4511</th>\n",
       "      <td>46</td>\n",
       "      <td>blue-collar</td>\n",
       "      <td>married</td>\n",
       "      <td>secondary</td>\n",
       "      <td>no</td>\n",
       "      <td>668</td>\n",
       "      <td>yes</td>\n",
       "      <td>no</td>\n",
       "      <td>unknown</td>\n",
       "      <td>15</td>\n",
       "      <td>may</td>\n",
       "      <td>1263</td>\n",
       "      <td>2</td>\n",
       "      <td>-1</td>\n",
       "      <td>0</td>\n",
       "      <td>unknown</td>\n",
       "      <td>yes</td>\n",
       "    </tr>\n",
       "    <tr>\n",
       "      <th>4512</th>\n",
       "      <td>40</td>\n",
       "      <td>blue-collar</td>\n",
       "      <td>married</td>\n",
       "      <td>secondary</td>\n",
       "      <td>no</td>\n",
       "      <td>1100</td>\n",
       "      <td>yes</td>\n",
       "      <td>no</td>\n",
       "      <td>unknown</td>\n",
       "      <td>29</td>\n",
       "      <td>may</td>\n",
       "      <td>660</td>\n",
       "      <td>2</td>\n",
       "      <td>-1</td>\n",
       "      <td>0</td>\n",
       "      <td>unknown</td>\n",
       "      <td>no</td>\n",
       "    </tr>\n",
       "    <tr>\n",
       "      <th>4513</th>\n",
       "      <td>49</td>\n",
       "      <td>blue-collar</td>\n",
       "      <td>married</td>\n",
       "      <td>secondary</td>\n",
       "      <td>no</td>\n",
       "      <td>322</td>\n",
       "      <td>no</td>\n",
       "      <td>no</td>\n",
       "      <td>cellular</td>\n",
       "      <td>14</td>\n",
       "      <td>aug</td>\n",
       "      <td>356</td>\n",
       "      <td>2</td>\n",
       "      <td>-1</td>\n",
       "      <td>0</td>\n",
       "      <td>unknown</td>\n",
       "      <td>no</td>\n",
       "    </tr>\n",
       "    <tr>\n",
       "      <th>4514</th>\n",
       "      <td>38</td>\n",
       "      <td>blue-collar</td>\n",
       "      <td>married</td>\n",
       "      <td>secondary</td>\n",
       "      <td>no</td>\n",
       "      <td>1205</td>\n",
       "      <td>yes</td>\n",
       "      <td>no</td>\n",
       "      <td>cellular</td>\n",
       "      <td>20</td>\n",
       "      <td>apr</td>\n",
       "      <td>45</td>\n",
       "      <td>4</td>\n",
       "      <td>153</td>\n",
       "      <td>1</td>\n",
       "      <td>failure</td>\n",
       "      <td>no</td>\n",
       "    </tr>\n",
       "    <tr>\n",
       "      <th>4515</th>\n",
       "      <td>32</td>\n",
       "      <td>services</td>\n",
       "      <td>single</td>\n",
       "      <td>secondary</td>\n",
       "      <td>no</td>\n",
       "      <td>473</td>\n",
       "      <td>yes</td>\n",
       "      <td>no</td>\n",
       "      <td>cellular</td>\n",
       "      <td>7</td>\n",
       "      <td>jul</td>\n",
       "      <td>624</td>\n",
       "      <td>5</td>\n",
       "      <td>-1</td>\n",
       "      <td>0</td>\n",
       "      <td>unknown</td>\n",
       "      <td>no</td>\n",
       "    </tr>\n",
       "    <tr>\n",
       "      <th>4516</th>\n",
       "      <td>33</td>\n",
       "      <td>services</td>\n",
       "      <td>married</td>\n",
       "      <td>secondary</td>\n",
       "      <td>no</td>\n",
       "      <td>-333</td>\n",
       "      <td>yes</td>\n",
       "      <td>no</td>\n",
       "      <td>cellular</td>\n",
       "      <td>30</td>\n",
       "      <td>jul</td>\n",
       "      <td>329</td>\n",
       "      <td>5</td>\n",
       "      <td>-1</td>\n",
       "      <td>0</td>\n",
       "      <td>unknown</td>\n",
       "      <td>no</td>\n",
       "    </tr>\n",
       "    <tr>\n",
       "      <th>4517</th>\n",
       "      <td>57</td>\n",
       "      <td>self-employed</td>\n",
       "      <td>married</td>\n",
       "      <td>tertiary</td>\n",
       "      <td>yes</td>\n",
       "      <td>-3313</td>\n",
       "      <td>yes</td>\n",
       "      <td>yes</td>\n",
       "      <td>unknown</td>\n",
       "      <td>9</td>\n",
       "      <td>may</td>\n",
       "      <td>153</td>\n",
       "      <td>1</td>\n",
       "      <td>-1</td>\n",
       "      <td>0</td>\n",
       "      <td>unknown</td>\n",
       "      <td>no</td>\n",
       "    </tr>\n",
       "    <tr>\n",
       "      <th>4518</th>\n",
       "      <td>57</td>\n",
       "      <td>technician</td>\n",
       "      <td>married</td>\n",
       "      <td>secondary</td>\n",
       "      <td>no</td>\n",
       "      <td>295</td>\n",
       "      <td>no</td>\n",
       "      <td>no</td>\n",
       "      <td>cellular</td>\n",
       "      <td>19</td>\n",
       "      <td>aug</td>\n",
       "      <td>151</td>\n",
       "      <td>11</td>\n",
       "      <td>-1</td>\n",
       "      <td>0</td>\n",
       "      <td>unknown</td>\n",
       "      <td>no</td>\n",
       "    </tr>\n",
       "    <tr>\n",
       "      <th>4519</th>\n",
       "      <td>28</td>\n",
       "      <td>blue-collar</td>\n",
       "      <td>married</td>\n",
       "      <td>secondary</td>\n",
       "      <td>no</td>\n",
       "      <td>1137</td>\n",
       "      <td>no</td>\n",
       "      <td>no</td>\n",
       "      <td>cellular</td>\n",
       "      <td>6</td>\n",
       "      <td>feb</td>\n",
       "      <td>129</td>\n",
       "      <td>4</td>\n",
       "      <td>211</td>\n",
       "      <td>3</td>\n",
       "      <td>other</td>\n",
       "      <td>no</td>\n",
       "    </tr>\n",
       "    <tr>\n",
       "      <th>4520</th>\n",
       "      <td>44</td>\n",
       "      <td>entrepreneur</td>\n",
       "      <td>single</td>\n",
       "      <td>tertiary</td>\n",
       "      <td>no</td>\n",
       "      <td>1136</td>\n",
       "      <td>yes</td>\n",
       "      <td>yes</td>\n",
       "      <td>cellular</td>\n",
       "      <td>3</td>\n",
       "      <td>apr</td>\n",
       "      <td>345</td>\n",
       "      <td>2</td>\n",
       "      <td>249</td>\n",
       "      <td>7</td>\n",
       "      <td>other</td>\n",
       "      <td>no</td>\n",
       "    </tr>\n",
       "  </tbody>\n",
       "</table>\n",
       "<p>4521 rows × 17 columns</p>\n",
       "</div>"
      ],
      "text/plain": [
       "      V1             V2       V3         V4   V5    V6   V7   V8        V9  \\\n",
       "0     30     unemployed  married    primary   no  1787   no   no  cellular   \n",
       "1     33       services  married  secondary   no  4789  yes  yes  cellular   \n",
       "2     35     management   single   tertiary   no  1350  yes   no  cellular   \n",
       "3     30     management  married   tertiary   no  1476  yes  yes   unknown   \n",
       "4     59    blue-collar  married  secondary   no     0  yes   no   unknown   \n",
       "5     35     management   single   tertiary   no   747   no   no  cellular   \n",
       "6     36  self-employed  married   tertiary   no   307  yes   no  cellular   \n",
       "7     39     technician  married  secondary   no   147  yes   no  cellular   \n",
       "8     41   entrepreneur  married   tertiary   no   221  yes   no   unknown   \n",
       "9     43       services  married    primary   no   -88  yes  yes  cellular   \n",
       "...   ..            ...      ...        ...  ...   ...  ...  ...       ...   \n",
       "4511  46    blue-collar  married  secondary   no   668  yes   no   unknown   \n",
       "4512  40    blue-collar  married  secondary   no  1100  yes   no   unknown   \n",
       "4513  49    blue-collar  married  secondary   no   322   no   no  cellular   \n",
       "4514  38    blue-collar  married  secondary   no  1205  yes   no  cellular   \n",
       "4515  32       services   single  secondary   no   473  yes   no  cellular   \n",
       "4516  33       services  married  secondary   no  -333  yes   no  cellular   \n",
       "4517  57  self-employed  married   tertiary  yes -3313  yes  yes   unknown   \n",
       "4518  57     technician  married  secondary   no   295   no   no  cellular   \n",
       "4519  28    blue-collar  married  secondary   no  1137   no   no  cellular   \n",
       "4520  44   entrepreneur   single   tertiary   no  1136  yes  yes  cellular   \n",
       "\n",
       "      V10  V11   V12  V13  V14  V15      V16  V17  \n",
       "0      19  oct    79    1   -1    0  unknown   no  \n",
       "1      11  may   220    1  339    4  failure   no  \n",
       "2      16  apr   185    1  330    1  failure   no  \n",
       "3       3  jun   199    4   -1    0  unknown   no  \n",
       "4       5  may   226    1   -1    0  unknown   no  \n",
       "5      23  feb   141    2  176    3  failure   no  \n",
       "6      14  may   341    1  330    2    other   no  \n",
       "7       6  may   151    2   -1    0  unknown   no  \n",
       "8      14  may    57    2   -1    0  unknown   no  \n",
       "9      17  apr   313    1  147    2  failure   no  \n",
       "...   ...  ...   ...  ...  ...  ...      ...  ...  \n",
       "4511   15  may  1263    2   -1    0  unknown  yes  \n",
       "4512   29  may   660    2   -1    0  unknown   no  \n",
       "4513   14  aug   356    2   -1    0  unknown   no  \n",
       "4514   20  apr    45    4  153    1  failure   no  \n",
       "4515    7  jul   624    5   -1    0  unknown   no  \n",
       "4516   30  jul   329    5   -1    0  unknown   no  \n",
       "4517    9  may   153    1   -1    0  unknown   no  \n",
       "4518   19  aug   151   11   -1    0  unknown   no  \n",
       "4519    6  feb   129    4  211    3    other   no  \n",
       "4520    3  apr   345    2  249    7    other   no  \n",
       "\n",
       "[4521 rows x 17 columns]"
      ]
     },
     "execution_count": 2,
     "metadata": {},
     "output_type": "execute_result"
    }
   ],
   "source": [
    "data = pd.read_csv(\"bank.csv\",sep =';')\n",
    "data.columns = [\"V\"+str(i) for i in range(1, len(data.columns)+1)]  # rename column names to be similar to R naming convention\n",
    "data"
   ]
  },
  {
   "cell_type": "markdown",
   "metadata": {},
   "source": [
    "We transform categorical data types to numeric in order to be able to use them."
   ]
  },
  {
   "cell_type": "code",
   "execution_count": 3,
   "metadata": {
    "ExecuteTime": {
     "end_time": "2019-12-02T16:00:06.606475Z",
     "start_time": "2019-12-02T16:00:06.564586Z"
    }
   },
   "outputs": [
    {
     "data": {
      "text/html": [
       "<div>\n",
       "<style scoped>\n",
       "    .dataframe tbody tr th:only-of-type {\n",
       "        vertical-align: middle;\n",
       "    }\n",
       "\n",
       "    .dataframe tbody tr th {\n",
       "        vertical-align: top;\n",
       "    }\n",
       "\n",
       "    .dataframe thead th {\n",
       "        text-align: right;\n",
       "    }\n",
       "</style>\n",
       "<table border=\"1\" class=\"dataframe\">\n",
       "  <thead>\n",
       "    <tr style=\"text-align: right;\">\n",
       "      <th></th>\n",
       "      <th>V1</th>\n",
       "      <th>V2</th>\n",
       "      <th>V3</th>\n",
       "      <th>V4</th>\n",
       "      <th>V5</th>\n",
       "      <th>V6</th>\n",
       "      <th>V7</th>\n",
       "      <th>V8</th>\n",
       "      <th>V9</th>\n",
       "      <th>V10</th>\n",
       "      <th>V11</th>\n",
       "      <th>V12</th>\n",
       "      <th>V13</th>\n",
       "      <th>V14</th>\n",
       "      <th>V15</th>\n",
       "      <th>V16</th>\n",
       "      <th>V17</th>\n",
       "    </tr>\n",
       "  </thead>\n",
       "  <tbody>\n",
       "    <tr>\n",
       "      <th>0</th>\n",
       "      <td>30</td>\n",
       "      <td>10</td>\n",
       "      <td>1</td>\n",
       "      <td>0</td>\n",
       "      <td>0</td>\n",
       "      <td>1787</td>\n",
       "      <td>0</td>\n",
       "      <td>0</td>\n",
       "      <td>0</td>\n",
       "      <td>19</td>\n",
       "      <td>10</td>\n",
       "      <td>79</td>\n",
       "      <td>1</td>\n",
       "      <td>-1</td>\n",
       "      <td>0</td>\n",
       "      <td>3</td>\n",
       "      <td>0</td>\n",
       "    </tr>\n",
       "    <tr>\n",
       "      <th>1</th>\n",
       "      <td>33</td>\n",
       "      <td>7</td>\n",
       "      <td>1</td>\n",
       "      <td>1</td>\n",
       "      <td>0</td>\n",
       "      <td>4789</td>\n",
       "      <td>1</td>\n",
       "      <td>1</td>\n",
       "      <td>0</td>\n",
       "      <td>11</td>\n",
       "      <td>8</td>\n",
       "      <td>220</td>\n",
       "      <td>1</td>\n",
       "      <td>339</td>\n",
       "      <td>4</td>\n",
       "      <td>0</td>\n",
       "      <td>0</td>\n",
       "    </tr>\n",
       "    <tr>\n",
       "      <th>2</th>\n",
       "      <td>35</td>\n",
       "      <td>4</td>\n",
       "      <td>2</td>\n",
       "      <td>2</td>\n",
       "      <td>0</td>\n",
       "      <td>1350</td>\n",
       "      <td>1</td>\n",
       "      <td>0</td>\n",
       "      <td>0</td>\n",
       "      <td>16</td>\n",
       "      <td>0</td>\n",
       "      <td>185</td>\n",
       "      <td>1</td>\n",
       "      <td>330</td>\n",
       "      <td>1</td>\n",
       "      <td>0</td>\n",
       "      <td>0</td>\n",
       "    </tr>\n",
       "    <tr>\n",
       "      <th>3</th>\n",
       "      <td>30</td>\n",
       "      <td>4</td>\n",
       "      <td>1</td>\n",
       "      <td>2</td>\n",
       "      <td>0</td>\n",
       "      <td>1476</td>\n",
       "      <td>1</td>\n",
       "      <td>1</td>\n",
       "      <td>2</td>\n",
       "      <td>3</td>\n",
       "      <td>6</td>\n",
       "      <td>199</td>\n",
       "      <td>4</td>\n",
       "      <td>-1</td>\n",
       "      <td>0</td>\n",
       "      <td>3</td>\n",
       "      <td>0</td>\n",
       "    </tr>\n",
       "    <tr>\n",
       "      <th>4</th>\n",
       "      <td>59</td>\n",
       "      <td>1</td>\n",
       "      <td>1</td>\n",
       "      <td>1</td>\n",
       "      <td>0</td>\n",
       "      <td>0</td>\n",
       "      <td>1</td>\n",
       "      <td>0</td>\n",
       "      <td>2</td>\n",
       "      <td>5</td>\n",
       "      <td>8</td>\n",
       "      <td>226</td>\n",
       "      <td>1</td>\n",
       "      <td>-1</td>\n",
       "      <td>0</td>\n",
       "      <td>3</td>\n",
       "      <td>0</td>\n",
       "    </tr>\n",
       "    <tr>\n",
       "      <th>5</th>\n",
       "      <td>35</td>\n",
       "      <td>4</td>\n",
       "      <td>2</td>\n",
       "      <td>2</td>\n",
       "      <td>0</td>\n",
       "      <td>747</td>\n",
       "      <td>0</td>\n",
       "      <td>0</td>\n",
       "      <td>0</td>\n",
       "      <td>23</td>\n",
       "      <td>3</td>\n",
       "      <td>141</td>\n",
       "      <td>2</td>\n",
       "      <td>176</td>\n",
       "      <td>3</td>\n",
       "      <td>0</td>\n",
       "      <td>0</td>\n",
       "    </tr>\n",
       "    <tr>\n",
       "      <th>6</th>\n",
       "      <td>36</td>\n",
       "      <td>6</td>\n",
       "      <td>1</td>\n",
       "      <td>2</td>\n",
       "      <td>0</td>\n",
       "      <td>307</td>\n",
       "      <td>1</td>\n",
       "      <td>0</td>\n",
       "      <td>0</td>\n",
       "      <td>14</td>\n",
       "      <td>8</td>\n",
       "      <td>341</td>\n",
       "      <td>1</td>\n",
       "      <td>330</td>\n",
       "      <td>2</td>\n",
       "      <td>1</td>\n",
       "      <td>0</td>\n",
       "    </tr>\n",
       "    <tr>\n",
       "      <th>7</th>\n",
       "      <td>39</td>\n",
       "      <td>9</td>\n",
       "      <td>1</td>\n",
       "      <td>1</td>\n",
       "      <td>0</td>\n",
       "      <td>147</td>\n",
       "      <td>1</td>\n",
       "      <td>0</td>\n",
       "      <td>0</td>\n",
       "      <td>6</td>\n",
       "      <td>8</td>\n",
       "      <td>151</td>\n",
       "      <td>2</td>\n",
       "      <td>-1</td>\n",
       "      <td>0</td>\n",
       "      <td>3</td>\n",
       "      <td>0</td>\n",
       "    </tr>\n",
       "    <tr>\n",
       "      <th>8</th>\n",
       "      <td>41</td>\n",
       "      <td>2</td>\n",
       "      <td>1</td>\n",
       "      <td>2</td>\n",
       "      <td>0</td>\n",
       "      <td>221</td>\n",
       "      <td>1</td>\n",
       "      <td>0</td>\n",
       "      <td>2</td>\n",
       "      <td>14</td>\n",
       "      <td>8</td>\n",
       "      <td>57</td>\n",
       "      <td>2</td>\n",
       "      <td>-1</td>\n",
       "      <td>0</td>\n",
       "      <td>3</td>\n",
       "      <td>0</td>\n",
       "    </tr>\n",
       "    <tr>\n",
       "      <th>9</th>\n",
       "      <td>43</td>\n",
       "      <td>7</td>\n",
       "      <td>1</td>\n",
       "      <td>0</td>\n",
       "      <td>0</td>\n",
       "      <td>-88</td>\n",
       "      <td>1</td>\n",
       "      <td>1</td>\n",
       "      <td>0</td>\n",
       "      <td>17</td>\n",
       "      <td>0</td>\n",
       "      <td>313</td>\n",
       "      <td>1</td>\n",
       "      <td>147</td>\n",
       "      <td>2</td>\n",
       "      <td>0</td>\n",
       "      <td>0</td>\n",
       "    </tr>\n",
       "    <tr>\n",
       "      <th>...</th>\n",
       "      <td>...</td>\n",
       "      <td>...</td>\n",
       "      <td>...</td>\n",
       "      <td>...</td>\n",
       "      <td>...</td>\n",
       "      <td>...</td>\n",
       "      <td>...</td>\n",
       "      <td>...</td>\n",
       "      <td>...</td>\n",
       "      <td>...</td>\n",
       "      <td>...</td>\n",
       "      <td>...</td>\n",
       "      <td>...</td>\n",
       "      <td>...</td>\n",
       "      <td>...</td>\n",
       "      <td>...</td>\n",
       "      <td>...</td>\n",
       "    </tr>\n",
       "    <tr>\n",
       "      <th>4511</th>\n",
       "      <td>46</td>\n",
       "      <td>1</td>\n",
       "      <td>1</td>\n",
       "      <td>1</td>\n",
       "      <td>0</td>\n",
       "      <td>668</td>\n",
       "      <td>1</td>\n",
       "      <td>0</td>\n",
       "      <td>2</td>\n",
       "      <td>15</td>\n",
       "      <td>8</td>\n",
       "      <td>1263</td>\n",
       "      <td>2</td>\n",
       "      <td>-1</td>\n",
       "      <td>0</td>\n",
       "      <td>3</td>\n",
       "      <td>1</td>\n",
       "    </tr>\n",
       "    <tr>\n",
       "      <th>4512</th>\n",
       "      <td>40</td>\n",
       "      <td>1</td>\n",
       "      <td>1</td>\n",
       "      <td>1</td>\n",
       "      <td>0</td>\n",
       "      <td>1100</td>\n",
       "      <td>1</td>\n",
       "      <td>0</td>\n",
       "      <td>2</td>\n",
       "      <td>29</td>\n",
       "      <td>8</td>\n",
       "      <td>660</td>\n",
       "      <td>2</td>\n",
       "      <td>-1</td>\n",
       "      <td>0</td>\n",
       "      <td>3</td>\n",
       "      <td>0</td>\n",
       "    </tr>\n",
       "    <tr>\n",
       "      <th>4513</th>\n",
       "      <td>49</td>\n",
       "      <td>1</td>\n",
       "      <td>1</td>\n",
       "      <td>1</td>\n",
       "      <td>0</td>\n",
       "      <td>322</td>\n",
       "      <td>0</td>\n",
       "      <td>0</td>\n",
       "      <td>0</td>\n",
       "      <td>14</td>\n",
       "      <td>1</td>\n",
       "      <td>356</td>\n",
       "      <td>2</td>\n",
       "      <td>-1</td>\n",
       "      <td>0</td>\n",
       "      <td>3</td>\n",
       "      <td>0</td>\n",
       "    </tr>\n",
       "    <tr>\n",
       "      <th>4514</th>\n",
       "      <td>38</td>\n",
       "      <td>1</td>\n",
       "      <td>1</td>\n",
       "      <td>1</td>\n",
       "      <td>0</td>\n",
       "      <td>1205</td>\n",
       "      <td>1</td>\n",
       "      <td>0</td>\n",
       "      <td>0</td>\n",
       "      <td>20</td>\n",
       "      <td>0</td>\n",
       "      <td>45</td>\n",
       "      <td>4</td>\n",
       "      <td>153</td>\n",
       "      <td>1</td>\n",
       "      <td>0</td>\n",
       "      <td>0</td>\n",
       "    </tr>\n",
       "    <tr>\n",
       "      <th>4515</th>\n",
       "      <td>32</td>\n",
       "      <td>7</td>\n",
       "      <td>2</td>\n",
       "      <td>1</td>\n",
       "      <td>0</td>\n",
       "      <td>473</td>\n",
       "      <td>1</td>\n",
       "      <td>0</td>\n",
       "      <td>0</td>\n",
       "      <td>7</td>\n",
       "      <td>5</td>\n",
       "      <td>624</td>\n",
       "      <td>5</td>\n",
       "      <td>-1</td>\n",
       "      <td>0</td>\n",
       "      <td>3</td>\n",
       "      <td>0</td>\n",
       "    </tr>\n",
       "    <tr>\n",
       "      <th>4516</th>\n",
       "      <td>33</td>\n",
       "      <td>7</td>\n",
       "      <td>1</td>\n",
       "      <td>1</td>\n",
       "      <td>0</td>\n",
       "      <td>-333</td>\n",
       "      <td>1</td>\n",
       "      <td>0</td>\n",
       "      <td>0</td>\n",
       "      <td>30</td>\n",
       "      <td>5</td>\n",
       "      <td>329</td>\n",
       "      <td>5</td>\n",
       "      <td>-1</td>\n",
       "      <td>0</td>\n",
       "      <td>3</td>\n",
       "      <td>0</td>\n",
       "    </tr>\n",
       "    <tr>\n",
       "      <th>4517</th>\n",
       "      <td>57</td>\n",
       "      <td>6</td>\n",
       "      <td>1</td>\n",
       "      <td>2</td>\n",
       "      <td>1</td>\n",
       "      <td>-3313</td>\n",
       "      <td>1</td>\n",
       "      <td>1</td>\n",
       "      <td>2</td>\n",
       "      <td>9</td>\n",
       "      <td>8</td>\n",
       "      <td>153</td>\n",
       "      <td>1</td>\n",
       "      <td>-1</td>\n",
       "      <td>0</td>\n",
       "      <td>3</td>\n",
       "      <td>0</td>\n",
       "    </tr>\n",
       "    <tr>\n",
       "      <th>4518</th>\n",
       "      <td>57</td>\n",
       "      <td>9</td>\n",
       "      <td>1</td>\n",
       "      <td>1</td>\n",
       "      <td>0</td>\n",
       "      <td>295</td>\n",
       "      <td>0</td>\n",
       "      <td>0</td>\n",
       "      <td>0</td>\n",
       "      <td>19</td>\n",
       "      <td>1</td>\n",
       "      <td>151</td>\n",
       "      <td>11</td>\n",
       "      <td>-1</td>\n",
       "      <td>0</td>\n",
       "      <td>3</td>\n",
       "      <td>0</td>\n",
       "    </tr>\n",
       "    <tr>\n",
       "      <th>4519</th>\n",
       "      <td>28</td>\n",
       "      <td>1</td>\n",
       "      <td>1</td>\n",
       "      <td>1</td>\n",
       "      <td>0</td>\n",
       "      <td>1137</td>\n",
       "      <td>0</td>\n",
       "      <td>0</td>\n",
       "      <td>0</td>\n",
       "      <td>6</td>\n",
       "      <td>3</td>\n",
       "      <td>129</td>\n",
       "      <td>4</td>\n",
       "      <td>211</td>\n",
       "      <td>3</td>\n",
       "      <td>1</td>\n",
       "      <td>0</td>\n",
       "    </tr>\n",
       "    <tr>\n",
       "      <th>4520</th>\n",
       "      <td>44</td>\n",
       "      <td>2</td>\n",
       "      <td>2</td>\n",
       "      <td>2</td>\n",
       "      <td>0</td>\n",
       "      <td>1136</td>\n",
       "      <td>1</td>\n",
       "      <td>1</td>\n",
       "      <td>0</td>\n",
       "      <td>3</td>\n",
       "      <td>0</td>\n",
       "      <td>345</td>\n",
       "      <td>2</td>\n",
       "      <td>249</td>\n",
       "      <td>7</td>\n",
       "      <td>1</td>\n",
       "      <td>0</td>\n",
       "    </tr>\n",
       "  </tbody>\n",
       "</table>\n",
       "<p>4521 rows × 17 columns</p>\n",
       "</div>"
      ],
      "text/plain": [
       "      V1  V2  V3  V4  V5    V6  V7  V8  V9  V10  V11   V12  V13  V14  V15  \\\n",
       "0     30  10   1   0   0  1787   0   0   0   19   10    79    1   -1    0   \n",
       "1     33   7   1   1   0  4789   1   1   0   11    8   220    1  339    4   \n",
       "2     35   4   2   2   0  1350   1   0   0   16    0   185    1  330    1   \n",
       "3     30   4   1   2   0  1476   1   1   2    3    6   199    4   -1    0   \n",
       "4     59   1   1   1   0     0   1   0   2    5    8   226    1   -1    0   \n",
       "5     35   4   2   2   0   747   0   0   0   23    3   141    2  176    3   \n",
       "6     36   6   1   2   0   307   1   0   0   14    8   341    1  330    2   \n",
       "7     39   9   1   1   0   147   1   0   0    6    8   151    2   -1    0   \n",
       "8     41   2   1   2   0   221   1   0   2   14    8    57    2   -1    0   \n",
       "9     43   7   1   0   0   -88   1   1   0   17    0   313    1  147    2   \n",
       "...   ..  ..  ..  ..  ..   ...  ..  ..  ..  ...  ...   ...  ...  ...  ...   \n",
       "4511  46   1   1   1   0   668   1   0   2   15    8  1263    2   -1    0   \n",
       "4512  40   1   1   1   0  1100   1   0   2   29    8   660    2   -1    0   \n",
       "4513  49   1   1   1   0   322   0   0   0   14    1   356    2   -1    0   \n",
       "4514  38   1   1   1   0  1205   1   0   0   20    0    45    4  153    1   \n",
       "4515  32   7   2   1   0   473   1   0   0    7    5   624    5   -1    0   \n",
       "4516  33   7   1   1   0  -333   1   0   0   30    5   329    5   -1    0   \n",
       "4517  57   6   1   2   1 -3313   1   1   2    9    8   153    1   -1    0   \n",
       "4518  57   9   1   1   0   295   0   0   0   19    1   151   11   -1    0   \n",
       "4519  28   1   1   1   0  1137   0   0   0    6    3   129    4  211    3   \n",
       "4520  44   2   2   2   0  1136   1   1   0    3    0   345    2  249    7   \n",
       "\n",
       "      V16 V17  \n",
       "0       3   0  \n",
       "1       0   0  \n",
       "2       0   0  \n",
       "3       3   0  \n",
       "4       3   0  \n",
       "5       0   0  \n",
       "6       1   0  \n",
       "7       3   0  \n",
       "8       3   0  \n",
       "9       0   0  \n",
       "...   ...  ..  \n",
       "4511    3   1  \n",
       "4512    3   0  \n",
       "4513    3   0  \n",
       "4514    0   0  \n",
       "4515    3   0  \n",
       "4516    3   0  \n",
       "4517    3   0  \n",
       "4518    3   0  \n",
       "4519    1   0  \n",
       "4520    1   0  \n",
       "\n",
       "[4521 rows x 17 columns]"
      ]
     },
     "execution_count": 3,
     "metadata": {},
     "output_type": "execute_result"
    }
   ],
   "source": [
    "df=data\n",
    "lb_make = LabelEncoder()\n",
    "df[\"V1\"]= data[\"V1\"].astype('int32')\n",
    "df[\"V2\"]= lb_make.fit_transform(data[\"V2\"])\n",
    "df[\"V3\"]= lb_make.fit_transform(data[\"V3\"])\n",
    "df[\"V4\"]= lb_make.fit_transform(data[\"V4\"])\n",
    "df[\"V5\"]= lb_make.fit_transform(data[\"V5\"])\n",
    "df[\"V7\"]= lb_make.fit_transform(data[\"V7\"])\n",
    "df[\"V8\"]= lb_make.fit_transform(data[\"V8\"])\n",
    "df[\"V9\"]= lb_make.fit_transform(data[\"V9\"])\n",
    "df[\"V11\"]= lb_make.fit_transform(data[\"V11\"])\n",
    "df[\"V16\"]= lb_make.fit_transform(data[\"V16\"])\n",
    "df[\"V17\"]= lb_make.fit_transform(data[\"V17\"])\n",
    "df.V17 = df.V17.astype(str)\n",
    "X = df.loc[:,  \"V1\":\"V16\"]  # independent variables data\n",
    "y = df.V17  # dependednt variable data\n",
    "df"
   ]
  },
  {
   "cell_type": "markdown",
   "metadata": {},
   "source": [
    "### A Matrix Scatterplot\n",
    "\n",
    "One common way of plotting multivariate data is to make a *matrix scatterplot*, showing each pair of variables plotted against each other. We can use the `scatter_matrix()` function from the `pandas.tools.plotting` package to do this.\n",
    "\n",
    "To use the `scatter_matrix()` function, you need to give it as its input the variables that you want included in the plot. Say for example, that we just want to include the variables corresponding to the concentrations of the first five chemicals. These are stored in columns V2-V6 of the variable `data`. The parameter `diagonal` allows us to specify whether to plot a histogram (`\"hist\"`) or a Kernel Density Estimation (`\"kde\"`) for the variable. We can extract just these columns from the variable `data` by typing:"
   ]
  },
  {
   "cell_type": "code",
   "execution_count": 4,
   "metadata": {
    "ExecuteTime": {
     "end_time": "2019-12-02T16:00:11.470477Z",
     "start_time": "2019-12-02T16:00:06.608469Z"
    },
    "scrolled": true
   },
   "outputs": [
    {
     "data": {
      "image/png": "[encoded data removed]",
      "text/plain": [
       "<Figure size 432x288 with 49 Axes>"
      ]
     },
     "metadata": {
      "needs_background": "light"
     },
     "output_type": "display_data"
    }
   ],
   "source": [
    "pd.plotting.scatter_matrix(df.loc[:, \"V10\":\"V16\"], diagonal=\"kde\")\n",
    "plt.tight_layout()\n",
    "plt.show()"
   ]
  },
  {
   "cell_type": "markdown",
   "metadata": {},
   "source": [
    "### A Scatterplot with the Data Points Labelled by their Group\n",
    "\n",
    "If you see an interesting scatterplot for two variables in the matrix scatterplot, you may want to plot that scatterplot in more detail, with the data points labelled by their group (their cultivar in this case).\n",
    "\n",
    "For example, in the matrix scatterplot above, the cell in the third column of the fourth row down is a scatterplot of V15 (x-axis) against V14 (y-axis). If you look at this scatterplot, it appears that there may be a positive relationship between V15 and V14.\n",
    "\n",
    "We may therefore decide to examine the relationship between `V15` and `V14` more closely, by plotting a scatterplot of these two variables, with the data points labelled by their group (their cultivar). To plot a scatterplot of two variables, we can use the `lmplot` function from the `seaborn` package. The V14 and V15 variables are stored in the columns V14 and V15 of the variable `data`. The first two parameters in the `lmplot()` function are the columns to be plotted against each other in x-y, the third parameter specifies the data, the `hue` parameter is the column name used for the labels of the datapoints, i.e. the classes they belong to, lastly, the `fit_reg` parameter is set to `False` when we do not want to plot a regression model relating to the x-y variables. Therefore, to plot the scatterplot, we type:"
   ]
  },
  {
   "cell_type": "code",
   "execution_count": 5,
   "metadata": {
    "ExecuteTime": {
     "end_time": "2019-12-02T16:00:11.775675Z",
     "start_time": "2019-12-02T16:00:11.472492Z"
    }
   },
   "outputs": [
    {
     "data": {
      "image/png": "[encoded data removed]",
      "text/plain": [
       "<Figure size 402.375x360 with 1 Axes>"
      ]
     },
     "metadata": {
      "needs_background": "light"
     },
     "output_type": "display_data"
    }
   ],
   "source": [
    "sns.lmplot(\"V15\", \"V14\", df, hue=\"V17\", fit_reg=False);"
   ]
  },
  {
   "cell_type": "markdown",
   "metadata": {},
   "source": [
    "### A Profile Plot\n",
    "\n",
    "Another type of plot that is useful is a *profile plot*, which shows the variation in each of the variables, by plotting the value of each of the variables for each of the samples.\n",
    "\n",
    "This can be achieved using `pandas` plot facilities, which are built upon `matplotlib`, by running the following:"
   ]
  },
  {
   "cell_type": "code",
   "execution_count": 9,
   "metadata": {
    "ExecuteTime": {
     "end_time": "2019-12-02T16:01:41.206232Z",
     "start_time": "2019-12-02T16:01:40.925013Z"
    }
   },
   "outputs": [
    {
     "data": {
      "image/png": "[encoded data removed]",
      "text/plain": [
       "<Figure size 432x288 with 1 Axes>"
      ]
     },
     "metadata": {
      "needs_background": "light"
     },
     "output_type": "display_data"
    }
   ],
   "source": [
    "ax = df[[\"V1\",\"V2\",\"V3\",\"V4\",\"V5\"]].plot()\n",
    "ax.legend(loc='center left', bbox_to_anchor=(1, 0.5));"
   ]
  },
  {
   "cell_type": "markdown",
   "metadata": {},
   "source": [
    "## Calculating Summary Statistics for Multivariate Data\n",
    "\n",
    "Another thing that you are likely to want to do is to calculate summary statistics such as the mean and standard deviation for each of the variables in your multivariate data set.\n",
    "\n",
    "This is easy to do, using the `mean()` and `std()` functions in `numpy` and applying them to the dataframe using its member function `apply`.\n",
    "\n",
    "<p><div class=\"alert alert-success\">\n",
    "Pandas allows to do simple operations directly calling them as methods, for example we could do compute the means of a dataframe `df` by calling `df.mean()`.\n",
    "\n",
    "An alternative option is to use the `apply` method of the `pandas.DataFrame` class, which applies the passed argument function along the input axis of the DataFrame. This method is powerful as it allows passing any function we want to be applied in our data.\n",
    "</div></p>\n",
    "\n",
    "For example, say we want to calculate the mean and standard deviations of each of the 13 chemical concentrations in the wine samples. These are stored in columns V2-V14 of the variable `data`, which has been previously assigned to `X` for convenience. So we type:"
   ]
  },
  {
   "cell_type": "code",
   "execution_count": 10,
   "metadata": {
    "ExecuteTime": {
     "end_time": "2019-12-02T16:01:47.877677Z",
     "start_time": "2019-12-02T16:01:47.864693Z"
    }
   },
   "outputs": [
    {
     "data": {
      "text/plain": [
       "V1       41.170095\n",
       "V2        4.411192\n",
       "V3        1.147755\n",
       "V4        1.231365\n",
       "V5        0.016810\n",
       "V6     1422.657819\n",
       "V7        0.566025\n",
       "V8        0.152842\n",
       "V9        0.652289\n",
       "V10      15.915284\n",
       "V11       5.540146\n",
       "V12     263.961292\n",
       "V13       2.793630\n",
       "V14      39.766645\n",
       "V15       0.542579\n",
       "V16       2.559168\n",
       "dtype: float64"
      ]
     },
     "execution_count": 10,
     "metadata": {},
     "output_type": "execute_result"
    }
   ],
   "source": [
    "X.apply(np.mean)"
   ]
  },
  {
   "cell_type": "code",
   "execution_count": 11,
   "metadata": {
    "ExecuteTime": {
     "end_time": "2019-12-02T16:01:48.189823Z",
     "start_time": "2019-12-02T16:01:48.179881Z"
    }
   },
   "outputs": [
    {
     "data": {
      "text/plain": [
       "V1       10.575041\n",
       "V2        3.255356\n",
       "V3        0.599583\n",
       "V4        0.748661\n",
       "V5        0.128561\n",
       "V6     3009.305273\n",
       "V7        0.495621\n",
       "V8        0.359835\n",
       "V9        0.901398\n",
       "V10       8.246755\n",
       "V11       3.002431\n",
       "V12     259.827892\n",
       "V13       3.109463\n",
       "V14     100.110051\n",
       "V15       1.693375\n",
       "V16       0.991941\n",
       "dtype: float64"
      ]
     },
     "execution_count": 11,
     "metadata": {},
     "output_type": "execute_result"
    }
   ],
   "source": [
    "X.apply(np.std)"
   ]
  },
  {
   "cell_type": "markdown",
   "metadata": {},
   "source": [
    "For convenience, you might want to use the function `printMeanAndSdByGroup()` below, which prints out the mean and standard deviation of the variables for each group in your data set:"
   ]
  },
  {
   "cell_type": "code",
   "execution_count": 12,
   "metadata": {
    "ExecuteTime": {
     "end_time": "2019-12-02T16:01:50.135703Z",
     "start_time": "2019-12-02T16:01:50.077829Z"
    }
   },
   "outputs": [
    {
     "name": "stdout",
     "output_type": "stream",
     "text": [
      "## Means:\n"
     ]
    },
    {
     "data": {
      "text/html": [
       "<div>\n",
       "<style scoped>\n",
       "    .dataframe tbody tr th:only-of-type {\n",
       "        vertical-align: middle;\n",
       "    }\n",
       "\n",
       "    .dataframe tbody tr th {\n",
       "        vertical-align: top;\n",
       "    }\n",
       "\n",
       "    .dataframe thead th {\n",
       "        text-align: right;\n",
       "    }\n",
       "</style>\n",
       "<table border=\"1\" class=\"dataframe\">\n",
       "  <thead>\n",
       "    <tr style=\"text-align: right;\">\n",
       "      <th></th>\n",
       "      <th>V1</th>\n",
       "      <th>V2</th>\n",
       "      <th>V3</th>\n",
       "      <th>V4</th>\n",
       "      <th>V5</th>\n",
       "      <th>V6</th>\n",
       "      <th>V7</th>\n",
       "      <th>V8</th>\n",
       "      <th>V9</th>\n",
       "      <th>V10</th>\n",
       "      <th>V11</th>\n",
       "      <th>V12</th>\n",
       "      <th>V13</th>\n",
       "      <th>V14</th>\n",
       "      <th>V15</th>\n",
       "      <th>V16</th>\n",
       "    </tr>\n",
       "    <tr>\n",
       "      <th>V17</th>\n",
       "      <th></th>\n",
       "      <th></th>\n",
       "      <th></th>\n",
       "      <th></th>\n",
       "      <th></th>\n",
       "      <th></th>\n",
       "      <th></th>\n",
       "      <th></th>\n",
       "      <th></th>\n",
       "      <th></th>\n",
       "      <th></th>\n",
       "      <th></th>\n",
       "      <th></th>\n",
       "      <th></th>\n",
       "      <th></th>\n",
       "      <th></th>\n",
       "    </tr>\n",
       "  </thead>\n",
       "  <tbody>\n",
       "    <tr>\n",
       "      <th>0</th>\n",
       "      <td>40.998000</td>\n",
       "      <td>4.379000</td>\n",
       "      <td>1.144500</td>\n",
       "      <td>1.219750</td>\n",
       "      <td>0.016750</td>\n",
       "      <td>1403.211750</td>\n",
       "      <td>0.584750</td>\n",
       "      <td>0.162000</td>\n",
       "      <td>0.695750</td>\n",
       "      <td>15.948750</td>\n",
       "      <td>5.584500</td>\n",
       "      <td>226.347500</td>\n",
       "      <td>2.862250</td>\n",
       "      <td>36.006000</td>\n",
       "      <td>0.471250</td>\n",
       "      <td>2.588750</td>\n",
       "    </tr>\n",
       "    <tr>\n",
       "      <th>1</th>\n",
       "      <td>42.491363</td>\n",
       "      <td>4.658349</td>\n",
       "      <td>1.172745</td>\n",
       "      <td>1.320537</td>\n",
       "      <td>0.017274</td>\n",
       "      <td>1571.955854</td>\n",
       "      <td>0.422265</td>\n",
       "      <td>0.082534</td>\n",
       "      <td>0.318618</td>\n",
       "      <td>15.658349</td>\n",
       "      <td>5.199616</td>\n",
       "      <td>552.742802</td>\n",
       "      <td>2.266795</td>\n",
       "      <td>68.639155</td>\n",
       "      <td>1.090211</td>\n",
       "      <td>2.332054</td>\n",
       "    </tr>\n",
       "  </tbody>\n",
       "</table>\n",
       "</div>"
      ],
      "text/plain": [
       "            V1        V2        V3        V4        V5           V6        V7  \\\n",
       "V17                                                                             \n",
       "0    40.998000  4.379000  1.144500  1.219750  0.016750  1403.211750  0.584750   \n",
       "1    42.491363  4.658349  1.172745  1.320537  0.017274  1571.955854  0.422265   \n",
       "\n",
       "           V8        V9        V10       V11         V12       V13        V14  \\\n",
       "V17                                                                             \n",
       "0    0.162000  0.695750  15.948750  5.584500  226.347500  2.862250  36.006000   \n",
       "1    0.082534  0.318618  15.658349  5.199616  552.742802  2.266795  68.639155   \n",
       "\n",
       "          V15       V16  \n",
       "V17                      \n",
       "0    0.471250  2.588750  \n",
       "1    1.090211  2.332054  "
      ]
     },
     "metadata": {},
     "output_type": "display_data"
    },
    {
     "name": "stdout",
     "output_type": "stream",
     "text": [
      "\n",
      "## Standard deviations:\n"
     ]
    },
    {
     "data": {
      "text/html": [
       "<div>\n",
       "<style scoped>\n",
       "    .dataframe tbody tr th:only-of-type {\n",
       "        vertical-align: middle;\n",
       "    }\n",
       "\n",
       "    .dataframe tbody tr th {\n",
       "        vertical-align: top;\n",
       "    }\n",
       "\n",
       "    .dataframe thead th {\n",
       "        text-align: right;\n",
       "    }\n",
       "</style>\n",
       "<table border=\"1\" class=\"dataframe\">\n",
       "  <thead>\n",
       "    <tr style=\"text-align: right;\">\n",
       "      <th></th>\n",
       "      <th>V1</th>\n",
       "      <th>V2</th>\n",
       "      <th>V3</th>\n",
       "      <th>V4</th>\n",
       "      <th>V5</th>\n",
       "      <th>V6</th>\n",
       "      <th>V7</th>\n",
       "      <th>V8</th>\n",
       "      <th>V9</th>\n",
       "      <th>V10</th>\n",
       "      <th>V11</th>\n",
       "      <th>V12</th>\n",
       "      <th>V13</th>\n",
       "      <th>V14</th>\n",
       "      <th>V15</th>\n",
       "      <th>V16</th>\n",
       "    </tr>\n",
       "    <tr>\n",
       "      <th>V17</th>\n",
       "      <th></th>\n",
       "      <th></th>\n",
       "      <th></th>\n",
       "      <th></th>\n",
       "      <th></th>\n",
       "      <th></th>\n",
       "      <th></th>\n",
       "      <th></th>\n",
       "      <th></th>\n",
       "      <th></th>\n",
       "      <th></th>\n",
       "      <th></th>\n",
       "      <th></th>\n",
       "      <th></th>\n",
       "      <th></th>\n",
       "      <th></th>\n",
       "    </tr>\n",
       "  </thead>\n",
       "  <tbody>\n",
       "    <tr>\n",
       "      <th>0</th>\n",
       "      <td>10.187124</td>\n",
       "      <td>3.271522</td>\n",
       "      <td>0.590864</td>\n",
       "      <td>0.749973</td>\n",
       "      <td>0.128333</td>\n",
       "      <td>3074.964870</td>\n",
       "      <td>0.492765</td>\n",
       "      <td>0.368451</td>\n",
       "      <td>0.918249</td>\n",
       "      <td>8.248704</td>\n",
       "      <td>2.943528</td>\n",
       "      <td>210.287340</td>\n",
       "      <td>3.212207</td>\n",
       "      <td>96.285619</td>\n",
       "      <td>1.627167</td>\n",
       "      <td>0.980879</td>\n",
       "    </tr>\n",
       "    <tr>\n",
       "      <th>1</th>\n",
       "      <td>13.103179</td>\n",
       "      <td>3.117404</td>\n",
       "      <td>0.662185</td>\n",
       "      <td>0.732401</td>\n",
       "      <td>0.130292</td>\n",
       "      <td>2442.051957</td>\n",
       "      <td>0.493920</td>\n",
       "      <td>0.275176</td>\n",
       "      <td>0.671763</td>\n",
       "      <td>8.227241</td>\n",
       "      <td>3.401829</td>\n",
       "      <td>389.951032</td>\n",
       "      <td>2.090062</td>\n",
       "      <td>121.845960</td>\n",
       "      <td>2.053395</td>\n",
       "      <td>1.045560</td>\n",
       "    </tr>\n",
       "  </tbody>\n",
       "</table>\n",
       "</div>"
      ],
      "text/plain": [
       "            V1        V2        V3        V4        V5           V6        V7  \\\n",
       "V17                                                                             \n",
       "0    10.187124  3.271522  0.590864  0.749973  0.128333  3074.964870  0.492765   \n",
       "1    13.103179  3.117404  0.662185  0.732401  0.130292  2442.051957  0.493920   \n",
       "\n",
       "           V8        V9       V10       V11         V12       V13         V14  \\\n",
       "V17                                                                             \n",
       "0    0.368451  0.918249  8.248704  2.943528  210.287340  3.212207   96.285619   \n",
       "1    0.275176  0.671763  8.227241  3.401829  389.951032  2.090062  121.845960   \n",
       "\n",
       "          V15       V16  \n",
       "V17                      \n",
       "0    1.627167  0.980879  \n",
       "1    2.053395  1.045560  "
      ]
     },
     "metadata": {},
     "output_type": "display_data"
    },
    {
     "name": "stdout",
     "output_type": "stream",
     "text": [
      "\n",
      "## Sample sizes:\n"
     ]
    },
    {
     "data": {
      "text/html": [
       "<div>\n",
       "<style scoped>\n",
       "    .dataframe tbody tr th:only-of-type {\n",
       "        vertical-align: middle;\n",
       "    }\n",
       "\n",
       "    .dataframe tbody tr th {\n",
       "        vertical-align: top;\n",
       "    }\n",
       "\n",
       "    .dataframe thead th {\n",
       "        text-align: right;\n",
       "    }\n",
       "</style>\n",
       "<table border=\"1\" class=\"dataframe\">\n",
       "  <thead>\n",
       "    <tr style=\"text-align: right;\">\n",
       "      <th></th>\n",
       "      <th>0</th>\n",
       "    </tr>\n",
       "    <tr>\n",
       "      <th>V17</th>\n",
       "      <th></th>\n",
       "    </tr>\n",
       "  </thead>\n",
       "  <tbody>\n",
       "    <tr>\n",
       "      <th>0</th>\n",
       "      <td>4000</td>\n",
       "    </tr>\n",
       "    <tr>\n",
       "      <th>1</th>\n",
       "      <td>521</td>\n",
       "    </tr>\n",
       "  </tbody>\n",
       "</table>\n",
       "</div>"
      ],
      "text/plain": [
       "        0\n",
       "V17      \n",
       "0    4000\n",
       "1     521"
      ]
     },
     "metadata": {},
     "output_type": "display_data"
    }
   ],
   "source": [
    "def printMeanAndSdByGroup(variables, groupvariable):\n",
    "    data_groupby = variables.groupby(groupvariable)\n",
    "    print(\"## Means:\")\n",
    "    display(data_groupby.apply(np.mean))\n",
    "    print(\"\\n## Standard deviations:\")\n",
    "    display(data_groupby.apply(np.std))\n",
    "    print(\"\\n## Sample sizes:\")\n",
    "    display(pd.DataFrame(data_groupby.apply(len)))\n",
    "    \n",
    "printMeanAndSdByGroup(X, y)"
   ]
  },
  {
   "cell_type": "markdown",
   "metadata": {},
   "source": [
    "### Between-groups Variance and Within-groups Variance for a Variable\n",
    "\n",
    "If we want to calculate the within-groups variance for a particular variable (for example, for a particular chemical’s concentration), we can use the function `calcWithinGroupsVariance()` below:"
   ]
  },
  {
   "cell_type": "markdown",
   "metadata": {},
   "source": [
    "The `variable` parameter of the function `calcWithinGroupsVariance()` is the input variable for which we wish to compute its within-groups variance for the groups given in `groupvariable`.\n",
    "\n",
    "So for example, to calculate the within-groups variance of the variable V1 (age), we type:"
   ]
  },
  {
   "cell_type": "code",
   "execution_count": 13,
   "metadata": {
    "ExecuteTime": {
     "end_time": "2019-12-02T16:01:50.619409Z",
     "start_time": "2019-12-02T16:01:50.608411Z"
    }
   },
   "outputs": [
    {
     "data": {
      "text/plain": [
       "111.65350633601187"
      ]
     },
     "execution_count": 13,
     "metadata": {},
     "output_type": "execute_result"
    }
   ],
   "source": [
    "def calcWithinGroupsVariance(variable, groupvariable):\n",
    "    # find out how many values the group variable can take\n",
    "    levels = sorted(set(groupvariable))\n",
    "    numlevels = len(levels)\n",
    "    # get the mean and standard deviation for each group:\n",
    "    numtotal = 0\n",
    "    denomtotal = 0\n",
    "    for leveli in levels:\n",
    "        levelidata = variable[groupvariable==leveli]\n",
    "        levelilength = len(levelidata)\n",
    "        # get the standard deviation for group i:\n",
    "        sdi = np.std(levelidata)\n",
    "        numi = (levelilength)*sdi**2\n",
    "        denomi = levelilength\n",
    "        numtotal = numtotal + numi\n",
    "        denomtotal = denomtotal + denomi\n",
    "    # calculate the within-groups variance\n",
    "    Vw = numtotal / (denomtotal - numlevels)\n",
    "    return Vw\n",
    "\n",
    "calcWithinGroupsVariance(X.V1, y)"
   ]
  },
  {
   "cell_type": "markdown",
   "metadata": {},
   "source": [
    "We can calculate the between-groups variance for a particular variable (eg. V1) using the function `calcBetweenGroupsVariance()` below:"
   ]
  },
  {
   "cell_type": "markdown",
   "metadata": {},
   "source": [
    "Similarly to the parameters of the function `calcWithinGroupsVariance()`, the `variable` parameter of the function `calcBetweenGroupsVariance()` is the input variable for which we wish to compute its between-groups variance for the groups given in `groupvariable`.\n",
    "\n",
    "So for example, to calculate the between-groups variance of the variable V2 (the concentration of the first chemical), we type:"
   ]
  },
  {
   "cell_type": "code",
   "execution_count": 17,
   "metadata": {
    "ExecuteTime": {
     "end_time": "2019-12-02T16:02:39.330965Z",
     "start_time": "2019-12-02T16:02:39.317001Z"
    }
   },
   "outputs": [
    {
     "data": {
      "text/plain": [
       "1028.0017266643513"
      ]
     },
     "execution_count": 17,
     "metadata": {},
     "output_type": "execute_result"
    }
   ],
   "source": [
    "def calcBetweenGroupsVariance(variable, groupvariable):\n",
    "    # find out how many values the group variable can take\n",
    "    levels = sorted(set((groupvariable)))\n",
    "    numlevels = len(levels)\n",
    "    # calculate the overall grand mean:\n",
    "    grandmean = np.mean(variable)\n",
    "    # get the mean and standard deviation for each group:\n",
    "    numtotal = 0\n",
    "    denomtotal = 0\n",
    "    for leveli in levels:\n",
    "        levelidata = variable[groupvariable==leveli]\n",
    "        levelilength = len(levelidata)\n",
    "        # get the mean and standard deviation for group i:\n",
    "        meani = np.mean(levelidata)\n",
    "        sdi = np.std(levelidata)\n",
    "        numi = levelilength * ((meani - grandmean)**2)\n",
    "        denomi = levelilength\n",
    "        numtotal = numtotal + numi\n",
    "        denomtotal = denomtotal + denomi\n",
    "    # calculate the between-groups variance\n",
    "    Vb = numtotal / (numlevels - 1)\n",
    "    return(Vb)\n",
    "\n",
    "calcBetweenGroupsVariance(X.V1, y)"
   ]
  },
  {
   "cell_type": "markdown",
   "metadata": {},
   "source": [
    "We can calculate the *separation* achieved by a variable as its between-groups variance devided by its within-groups variance. Thus, the separation achieved by V1 is calculated as:"
   ]
  },
  {
   "cell_type": "code",
   "execution_count": 18,
   "metadata": {
    "ExecuteTime": {
     "end_time": "2019-12-02T16:02:41.252691Z",
     "start_time": "2019-12-02T16:02:41.240702Z"
    }
   },
   "outputs": [
    {
     "data": {
      "text/plain": [
       "9.207070699335372"
      ]
     },
     "execution_count": 18,
     "metadata": {},
     "output_type": "execute_result"
    }
   ],
   "source": [
    "calcBetweenGroupsVariance(X.V1, y) / calcWithinGroupsVariance(X.V1, y)"
   ]
  },
  {
   "cell_type": "markdown",
   "metadata": {},
   "source": [
    "If you want to calculate the separations achieved by all of the variables in a multivariate data set, you can use the function `calcSeparations()` below:"
   ]
  },
  {
   "cell_type": "code",
   "execution_count": 19,
   "metadata": {
    "ExecuteTime": {
     "end_time": "2019-12-02T16:02:44.385379Z",
     "start_time": "2019-12-02T16:02:44.261744Z"
    }
   },
   "outputs": [
    {
     "name": "stdout",
     "output_type": "stream",
     "text": [
      "variable V1 Vw= 111.65350633601187 Vb= 1028.0017266643513 separation= 9.207070699335372\n",
      "variable V2 Vw= 10.594074392658168 Vb= 35.97149354367193 separation= 3.395435241478071\n",
      "variable V3 Vw= 0.3595777771737076 Vb= 0.3677374050124753 separation= 1.0226922472876456\n",
      "variable V4 Vw= 0.5597056869927313 Vb= 4.682480019771256 separation= 8.365968273308013\n",
      "variable V5 Vw= 0.016535136036839967 Vb= 0.00012679674421902295 separation= 0.007668321804944467\n",
      "variable V6 Vw= 9057021.612222258 Vb= 13125638.013701092 separation= 1.4492223355179283\n",
      "variable V7 Vw= 0.2430563127787601 Vb= 12.169995678197838 separation= 50.07068336988832\n",
      "variable V8 Vw= 0.12889467927908563 Vb= 2.9109208916716662 separation= 22.583716472647218\n",
      "variable V9 Vw= 0.7983706915225502 Vb= 65.56165058358498 separation= 82.11931034010554\n",
      "variable V10 Vw= 68.03046690206291 Vb= 38.87392934327388 separation= 0.5714194112358075\n",
      "variable V11 Vw= 9.003469555924886 Vb= 68.2845804250669 separation= 7.584251826578464\n",
      "variable V12 Vw= 56673.43715656309 Vb= 49107859.71554753 separation= 866.50575965394\n",
      "variable V13 Vw= 9.636869948445444 Vb= 163.4412391396133 separation= 16.959992198086947\n",
      "variable V14 Vw= 9917.830497284447 Vb= 490886.7927693812 separation= 49.495380355995046\n",
      "variable V15 Vw= 2.8297087467969533 Vb= 176.59970120510346 separation= 62.40914419372766\n",
      "variable V16 Vw= 0.9776606444999342 Vb= 30.374020409023192 separation= 31.068060865392887\n"
     ]
    }
   ],
   "source": [
    "def calcSeparations(variables, groupvariable):\n",
    "    # calculate the separation for each variable\n",
    "    for variablename in variables:\n",
    "        variablei = variables[variablename]\n",
    "        Vw = calcWithinGroupsVariance(variablei, groupvariable)\n",
    "        Vb = calcBetweenGroupsVariance(variablei, groupvariable)\n",
    "        sep = Vb/Vw\n",
    "        print(\"variable\", variablename, \"Vw=\", Vw, \"Vb=\", Vb, \"separation=\", sep)\n",
    "        \n",
    "calcSeparations(X, y)"
   ]
  },
  {
   "cell_type": "markdown",
   "metadata": {},
   "source": [
    "Thus, the individual variable which gives the greatest separations between the groups (the wine cultivars) is V12 (separation 866.5). As we will discuss below, the purpose of linear discriminant analysis (LDA) is to find the linear combination of the individual variables that will give the greatest separation between the groups (cultivars here). This hopefully will give a better separation than the best separation achievable by any individual variable."
   ]
  },
  {
   "cell_type": "markdown",
   "metadata": {},
   "source": [
    "### Between-groups Covariance and Within-groups Covariance for Two Variables\n",
    "\n",
    "If you have a multivariate data set with several variables describing sampling units from different groups, such as the wine samples from different cultivars, it is often of interest to calculate the within-groups covariance and between-groups variance for pairs of the variables.\n",
    "\n",
    "This can be done using the following functions:"
   ]
  },
  {
   "cell_type": "code",
   "execution_count": 20,
   "metadata": {
    "ExecuteTime": {
     "end_time": "2019-12-02T16:02:53.455688Z",
     "start_time": "2019-12-02T16:02:53.449703Z"
    }
   },
   "outputs": [],
   "source": [
    "def calcWithinGroupsCovariance(variable1, variable2, groupvariable):\n",
    "    levels = sorted(set(groupvariable))\n",
    "    numlevels = len(levels)\n",
    "    Covw = 0.0\n",
    "    # get the covariance of variable 1 and variable 2 for each group:\n",
    "    for leveli in levels:\n",
    "        levelidata1 = variable1[groupvariable==leveli]\n",
    "        levelidata2 = variable2[groupvariable==leveli]\n",
    "        mean1 = np.mean(levelidata1)\n",
    "        mean2 = np.mean(levelidata2)\n",
    "        levelilength = len(levelidata1)\n",
    "        # get the covariance for this group:\n",
    "        term1 = 0.0\n",
    "        for levelidata1j, levelidata2j in zip(levelidata1, levelidata2):\n",
    "            term1 += (levelidata1j - mean1)*(levelidata2j - mean2)\n",
    "        Cov_groupi = term1 # covariance for this group\n",
    "        Covw += Cov_groupi\n",
    "    totallength = len(variable1)\n",
    "    Covw /= totallength - numlevels\n",
    "    return Covw"
   ]
  },
  {
   "cell_type": "markdown",
   "metadata": {},
   "source": [
    "For example, to calculate the within-groups covariance for variables V8 and V12, we type:"
   ]
  },
  {
   "cell_type": "code",
   "execution_count": 21,
   "metadata": {
    "ExecuteTime": {
     "end_time": "2019-12-02T16:02:55.768883Z",
     "start_time": "2019-12-02T16:02:55.752904Z"
    }
   },
   "outputs": [
    {
     "data": {
      "text/plain": [
       "2.1783313788359573"
      ]
     },
     "execution_count": 21,
     "metadata": {},
     "output_type": "execute_result"
    }
   ],
   "source": [
    "calcWithinGroupsCovariance(X.V8, X.V12, y)"
   ]
  },
  {
   "cell_type": "code",
   "execution_count": 22,
   "metadata": {
    "ExecuteTime": {
     "end_time": "2019-12-02T16:02:56.912927Z",
     "start_time": "2019-12-02T16:02:56.906958Z"
    }
   },
   "outputs": [],
   "source": [
    "def calcBetweenGroupsCovariance(variable1, variable2, groupvariable):\n",
    "    # find out how many values the group variable can take\n",
    "    levels = sorted(set(groupvariable))\n",
    "    numlevels = len(levels)\n",
    "    # calculate the grand means\n",
    "    variable1mean = np.mean(variable1)\n",
    "    variable2mean = np.mean(variable2)\n",
    "    # calculate the between-groups covariance\n",
    "    Covb = 0.0\n",
    "    for leveli in levels:\n",
    "        levelidata1 = variable1[groupvariable==leveli]\n",
    "        levelidata2 = variable2[groupvariable==leveli]\n",
    "        mean1 = np.mean(levelidata1)\n",
    "        mean2 = np.mean(levelidata2)\n",
    "        levelilength = len(levelidata1)\n",
    "        term1 = (mean1 - variable1mean) * (mean2 - variable2mean) * levelilength\n",
    "        Covb += term1\n",
    "    Covb /= numlevels - 1\n",
    "    return Covb"
   ]
  },
  {
   "cell_type": "markdown",
   "metadata": {},
   "source": [
    "For example, to calculate the between-groups covariance for variables V8 and V12, we type:"
   ]
  },
  {
   "cell_type": "code",
   "execution_count": 23,
   "metadata": {
    "ExecuteTime": {
     "end_time": "2019-12-02T16:02:58.665064Z",
     "start_time": "2019-12-02T16:02:58.655089Z"
    }
   },
   "outputs": [
    {
     "data": {
      "text/plain": [
       "-11956.132099942219"
      ]
     },
     "execution_count": 23,
     "metadata": {},
     "output_type": "execute_result"
    }
   ],
   "source": [
    "calcBetweenGroupsCovariance(X.V8, X.V12, y)"
   ]
  },
  {
   "cell_type": "markdown",
   "metadata": {},
   "source": [
    "Thus, for V8 and V12, the between-groups covariance is -11956.13 and the within-groups covariance is 2.178. Since the within-groups covariance is positive, it means V8 and V12 are positively related within groups: for individuals from the same group, individuals with a high value of V8 tend to have a high value of V12, and vice versa. Since the between-groups covariance is negative, V8 and V12 are negatively related between groups: groups with a high mean value of V8 tend to have a low mean value of V12, and vice versa."
   ]
  },
  {
   "cell_type": "markdown",
   "metadata": {},
   "source": [
    "### Calculating Correlations for Multivariate Data¶\n",
    "\n",
    "It is often of interest to investigate whether any of the variables in a multivariate data set are significantly correlated.\n",
    "\n",
    "To calculate the linear (Pearson) correlation coefficient for a pair of variables, you can use the `pearsonr()` function from `scipy.stats` package. For example, to calculate the correlation coefficient for the first two chemicals’ concentrations, V2 and V3, we type:"
   ]
  },
  {
   "cell_type": "code",
   "execution_count": 24,
   "metadata": {
    "ExecuteTime": {
     "end_time": "2019-12-02T16:03:03.828449Z",
     "start_time": "2019-12-02T16:03:03.819452Z"
    }
   },
   "outputs": [
    {
     "name": "stdout",
     "output_type": "stream",
     "text": [
      "p-value:\t 3.011587158330101e-06\n",
      "cor:\t\t 0.06939025659658547\n"
     ]
    }
   ],
   "source": [
    "corr = stats.pearsonr(X.V2, X.V3)\n",
    "print(\"p-value:\\t\", corr[1])\n",
    "print(\"cor:\\t\\t\", corr[0])"
   ]
  },
  {
   "cell_type": "markdown",
   "metadata": {},
   "source": [
    "This tells us that the correlation coefficient is about 0.0694, which is a very weak correlation. Furthermore, the *p-value* for the statistical test of whether the correlation coefficient is significantly different from zero is $3.011*10^{-6}$. This is much smaller than 0.05 (which we can use here as a cutoff for statistical significance) so there is strong evidence that that the correlation is non-zero.\n",
    "\n",
    "If you have a lot of variables, you can use the `pandas.DataFrame` method `corr()` to calculate a correlation matrix that shows the correlation coefficient for each pair of variables."
   ]
  },
  {
   "cell_type": "code",
   "execution_count": 25,
   "metadata": {
    "ExecuteTime": {
     "end_time": "2019-12-02T16:03:06.693594Z",
     "start_time": "2019-12-02T16:03:06.669638Z"
    }
   },
   "outputs": [
    {
     "data": {
      "text/html": [
       "<div>\n",
       "<style scoped>\n",
       "    .dataframe tbody tr th:only-of-type {\n",
       "        vertical-align: middle;\n",
       "    }\n",
       "\n",
       "    .dataframe tbody tr th {\n",
       "        vertical-align: top;\n",
       "    }\n",
       "\n",
       "    .dataframe thead th {\n",
       "        text-align: right;\n",
       "    }\n",
       "</style>\n",
       "<table border=\"1\" class=\"dataframe\">\n",
       "  <thead>\n",
       "    <tr style=\"text-align: right;\">\n",
       "      <th></th>\n",
       "      <th>V1</th>\n",
       "      <th>V2</th>\n",
       "      <th>V3</th>\n",
       "      <th>V4</th>\n",
       "      <th>V5</th>\n",
       "      <th>V6</th>\n",
       "      <th>V7</th>\n",
       "      <th>V8</th>\n",
       "      <th>V9</th>\n",
       "      <th>V10</th>\n",
       "      <th>V11</th>\n",
       "      <th>V12</th>\n",
       "      <th>V13</th>\n",
       "      <th>V14</th>\n",
       "      <th>V15</th>\n",
       "      <th>V16</th>\n",
       "    </tr>\n",
       "  </thead>\n",
       "  <tbody>\n",
       "    <tr>\n",
       "      <th>V1</th>\n",
       "      <td>1.000000</td>\n",
       "      <td>-0.021500</td>\n",
       "      <td>-0.381485</td>\n",
       "      <td>-0.121613</td>\n",
       "      <td>-0.017885</td>\n",
       "      <td>0.083820</td>\n",
       "      <td>-0.193888</td>\n",
       "      <td>-0.011250</td>\n",
       "      <td>0.015161</td>\n",
       "      <td>-0.017853</td>\n",
       "      <td>-0.040714</td>\n",
       "      <td>-0.002367</td>\n",
       "      <td>-0.005148</td>\n",
       "      <td>-0.008894</td>\n",
       "      <td>-0.003511</td>\n",
       "      <td>-0.009320</td>\n",
       "    </tr>\n",
       "    <tr>\n",
       "      <th>V2</th>\n",
       "      <td>-0.021500</td>\n",
       "      <td>1.000000</td>\n",
       "      <td>0.069390</td>\n",
       "      <td>0.170160</td>\n",
       "      <td>0.008324</td>\n",
       "      <td>0.009797</td>\n",
       "      <td>-0.128353</td>\n",
       "      <td>-0.040245</td>\n",
       "      <td>-0.074068</td>\n",
       "      <td>0.012865</td>\n",
       "      <td>-0.096613</td>\n",
       "      <td>-0.006739</td>\n",
       "      <td>-0.002739</td>\n",
       "      <td>-0.022760</td>\n",
       "      <td>0.005029</td>\n",
       "      <td>0.013049</td>\n",
       "    </tr>\n",
       "    <tr>\n",
       "      <th>V3</th>\n",
       "      <td>-0.381485</td>\n",
       "      <td>0.069390</td>\n",
       "      <td>1.000000</td>\n",
       "      <td>0.102714</td>\n",
       "      <td>-0.020745</td>\n",
       "      <td>0.024971</td>\n",
       "      <td>-0.029851</td>\n",
       "      <td>-0.045210</td>\n",
       "      <td>-0.068236</td>\n",
       "      <td>0.008794</td>\n",
       "      <td>-0.035855</td>\n",
       "      <td>0.006619</td>\n",
       "      <td>0.005915</td>\n",
       "      <td>0.017050</td>\n",
       "      <td>0.038028</td>\n",
       "      <td>-0.027716</td>\n",
       "    </tr>\n",
       "    <tr>\n",
       "      <th>V4</th>\n",
       "      <td>-0.121613</td>\n",
       "      <td>0.170160</td>\n",
       "      <td>0.102714</td>\n",
       "      <td>1.000000</td>\n",
       "      <td>-0.010534</td>\n",
       "      <td>0.057725</td>\n",
       "      <td>-0.087070</td>\n",
       "      <td>-0.054086</td>\n",
       "      <td>-0.110554</td>\n",
       "      <td>0.014926</td>\n",
       "      <td>-0.050086</td>\n",
       "      <td>-0.014878</td>\n",
       "      <td>-0.001723</td>\n",
       "      <td>0.012077</td>\n",
       "      <td>0.023983</td>\n",
       "      <td>-0.032135</td>\n",
       "    </tr>\n",
       "    <tr>\n",
       "      <th>V5</th>\n",
       "      <td>-0.017885</td>\n",
       "      <td>0.008324</td>\n",
       "      <td>-0.020745</td>\n",
       "      <td>-0.010534</td>\n",
       "      <td>1.000000</td>\n",
       "      <td>-0.070886</td>\n",
       "      <td>0.006881</td>\n",
       "      <td>0.063994</td>\n",
       "      <td>0.008448</td>\n",
       "      <td>-0.013261</td>\n",
       "      <td>0.014297</td>\n",
       "      <td>-0.011615</td>\n",
       "      <td>-0.012348</td>\n",
       "      <td>-0.026317</td>\n",
       "      <td>-0.026656</td>\n",
       "      <td>0.039032</td>\n",
       "    </tr>\n",
       "    <tr>\n",
       "      <th>V6</th>\n",
       "      <td>0.083820</td>\n",
       "      <td>0.009797</td>\n",
       "      <td>0.024971</td>\n",
       "      <td>0.057725</td>\n",
       "      <td>-0.070886</td>\n",
       "      <td>1.000000</td>\n",
       "      <td>-0.050227</td>\n",
       "      <td>-0.071349</td>\n",
       "      <td>-0.009665</td>\n",
       "      <td>-0.008677</td>\n",
       "      <td>0.023113</td>\n",
       "      <td>-0.015950</td>\n",
       "      <td>-0.009976</td>\n",
       "      <td>0.009437</td>\n",
       "      <td>0.026196</td>\n",
       "      <td>-0.029268</td>\n",
       "    </tr>\n",
       "    <tr>\n",
       "      <th>V7</th>\n",
       "      <td>-0.193888</td>\n",
       "      <td>-0.128353</td>\n",
       "      <td>-0.029851</td>\n",
       "      <td>-0.087070</td>\n",
       "      <td>0.006881</td>\n",
       "      <td>-0.050227</td>\n",
       "      <td>1.000000</td>\n",
       "      <td>0.018451</td>\n",
       "      <td>0.196454</td>\n",
       "      <td>-0.031291</td>\n",
       "      <td>0.266630</td>\n",
       "      <td>0.015740</td>\n",
       "      <td>-0.003574</td>\n",
       "      <td>0.116893</td>\n",
       "      <td>0.038621</td>\n",
       "      <td>-0.093093</td>\n",
       "    </tr>\n",
       "    <tr>\n",
       "      <th>V8</th>\n",
       "      <td>-0.011250</td>\n",
       "      <td>-0.040245</td>\n",
       "      <td>-0.045210</td>\n",
       "      <td>-0.054086</td>\n",
       "      <td>0.063994</td>\n",
       "      <td>-0.071349</td>\n",
       "      <td>0.018451</td>\n",
       "      <td>1.000000</td>\n",
       "      <td>-0.007319</td>\n",
       "      <td>-0.004879</td>\n",
       "      <td>0.016329</td>\n",
       "      <td>-0.004997</td>\n",
       "      <td>0.017120</td>\n",
       "      <td>-0.031086</td>\n",
       "      <td>-0.022115</td>\n",
       "      <td>0.027028</td>\n",
       "    </tr>\n",
       "    <tr>\n",
       "      <th>V9</th>\n",
       "      <td>0.015161</td>\n",
       "      <td>-0.074068</td>\n",
       "      <td>-0.068236</td>\n",
       "      <td>-0.110554</td>\n",
       "      <td>0.008448</td>\n",
       "      <td>-0.009665</td>\n",
       "      <td>0.196454</td>\n",
       "      <td>-0.007319</td>\n",
       "      <td>1.000000</td>\n",
       "      <td>-0.033807</td>\n",
       "      <td>0.370077</td>\n",
       "      <td>-0.011380</td>\n",
       "      <td>0.012278</td>\n",
       "      <td>-0.243223</td>\n",
       "      <td>-0.187232</td>\n",
       "      <td>0.267173</td>\n",
       "    </tr>\n",
       "    <tr>\n",
       "      <th>V10</th>\n",
       "      <td>-0.017853</td>\n",
       "      <td>0.012865</td>\n",
       "      <td>0.008794</td>\n",
       "      <td>0.014926</td>\n",
       "      <td>-0.013261</td>\n",
       "      <td>-0.008677</td>\n",
       "      <td>-0.031291</td>\n",
       "      <td>-0.004879</td>\n",
       "      <td>-0.033807</td>\n",
       "      <td>1.000000</td>\n",
       "      <td>-0.014795</td>\n",
       "      <td>-0.024629</td>\n",
       "      <td>0.160706</td>\n",
       "      <td>-0.094352</td>\n",
       "      <td>-0.059114</td>\n",
       "      <td>0.073714</td>\n",
       "    </tr>\n",
       "    <tr>\n",
       "      <th>V11</th>\n",
       "      <td>-0.040714</td>\n",
       "      <td>-0.096613</td>\n",
       "      <td>-0.035855</td>\n",
       "      <td>-0.050086</td>\n",
       "      <td>0.014297</td>\n",
       "      <td>0.023113</td>\n",
       "      <td>0.266630</td>\n",
       "      <td>0.016329</td>\n",
       "      <td>0.370077</td>\n",
       "      <td>-0.014795</td>\n",
       "      <td>1.000000</td>\n",
       "      <td>0.000851</td>\n",
       "      <td>-0.108915</td>\n",
       "      <td>0.033292</td>\n",
       "      <td>0.046899</td>\n",
       "      <td>-0.030189</td>\n",
       "    </tr>\n",
       "    <tr>\n",
       "      <th>V12</th>\n",
       "      <td>-0.002367</td>\n",
       "      <td>-0.006739</td>\n",
       "      <td>0.006619</td>\n",
       "      <td>-0.014878</td>\n",
       "      <td>-0.011615</td>\n",
       "      <td>-0.015950</td>\n",
       "      <td>0.015740</td>\n",
       "      <td>-0.004997</td>\n",
       "      <td>-0.011380</td>\n",
       "      <td>-0.024629</td>\n",
       "      <td>0.000851</td>\n",
       "      <td>1.000000</td>\n",
       "      <td>-0.068382</td>\n",
       "      <td>0.010380</td>\n",
       "      <td>0.018080</td>\n",
       "      <td>0.000478</td>\n",
       "    </tr>\n",
       "    <tr>\n",
       "      <th>V13</th>\n",
       "      <td>-0.005148</td>\n",
       "      <td>-0.002739</td>\n",
       "      <td>0.005915</td>\n",
       "      <td>-0.001723</td>\n",
       "      <td>-0.012348</td>\n",
       "      <td>-0.009976</td>\n",
       "      <td>-0.003574</td>\n",
       "      <td>0.017120</td>\n",
       "      <td>0.012278</td>\n",
       "      <td>0.160706</td>\n",
       "      <td>-0.108915</td>\n",
       "      <td>-0.068382</td>\n",
       "      <td>1.000000</td>\n",
       "      <td>-0.093137</td>\n",
       "      <td>-0.067833</td>\n",
       "      <td>0.110703</td>\n",
       "    </tr>\n",
       "    <tr>\n",
       "      <th>V14</th>\n",
       "      <td>-0.008894</td>\n",
       "      <td>-0.022760</td>\n",
       "      <td>0.017050</td>\n",
       "      <td>0.012077</td>\n",
       "      <td>-0.026317</td>\n",
       "      <td>0.009437</td>\n",
       "      <td>0.116893</td>\n",
       "      <td>-0.031086</td>\n",
       "      <td>-0.243223</td>\n",
       "      <td>-0.094352</td>\n",
       "      <td>0.033292</td>\n",
       "      <td>0.010380</td>\n",
       "      <td>-0.093137</td>\n",
       "      <td>1.000000</td>\n",
       "      <td>0.577562</td>\n",
       "      <td>-0.859245</td>\n",
       "    </tr>\n",
       "    <tr>\n",
       "      <th>V15</th>\n",
       "      <td>-0.003511</td>\n",
       "      <td>0.005029</td>\n",
       "      <td>0.038028</td>\n",
       "      <td>0.023983</td>\n",
       "      <td>-0.026656</td>\n",
       "      <td>0.026196</td>\n",
       "      <td>0.038621</td>\n",
       "      <td>-0.022115</td>\n",
       "      <td>-0.187232</td>\n",
       "      <td>-0.059114</td>\n",
       "      <td>0.046899</td>\n",
       "      <td>0.018080</td>\n",
       "      <td>-0.067833</td>\n",
       "      <td>0.577562</td>\n",
       "      <td>1.000000</td>\n",
       "      <td>-0.636372</td>\n",
       "    </tr>\n",
       "    <tr>\n",
       "      <th>V16</th>\n",
       "      <td>-0.009320</td>\n",
       "      <td>0.013049</td>\n",
       "      <td>-0.027716</td>\n",
       "      <td>-0.032135</td>\n",
       "      <td>0.039032</td>\n",
       "      <td>-0.029268</td>\n",
       "      <td>-0.093093</td>\n",
       "      <td>0.027028</td>\n",
       "      <td>0.267173</td>\n",
       "      <td>0.073714</td>\n",
       "      <td>-0.030189</td>\n",
       "      <td>0.000478</td>\n",
       "      <td>0.110703</td>\n",
       "      <td>-0.859245</td>\n",
       "      <td>-0.636372</td>\n",
       "      <td>1.000000</td>\n",
       "    </tr>\n",
       "  </tbody>\n",
       "</table>\n",
       "</div>"
      ],
      "text/plain": [
       "           V1        V2        V3        V4        V5        V6        V7  \\\n",
       "V1   1.000000 -0.021500 -0.381485 -0.121613 -0.017885  0.083820 -0.193888   \n",
       "V2  -0.021500  1.000000  0.069390  0.170160  0.008324  0.009797 -0.128353   \n",
       "V3  -0.381485  0.069390  1.000000  0.102714 -0.020745  0.024971 -0.029851   \n",
       "V4  -0.121613  0.170160  0.102714  1.000000 -0.010534  0.057725 -0.087070   \n",
       "V5  -0.017885  0.008324 -0.020745 -0.010534  1.000000 -0.070886  0.006881   \n",
       "V6   0.083820  0.009797  0.024971  0.057725 -0.070886  1.000000 -0.050227   \n",
       "V7  -0.193888 -0.128353 -0.029851 -0.087070  0.006881 -0.050227  1.000000   \n",
       "V8  -0.011250 -0.040245 -0.045210 -0.054086  0.063994 -0.071349  0.018451   \n",
       "V9   0.015161 -0.074068 -0.068236 -0.110554  0.008448 -0.009665  0.196454   \n",
       "V10 -0.017853  0.012865  0.008794  0.014926 -0.013261 -0.008677 -0.031291   \n",
       "V11 -0.040714 -0.096613 -0.035855 -0.050086  0.014297  0.023113  0.266630   \n",
       "V12 -0.002367 -0.006739  0.006619 -0.014878 -0.011615 -0.015950  0.015740   \n",
       "V13 -0.005148 -0.002739  0.005915 -0.001723 -0.012348 -0.009976 -0.003574   \n",
       "V14 -0.008894 -0.022760  0.017050  0.012077 -0.026317  0.009437  0.116893   \n",
       "V15 -0.003511  0.005029  0.038028  0.023983 -0.026656  0.026196  0.038621   \n",
       "V16 -0.009320  0.013049 -0.027716 -0.032135  0.039032 -0.029268 -0.093093   \n",
       "\n",
       "           V8        V9       V10       V11       V12       V13       V14  \\\n",
       "V1  -0.011250  0.015161 -0.017853 -0.040714 -0.002367 -0.005148 -0.008894   \n",
       "V2  -0.040245 -0.074068  0.012865 -0.096613 -0.006739 -0.002739 -0.022760   \n",
       "V3  -0.045210 -0.068236  0.008794 -0.035855  0.006619  0.005915  0.017050   \n",
       "V4  -0.054086 -0.110554  0.014926 -0.050086 -0.014878 -0.001723  0.012077   \n",
       "V5   0.063994  0.008448 -0.013261  0.014297 -0.011615 -0.012348 -0.026317   \n",
       "V6  -0.071349 -0.009665 -0.008677  0.023113 -0.015950 -0.009976  0.009437   \n",
       "V7   0.018451  0.196454 -0.031291  0.266630  0.015740 -0.003574  0.116893   \n",
       "V8   1.000000 -0.007319 -0.004879  0.016329 -0.004997  0.017120 -0.031086   \n",
       "V9  -0.007319  1.000000 -0.033807  0.370077 -0.011380  0.012278 -0.243223   \n",
       "V10 -0.004879 -0.033807  1.000000 -0.014795 -0.024629  0.160706 -0.094352   \n",
       "V11  0.016329  0.370077 -0.014795  1.000000  0.000851 -0.108915  0.033292   \n",
       "V12 -0.004997 -0.011380 -0.024629  0.000851  1.000000 -0.068382  0.010380   \n",
       "V13  0.017120  0.012278  0.160706 -0.108915 -0.068382  1.000000 -0.093137   \n",
       "V14 -0.031086 -0.243223 -0.094352  0.033292  0.010380 -0.093137  1.000000   \n",
       "V15 -0.022115 -0.187232 -0.059114  0.046899  0.018080 -0.067833  0.577562   \n",
       "V16  0.027028  0.267173  0.073714 -0.030189  0.000478  0.110703 -0.859245   \n",
       "\n",
       "          V15       V16  \n",
       "V1  -0.003511 -0.009320  \n",
       "V2   0.005029  0.013049  \n",
       "V3   0.038028 -0.027716  \n",
       "V4   0.023983 -0.032135  \n",
       "V5  -0.026656  0.039032  \n",
       "V6   0.026196 -0.029268  \n",
       "V7   0.038621 -0.093093  \n",
       "V8  -0.022115  0.027028  \n",
       "V9  -0.187232  0.267173  \n",
       "V10 -0.059114  0.073714  \n",
       "V11  0.046899 -0.030189  \n",
       "V12  0.018080  0.000478  \n",
       "V13 -0.067833  0.110703  \n",
       "V14  0.577562 -0.859245  \n",
       "V15  1.000000 -0.636372  \n",
       "V16 -0.636372  1.000000  "
      ]
     },
     "execution_count": 25,
     "metadata": {},
     "output_type": "execute_result"
    }
   ],
   "source": [
    "corrmat = X.corr()\n",
    "corrmat"
   ]
  },
  {
   "cell_type": "markdown",
   "metadata": {},
   "source": [
    "A better graphical representation of the correlation matrix is via a correlation matrix plot in the form of a *heatmap*."
   ]
  },
  {
   "cell_type": "code",
   "execution_count": 26,
   "metadata": {
    "ExecuteTime": {
     "end_time": "2019-12-02T16:03:10.117299Z",
     "start_time": "2019-12-02T16:03:09.851012Z"
    }
   },
   "outputs": [
    {
     "data": {
      "image/png": "[encoded data removed]",
      "text/plain": [
       "<Figure size 432x288 with 2 Axes>"
      ]
     },
     "metadata": {
      "needs_background": "light"
     },
     "output_type": "display_data"
    }
   ],
   "source": [
    "sns.heatmap(corrmat, vmax=1., square=False).xaxis.tick_top()"
   ]
  },
  {
   "cell_type": "markdown",
   "metadata": {},
   "source": [
    "Or an alternative nice visualization is via a Hinton diagram. The color of the boxes determines the sign of the correlation, in this case red for positive and blue for negative correlations; while the size of the boxes determines their magnitude, the bigger the box the higher the magnitude."
   ]
  },
  {
   "cell_type": "code",
   "execution_count": 27,
   "metadata": {
    "ExecuteTime": {
     "end_time": "2019-12-02T16:03:12.232426Z",
     "start_time": "2019-12-02T16:03:11.737727Z"
    }
   },
   "outputs": [
    {
     "data": {
      "image/png": "[encoded data removed]",
      "text/plain": [
       "<Figure size 432x288 with 1 Axes>"
      ]
     },
     "metadata": {
      "needs_background": "light"
     },
     "output_type": "display_data"
    }
   ],
   "source": [
    "# adapted from http://matplotlib.org/examples/specialty_plots/hinton_demo.html\n",
    "def hinton(matrix, max_weight=None, ax=None):\n",
    "    \"\"\"Draw Hinton diagram for visualizing a weight matrix.\"\"\"\n",
    "    ax = ax if ax is not None else plt.gca()\n",
    "\n",
    "    if not max_weight:\n",
    "        max_weight = 2**np.ceil(np.log(np.abs(matrix).max())/np.log(2))\n",
    "\n",
    "    ax.patch.set_facecolor('lightgray')\n",
    "    ax.set_aspect('equal', 'box')\n",
    "    ax.xaxis.set_major_locator(plt.NullLocator())\n",
    "    ax.yaxis.set_major_locator(plt.NullLocator())\n",
    "\n",
    "    for (x, y), w in np.ndenumerate(matrix):\n",
    "        color = 'red' if w > 0 else 'blue'\n",
    "        size = np.sqrt(np.abs(w))\n",
    "        rect = plt.Rectangle([x - size / 2, y - size / 2], size, size,\n",
    "                             facecolor=color, edgecolor=color)\n",
    "        ax.add_patch(rect)\n",
    "\n",
    "    nticks = matrix.shape[0]\n",
    "    ax.xaxis.tick_top()\n",
    "    ax.set_xticks(range(nticks))\n",
    "    ax.set_xticklabels(list(matrix.columns), rotation=90)\n",
    "    ax.set_yticks(range(nticks))\n",
    "    ax.set_yticklabels(matrix.columns)\n",
    "    ax.grid(False)\n",
    "\n",
    "    ax.autoscale_view()\n",
    "    ax.invert_yaxis()\n",
    "\n",
    "hinton(corrmat)"
   ]
  },
  {
   "cell_type": "markdown",
   "metadata": {},
   "source": [
    "Although the correlation matrix and diagrams are useful for quickly looking to identify the strongest correlations, they still require labor work to find the top `N` strongest correlations. For this you can use the function `mosthighlycorrelated()` below.\n",
    "\n",
    "The function `mosthighlycorrelated()` will print out the linear correlation coefficients for each pair of variables in your data set, in order of the correlation coefficient. This lets you see very easily which pair of variables are most highly correlated."
   ]
  },
  {
   "cell_type": "code",
   "execution_count": 28,
   "metadata": {
    "ExecuteTime": {
     "end_time": "2019-12-02T16:03:15.265449Z",
     "start_time": "2019-12-02T16:03:15.260459Z"
    }
   },
   "outputs": [],
   "source": [
    "def mosthighlycorrelated(mydataframe, numtoreport):\n",
    "    # find the correlations\n",
    "    cormatrix = mydataframe.corr()\n",
    "    # set the correlations on the diagonal or lower triangle to zero,\n",
    "    # so they will not be reported as the highest ones:\n",
    "    cormatrix *= np.tri(*cormatrix.values.shape, k=-1).T\n",
    "    # find the top n correlations\n",
    "    cormatrix = cormatrix.stack()\n",
    "    cormatrix = cormatrix.reindex(cormatrix.abs().sort_values(ascending=False).index).reset_index()\n",
    "    # assign human-friendly names\n",
    "    cormatrix.columns = [\"FirstVariable\", \"SecondVariable\", \"Correlation\"]\n",
    "    return cormatrix.head(numtoreport)"
   ]
  },
  {
   "cell_type": "markdown",
   "metadata": {},
   "source": [
    "The arguments of the function are the variables that you want to calculate the correlations for, and the number of top correlation coefficients to print out (for example, you can tell it to print out the largest 10 correlation coefficients, or the largest 20).\n",
    "\n",
    "For example, to calculate correlation coefficients in our dataset we can type:"
   ]
  },
  {
   "cell_type": "code",
   "execution_count": 30,
   "metadata": {
    "ExecuteTime": {
     "end_time": "2019-12-02T16:03:26.483110Z",
     "start_time": "2019-12-02T16:03:26.466163Z"
    }
   },
   "outputs": [
    {
     "data": {
      "text/html": [
       "<div>\n",
       "<style scoped>\n",
       "    .dataframe tbody tr th:only-of-type {\n",
       "        vertical-align: middle;\n",
       "    }\n",
       "\n",
       "    .dataframe tbody tr th {\n",
       "        vertical-align: top;\n",
       "    }\n",
       "\n",
       "    .dataframe thead th {\n",
       "        text-align: right;\n",
       "    }\n",
       "</style>\n",
       "<table border=\"1\" class=\"dataframe\">\n",
       "  <thead>\n",
       "    <tr style=\"text-align: right;\">\n",
       "      <th></th>\n",
       "      <th>FirstVariable</th>\n",
       "      <th>SecondVariable</th>\n",
       "      <th>Correlation</th>\n",
       "    </tr>\n",
       "  </thead>\n",
       "  <tbody>\n",
       "    <tr>\n",
       "      <th>0</th>\n",
       "      <td>V14</td>\n",
       "      <td>V16</td>\n",
       "      <td>-0.859245</td>\n",
       "    </tr>\n",
       "    <tr>\n",
       "      <th>1</th>\n",
       "      <td>V15</td>\n",
       "      <td>V16</td>\n",
       "      <td>-0.636372</td>\n",
       "    </tr>\n",
       "    <tr>\n",
       "      <th>2</th>\n",
       "      <td>V14</td>\n",
       "      <td>V15</td>\n",
       "      <td>0.577562</td>\n",
       "    </tr>\n",
       "    <tr>\n",
       "      <th>3</th>\n",
       "      <td>V1</td>\n",
       "      <td>V3</td>\n",
       "      <td>-0.381485</td>\n",
       "    </tr>\n",
       "    <tr>\n",
       "      <th>4</th>\n",
       "      <td>V9</td>\n",
       "      <td>V11</td>\n",
       "      <td>0.370077</td>\n",
       "    </tr>\n",
       "    <tr>\n",
       "      <th>5</th>\n",
       "      <td>V9</td>\n",
       "      <td>V16</td>\n",
       "      <td>0.267173</td>\n",
       "    </tr>\n",
       "    <tr>\n",
       "      <th>6</th>\n",
       "      <td>V7</td>\n",
       "      <td>V11</td>\n",
       "      <td>0.266630</td>\n",
       "    </tr>\n",
       "    <tr>\n",
       "      <th>7</th>\n",
       "      <td>V9</td>\n",
       "      <td>V14</td>\n",
       "      <td>-0.243223</td>\n",
       "    </tr>\n",
       "    <tr>\n",
       "      <th>8</th>\n",
       "      <td>V7</td>\n",
       "      <td>V9</td>\n",
       "      <td>0.196454</td>\n",
       "    </tr>\n",
       "    <tr>\n",
       "      <th>9</th>\n",
       "      <td>V1</td>\n",
       "      <td>V7</td>\n",
       "      <td>-0.193888</td>\n",
       "    </tr>\n",
       "  </tbody>\n",
       "</table>\n",
       "</div>"
      ],
      "text/plain": [
       "  FirstVariable SecondVariable  Correlation\n",
       "0           V14            V16    -0.859245\n",
       "1           V15            V16    -0.636372\n",
       "2           V14            V15     0.577562\n",
       "3            V1             V3    -0.381485\n",
       "4            V9            V11     0.370077\n",
       "5            V9            V16     0.267173\n",
       "6            V7            V11     0.266630\n",
       "7            V9            V14    -0.243223\n",
       "8            V7             V9     0.196454\n",
       "9            V1             V7    -0.193888"
      ]
     },
     "execution_count": 30,
     "metadata": {},
     "output_type": "execute_result"
    }
   ],
   "source": [
    "mosthighlycorrelated(X, 10)"
   ]
  },
  {
   "cell_type": "markdown",
   "metadata": {},
   "source": [
    "This tells us that the pair of variables with the highest linear correlation coefficient are V14 and V15 (correlation = 0.57 approximately)."
   ]
  },
  {
   "cell_type": "markdown",
   "metadata": {},
   "source": [
    "### Standardising Variables\n",
    "\n",
    "If you want to compare different variables that have different units, are very different variances, it is a good idea to first standardise the variables.\n",
    "\n",
    "As a result, it is not a good idea to use the unstandardised values as the input for a principal component analysis (PCA, see below), as if you did that, the first principal component would be dominated by the variables which show the largest variances, such as V6.\n",
    "\n",
    "Thus, it would be a better idea to first standardise the variables so that they all have variance 1 and mean 0, and to then carry out the principal component analysis on the standardised data. This would allow us to find the principal components that provide the best low-dimensional representation of the variation in the original data, without being overly biased by those variables that show the most variance in the original data.\n",
    "\n",
    "You can standardise variables by using the `scale()` function from the package `sklearn.preprocessing`.\n",
    "\n",
    "For example, to standardise our data, we type:"
   ]
  },
  {
   "cell_type": "code",
   "execution_count": 34,
   "metadata": {
    "ExecuteTime": {
     "end_time": "2019-12-02T16:04:02.515004Z",
     "start_time": "2019-12-02T16:04:02.501040Z"
    }
   },
   "outputs": [
    {
     "name": "stderr",
     "output_type": "stream",
     "text": [
      "C:\\Users\\Admin\\.conda\\envs\\ml\\lib\\site-packages\\ipykernel_launcher.py:1: DataConversionWarning: Data with input dtype int32, int64 were all converted to float64 by the scale function.\n",
      "  \"\"\"Entry point for launching an IPython kernel.\n"
     ]
    },
    {
     "data": {
      "text/plain": [
       "V1    -1.178737e-16\n",
       "V2     1.634515e-16\n",
       "V3    -1.665948e-16\n",
       "V4     1.575579e-16\n",
       "V5     2.750387e-18\n",
       "V6    -1.571649e-17\n",
       "V7     1.434130e-16\n",
       "V8     5.972268e-17\n",
       "V9     9.744227e-17\n",
       "V10    2.357474e-18\n",
       "V11    2.553930e-17\n",
       "V12   -7.622500e-17\n",
       "V13   -6.286598e-18\n",
       "V14   -3.889832e-17\n",
       "V15    3.929124e-18\n",
       "V16    2.506781e-16\n",
       "dtype: float64"
      ]
     },
     "execution_count": 34,
     "metadata": {},
     "output_type": "execute_result"
    }
   ],
   "source": [
    "standardisedX = scale(X)\n",
    "standardisedX = pd.DataFrame(standardisedX, index=X.index, columns=X.columns)\n",
    "\n",
    "standardisedX.apply(np.mean)"
   ]
  },
  {
   "cell_type": "code",
   "execution_count": 35,
   "metadata": {
    "ExecuteTime": {
     "end_time": "2019-12-02T16:04:06.593859Z",
     "start_time": "2019-12-02T16:04:06.582890Z"
    }
   },
   "outputs": [
    {
     "data": {
      "text/plain": [
       "V1     1.0\n",
       "V2     1.0\n",
       "V3     1.0\n",
       "V4     1.0\n",
       "V5     1.0\n",
       "V6     1.0\n",
       "V7     1.0\n",
       "V8     1.0\n",
       "V9     1.0\n",
       "V10    1.0\n",
       "V11    1.0\n",
       "V12    1.0\n",
       "V13    1.0\n",
       "V14    1.0\n",
       "V15    1.0\n",
       "V16    1.0\n",
       "dtype: float64"
      ]
     },
     "execution_count": 35,
     "metadata": {},
     "output_type": "execute_result"
    }
   ],
   "source": [
    "standardisedX.apply(np.std)"
   ]
  },
  {
   "cell_type": "markdown",
   "metadata": {},
   "source": [
    "## Principal Component Analysis\n",
    "\n",
    "The purpose of principal component analysis is to find the best low-dimensional representation of the variation in a multivariate data set. We can carry out a principal component analysis to investigate whether we can capture most of the variation between samples using a smaller number of new variables (principal components), where each of these new variables is a linear combination of all or some of the 16 attributes of the bank marketing campaign.\n",
    "\n",
    "To carry out a principal component analysis (PCA) on a multivariate data set, the first step is often to standardise the variables under study using the `scale()` function (see above). This is necessary if the input variables have very different variances, which is true in this case as the 16 attributes of the bank marketing campaign have very different variances (see above).\n",
    "\n",
    "Once you have standardised your variables, you can carry out a principal component analysis using the `PCA` class from `sklearn.decomposition` package and its `fit` method, which fits the model with the data `X`. The default `solver` is Singular Value Decomposition (\"svd\"). For more information you can type `help(PCA)` in the python console.\n",
    "\n",
    "For example, to standardise the 16 attributes of the bank marketing campaign samples, and carry out a principal components analysis on the standardised concentrations, we type:"
   ]
  },
  {
   "cell_type": "code",
   "execution_count": 36,
   "metadata": {
    "ExecuteTime": {
     "end_time": "2019-12-02T16:08:35.982925Z",
     "start_time": "2019-12-02T16:08:35.957993Z"
    }
   },
   "outputs": [],
   "source": [
    "pca = PCA().fit(standardisedX)"
   ]
  },
  {
   "cell_type": "markdown",
   "metadata": {},
   "source": [
    "You can get a summary of the principal component analysis results using the `pca_summary()` function below, which simulates the output of R's `summary` function on a PCA model:"
   ]
  },
  {
   "cell_type": "code",
   "execution_count": 37,
   "metadata": {
    "ExecuteTime": {
     "end_time": "2019-12-02T16:08:40.443725Z",
     "start_time": "2019-12-02T16:08:40.436746Z"
    }
   },
   "outputs": [],
   "source": [
    "def pca_summary(pca, standardised_data, out=True):\n",
    "    names = [\"PC\"+str(i) for i in range(1, len(pca.explained_variance_ratio_)+1)]\n",
    "    a = list(np.std(pca.transform(standardised_data), axis=0))\n",
    "    b = list(pca.explained_variance_ratio_)\n",
    "    c = [np.sum(pca.explained_variance_ratio_[:i]) for i in range(1, len(pca.explained_variance_ratio_)+1)]\n",
    "    columns = pd.MultiIndex.from_tuples([(\"sdev\", \"Standard deviation\"), (\"varprop\", \"Proportion of Variance\"), (\"cumprop\", \"Cumulative Proportion\")])\n",
    "    summary = pd.DataFrame(list(zip(a, b, c)), index=names, columns=columns)\n",
    "    if out:\n",
    "        print(\"Importance of components:\")\n",
    "        display(summary)\n",
    "    return summary"
   ]
  },
  {
   "cell_type": "markdown",
   "metadata": {},
   "source": [
    "The parameters of the `print_pca_summary` function are:\n",
    "* `pca`: A PCA object\n",
    "* `standardised_data`: The standardised data\n",
    "* `out (True)`: Print to standard output"
   ]
  },
  {
   "cell_type": "code",
   "execution_count": 38,
   "metadata": {
    "ExecuteTime": {
     "end_time": "2019-12-02T16:08:44.004099Z",
     "start_time": "2019-12-02T16:08:43.975176Z"
    }
   },
   "outputs": [
    {
     "name": "stdout",
     "output_type": "stream",
     "text": [
      "Importance of components:\n"
     ]
    },
    {
     "data": {
      "text/html": [
       "<div>\n",
       "<style scoped>\n",
       "    .dataframe tbody tr th:only-of-type {\n",
       "        vertical-align: middle;\n",
       "    }\n",
       "\n",
       "    .dataframe tbody tr th {\n",
       "        vertical-align: top;\n",
       "    }\n",
       "\n",
       "    .dataframe thead tr th {\n",
       "        text-align: left;\n",
       "    }\n",
       "</style>\n",
       "<table border=\"1\" class=\"dataframe\">\n",
       "  <thead>\n",
       "    <tr>\n",
       "      <th></th>\n",
       "      <th>sdev</th>\n",
       "      <th>varprop</th>\n",
       "      <th>cumprop</th>\n",
       "    </tr>\n",
       "    <tr>\n",
       "      <th></th>\n",
       "      <th>Standard deviation</th>\n",
       "      <th>Proportion of Variance</th>\n",
       "      <th>Cumulative Proportion</th>\n",
       "    </tr>\n",
       "  </thead>\n",
       "  <tbody>\n",
       "    <tr>\n",
       "      <th>PC1</th>\n",
       "      <td>1.595022</td>\n",
       "      <td>0.159006</td>\n",
       "      <td>0.159006</td>\n",
       "    </tr>\n",
       "    <tr>\n",
       "      <th>PC2</th>\n",
       "      <td>1.300450</td>\n",
       "      <td>0.105698</td>\n",
       "      <td>0.264704</td>\n",
       "    </tr>\n",
       "    <tr>\n",
       "      <th>PC3</th>\n",
       "      <td>1.212347</td>\n",
       "      <td>0.091862</td>\n",
       "      <td>0.356566</td>\n",
       "    </tr>\n",
       "    <tr>\n",
       "      <th>PC4</th>\n",
       "      <td>1.090326</td>\n",
       "      <td>0.074301</td>\n",
       "      <td>0.430866</td>\n",
       "    </tr>\n",
       "    <tr>\n",
       "      <th>PC5</th>\n",
       "      <td>1.068324</td>\n",
       "      <td>0.071332</td>\n",
       "      <td>0.502199</td>\n",
       "    </tr>\n",
       "    <tr>\n",
       "      <th>PC6</th>\n",
       "      <td>1.017146</td>\n",
       "      <td>0.064662</td>\n",
       "      <td>0.566860</td>\n",
       "    </tr>\n",
       "    <tr>\n",
       "      <th>PC7</th>\n",
       "      <td>0.985820</td>\n",
       "      <td>0.060740</td>\n",
       "      <td>0.627600</td>\n",
       "    </tr>\n",
       "    <tr>\n",
       "      <th>PC8</th>\n",
       "      <td>0.964796</td>\n",
       "      <td>0.058177</td>\n",
       "      <td>0.685777</td>\n",
       "    </tr>\n",
       "    <tr>\n",
       "      <th>PC9</th>\n",
       "      <td>0.956962</td>\n",
       "      <td>0.057236</td>\n",
       "      <td>0.743013</td>\n",
       "    </tr>\n",
       "    <tr>\n",
       "      <th>PC10</th>\n",
       "      <td>0.922143</td>\n",
       "      <td>0.053147</td>\n",
       "      <td>0.796160</td>\n",
       "    </tr>\n",
       "    <tr>\n",
       "      <th>PC11</th>\n",
       "      <td>0.910359</td>\n",
       "      <td>0.051797</td>\n",
       "      <td>0.847957</td>\n",
       "    </tr>\n",
       "    <tr>\n",
       "      <th>PC12</th>\n",
       "      <td>0.870946</td>\n",
       "      <td>0.047409</td>\n",
       "      <td>0.895366</td>\n",
       "    </tr>\n",
       "    <tr>\n",
       "      <th>PC13</th>\n",
       "      <td>0.738835</td>\n",
       "      <td>0.034117</td>\n",
       "      <td>0.929484</td>\n",
       "    </tr>\n",
       "    <tr>\n",
       "      <th>PC14</th>\n",
       "      <td>0.731781</td>\n",
       "      <td>0.033469</td>\n",
       "      <td>0.962953</td>\n",
       "    </tr>\n",
       "    <tr>\n",
       "      <th>PC15</th>\n",
       "      <td>0.676521</td>\n",
       "      <td>0.028605</td>\n",
       "      <td>0.991558</td>\n",
       "    </tr>\n",
       "    <tr>\n",
       "      <th>PC16</th>\n",
       "      <td>0.367530</td>\n",
       "      <td>0.008442</td>\n",
       "      <td>1.000000</td>\n",
       "    </tr>\n",
       "  </tbody>\n",
       "</table>\n",
       "</div>"
      ],
      "text/plain": [
       "                   sdev                varprop               cumprop\n",
       "     Standard deviation Proportion of Variance Cumulative Proportion\n",
       "PC1            1.595022               0.159006              0.159006\n",
       "PC2            1.300450               0.105698              0.264704\n",
       "PC3            1.212347               0.091862              0.356566\n",
       "PC4            1.090326               0.074301              0.430866\n",
       "PC5            1.068324               0.071332              0.502199\n",
       "PC6            1.017146               0.064662              0.566860\n",
       "PC7            0.985820               0.060740              0.627600\n",
       "PC8            0.964796               0.058177              0.685777\n",
       "PC9            0.956962               0.057236              0.743013\n",
       "PC10           0.922143               0.053147              0.796160\n",
       "PC11           0.910359               0.051797              0.847957\n",
       "PC12           0.870946               0.047409              0.895366\n",
       "PC13           0.738835               0.034117              0.929484\n",
       "PC14           0.731781               0.033469              0.962953\n",
       "PC15           0.676521               0.028605              0.991558\n",
       "PC16           0.367530               0.008442              1.000000"
      ]
     },
     "metadata": {},
     "output_type": "display_data"
    }
   ],
   "source": [
    "summary = pca_summary(pca, standardisedX)"
   ]
  },
  {
   "cell_type": "markdown",
   "metadata": {},
   "source": [
    "This gives us the standard deviation of each component, and the proportion of variance explained by each component. The standard deviation of the components is stored in a named row called `sdev` of the output variable made by the `pca_summary` function and stored in the `summary` variable:"
   ]
  },
  {
   "cell_type": "code",
   "execution_count": 39,
   "metadata": {
    "ExecuteTime": {
     "end_time": "2019-12-02T16:08:59.568626Z",
     "start_time": "2019-12-02T16:08:59.558650Z"
    }
   },
   "outputs": [
    {
     "data": {
      "text/html": [
       "<div>\n",
       "<style scoped>\n",
       "    .dataframe tbody tr th:only-of-type {\n",
       "        vertical-align: middle;\n",
       "    }\n",
       "\n",
       "    .dataframe tbody tr th {\n",
       "        vertical-align: top;\n",
       "    }\n",
       "\n",
       "    .dataframe thead th {\n",
       "        text-align: right;\n",
       "    }\n",
       "</style>\n",
       "<table border=\"1\" class=\"dataframe\">\n",
       "  <thead>\n",
       "    <tr style=\"text-align: right;\">\n",
       "      <th></th>\n",
       "      <th>Standard deviation</th>\n",
       "    </tr>\n",
       "  </thead>\n",
       "  <tbody>\n",
       "    <tr>\n",
       "      <th>PC1</th>\n",
       "      <td>1.595022</td>\n",
       "    </tr>\n",
       "    <tr>\n",
       "      <th>PC2</th>\n",
       "      <td>1.300450</td>\n",
       "    </tr>\n",
       "    <tr>\n",
       "      <th>PC3</th>\n",
       "      <td>1.212347</td>\n",
       "    </tr>\n",
       "    <tr>\n",
       "      <th>PC4</th>\n",
       "      <td>1.090326</td>\n",
       "    </tr>\n",
       "    <tr>\n",
       "      <th>PC5</th>\n",
       "      <td>1.068324</td>\n",
       "    </tr>\n",
       "    <tr>\n",
       "      <th>PC6</th>\n",
       "      <td>1.017146</td>\n",
       "    </tr>\n",
       "    <tr>\n",
       "      <th>PC7</th>\n",
       "      <td>0.985820</td>\n",
       "    </tr>\n",
       "    <tr>\n",
       "      <th>PC8</th>\n",
       "      <td>0.964796</td>\n",
       "    </tr>\n",
       "    <tr>\n",
       "      <th>PC9</th>\n",
       "      <td>0.956962</td>\n",
       "    </tr>\n",
       "    <tr>\n",
       "      <th>PC10</th>\n",
       "      <td>0.922143</td>\n",
       "    </tr>\n",
       "    <tr>\n",
       "      <th>PC11</th>\n",
       "      <td>0.910359</td>\n",
       "    </tr>\n",
       "    <tr>\n",
       "      <th>PC12</th>\n",
       "      <td>0.870946</td>\n",
       "    </tr>\n",
       "    <tr>\n",
       "      <th>PC13</th>\n",
       "      <td>0.738835</td>\n",
       "    </tr>\n",
       "    <tr>\n",
       "      <th>PC14</th>\n",
       "      <td>0.731781</td>\n",
       "    </tr>\n",
       "    <tr>\n",
       "      <th>PC15</th>\n",
       "      <td>0.676521</td>\n",
       "    </tr>\n",
       "    <tr>\n",
       "      <th>PC16</th>\n",
       "      <td>0.367530</td>\n",
       "    </tr>\n",
       "  </tbody>\n",
       "</table>\n",
       "</div>"
      ],
      "text/plain": [
       "      Standard deviation\n",
       "PC1             1.595022\n",
       "PC2             1.300450\n",
       "PC3             1.212347\n",
       "PC4             1.090326\n",
       "PC5             1.068324\n",
       "PC6             1.017146\n",
       "PC7             0.985820\n",
       "PC8             0.964796\n",
       "PC9             0.956962\n",
       "PC10            0.922143\n",
       "PC11            0.910359\n",
       "PC12            0.870946\n",
       "PC13            0.738835\n",
       "PC14            0.731781\n",
       "PC15            0.676521\n",
       "PC16            0.367530"
      ]
     },
     "execution_count": 39,
     "metadata": {},
     "output_type": "execute_result"
    }
   ],
   "source": [
    "summary.sdev"
   ]
  },
  {
   "cell_type": "markdown",
   "metadata": {},
   "source": [
    "The total variance explained by the components is the sum of the variances of the components:"
   ]
  },
  {
   "cell_type": "code",
   "execution_count": 40,
   "metadata": {
    "ExecuteTime": {
     "end_time": "2019-12-02T16:09:05.264726Z",
     "start_time": "2019-12-02T16:09:05.258721Z"
    }
   },
   "outputs": [
    {
     "data": {
      "text/plain": [
       "Standard deviation    16.0\n",
       "dtype: float64"
      ]
     },
     "execution_count": 40,
     "metadata": {},
     "output_type": "execute_result"
    }
   ],
   "source": [
    "np.sum(summary.sdev**2)"
   ]
  },
  {
   "cell_type": "markdown",
   "metadata": {},
   "source": [
    "In this case, we see that the total variance is 16, which is equal to the number of standardised variables (16 variables). This is because for standardised data, the variance of each standardised variable is 1. The total variance is equal to the sum of the variances of the individual variables, and since the variance of each standardised variable is 1, the total variance should be equal to the number of variables (16 here)."
   ]
  },
  {
   "cell_type": "markdown",
   "metadata": {},
   "source": [
    "### Deciding How Many Principal Components to Retain\n",
    "\n",
    "In order to decide how many principal components should be retained, it is common to summarise the results of a principal components analysis by making a scree plot, which we can do using the `screeplot()` function below:"
   ]
  },
  {
   "cell_type": "code",
   "execution_count": 41,
   "metadata": {
    "ExecuteTime": {
     "end_time": "2019-12-02T16:10:41.378809Z",
     "start_time": "2019-12-02T16:10:41.192309Z"
    }
   },
   "outputs": [
    {
     "data": {
      "image/png": "[encoded data removed]",
      "text/plain": [
       "<Figure size 432x288 with 1 Axes>"
      ]
     },
     "metadata": {
      "needs_background": "light"
     },
     "output_type": "display_data"
    }
   ],
   "source": [
    "def screeplot(pca, standardised_values):\n",
    "    y = np.std(pca.transform(standardised_values), axis=0)**2\n",
    "    x = np.arange(len(y)) + 1\n",
    "    plt.plot(x, y, \"o-\")\n",
    "    plt.xticks(x, [\"Comp.\"+str(i) for i in x], rotation=60)\n",
    "    plt.ylabel(\"Variance\")\n",
    "    plt.show()\n",
    "\n",
    "screeplot(pca, standardisedX)"
   ]
  },
  {
   "cell_type": "markdown",
   "metadata": {},
   "source": [
    "The most obvious change in slope in the scree plot occurs at component 4, which is the \"elbow\" of the scree plot. Therefore, it cound be argued based on the basis of the scree plot that the first three components should be retained.\n",
    "\n",
    "Another way of deciding how many components to retain is to use *Kaiser’s criterion*: that we should only retain principal components for which the variance is above 1 (when principal component analysis was applied to standardised data). We can check this by finding the variance of each of the principal components:"
   ]
  },
  {
   "cell_type": "code",
   "execution_count": 42,
   "metadata": {
    "ExecuteTime": {
     "end_time": "2019-12-02T16:12:05.669678Z",
     "start_time": "2019-12-02T16:12:05.659677Z"
    }
   },
   "outputs": [
    {
     "data": {
      "text/html": [
       "<div>\n",
       "<style scoped>\n",
       "    .dataframe tbody tr th:only-of-type {\n",
       "        vertical-align: middle;\n",
       "    }\n",
       "\n",
       "    .dataframe tbody tr th {\n",
       "        vertical-align: top;\n",
       "    }\n",
       "\n",
       "    .dataframe thead th {\n",
       "        text-align: right;\n",
       "    }\n",
       "</style>\n",
       "<table border=\"1\" class=\"dataframe\">\n",
       "  <thead>\n",
       "    <tr style=\"text-align: right;\">\n",
       "      <th></th>\n",
       "      <th>Standard deviation</th>\n",
       "    </tr>\n",
       "  </thead>\n",
       "  <tbody>\n",
       "    <tr>\n",
       "      <th>PC1</th>\n",
       "      <td>2.544095</td>\n",
       "    </tr>\n",
       "    <tr>\n",
       "      <th>PC2</th>\n",
       "      <td>1.691171</td>\n",
       "    </tr>\n",
       "    <tr>\n",
       "      <th>PC3</th>\n",
       "      <td>1.469786</td>\n",
       "    </tr>\n",
       "    <tr>\n",
       "      <th>PC4</th>\n",
       "      <td>1.188810</td>\n",
       "    </tr>\n",
       "    <tr>\n",
       "      <th>PC5</th>\n",
       "      <td>1.141317</td>\n",
       "    </tr>\n",
       "    <tr>\n",
       "      <th>PC6</th>\n",
       "      <td>1.034586</td>\n",
       "    </tr>\n",
       "    <tr>\n",
       "      <th>PC7</th>\n",
       "      <td>0.971840</td>\n",
       "    </tr>\n",
       "    <tr>\n",
       "      <th>PC8</th>\n",
       "      <td>0.930830</td>\n",
       "    </tr>\n",
       "    <tr>\n",
       "      <th>PC9</th>\n",
       "      <td>0.915777</td>\n",
       "    </tr>\n",
       "    <tr>\n",
       "      <th>PC10</th>\n",
       "      <td>0.850347</td>\n",
       "    </tr>\n",
       "    <tr>\n",
       "      <th>PC11</th>\n",
       "      <td>0.828754</td>\n",
       "    </tr>\n",
       "    <tr>\n",
       "      <th>PC12</th>\n",
       "      <td>0.758547</td>\n",
       "    </tr>\n",
       "    <tr>\n",
       "      <th>PC13</th>\n",
       "      <td>0.545877</td>\n",
       "    </tr>\n",
       "    <tr>\n",
       "      <th>PC14</th>\n",
       "      <td>0.535504</td>\n",
       "    </tr>\n",
       "    <tr>\n",
       "      <th>PC15</th>\n",
       "      <td>0.457681</td>\n",
       "    </tr>\n",
       "    <tr>\n",
       "      <th>PC16</th>\n",
       "      <td>0.135078</td>\n",
       "    </tr>\n",
       "  </tbody>\n",
       "</table>\n",
       "</div>"
      ],
      "text/plain": [
       "      Standard deviation\n",
       "PC1             2.544095\n",
       "PC2             1.691171\n",
       "PC3             1.469786\n",
       "PC4             1.188810\n",
       "PC5             1.141317\n",
       "PC6             1.034586\n",
       "PC7             0.971840\n",
       "PC8             0.930830\n",
       "PC9             0.915777\n",
       "PC10            0.850347\n",
       "PC11            0.828754\n",
       "PC12            0.758547\n",
       "PC13            0.545877\n",
       "PC14            0.535504\n",
       "PC15            0.457681\n",
       "PC16            0.135078"
      ]
     },
     "execution_count": 42,
     "metadata": {},
     "output_type": "execute_result"
    }
   ],
   "source": [
    "summary.sdev**2"
   ]
  },
  {
   "cell_type": "markdown",
   "metadata": {},
   "source": [
    "We see that the variance is above 1 for principal components 1, 2, 3, 4, 5 and 6. Therefore, using Kaiser’s criterion, we would retain the first six principal components.\n",
    "\n",
    "A third way to decide how many principal components to retain is to decide to keep the number of components required to explain at least some minimum amount of the total variance. For example, if it is important to explain at least 80% of the variance, we would retain the first eleven principal components, as we can see from cumulative proportions (`summary.cumprop`) that the first eleven principal components explain 84.7% of the variance (while the first ten components explain just 79.6%, so are not sufficient)."
   ]
  },
  {
   "cell_type": "markdown",
   "metadata": {},
   "source": [
    "### Loadings for the Principal Components\n",
    "\n",
    "The loadings for the principal components are stored in a named element `components_` of the variable returned by `PCA().fit()`. This contains a matrix with the loadings of each principal component, where the first column in the matrix contains the loadings for the first principal component, the second column contains the loadings for the second principal component, and so on.\n",
    "\n",
    "Therefore, to obtain the loadings for the first principal component in our analysis of the 16 attributes of the bank marketing campaign samples, we type:"
   ]
  },
  {
   "cell_type": "code",
   "execution_count": 43,
   "metadata": {
    "ExecuteTime": {
     "end_time": "2019-12-02T16:16:42.113346Z",
     "start_time": "2019-12-02T16:16:42.109329Z"
    }
   },
   "outputs": [
    {
     "data": {
      "text/plain": [
       "array([-0.0226325 ,  0.00364652,  0.04883496,  0.04601961, -0.03597265,\n",
       "        0.02804409,  0.05758993, -0.03364739, -0.24922459, -0.08749701,\n",
       "       -0.00508091,  0.01797468, -0.10944847,  0.56732867,  0.49556443,\n",
       "       -0.58215131])"
      ]
     },
     "execution_count": 43,
     "metadata": {},
     "output_type": "execute_result"
    }
   ],
   "source": [
    "pca.components_[0]"
   ]
  },
  {
   "cell_type": "markdown",
   "metadata": {},
   "source": [
    "This means that the first principal component is a linear combination of the variables:\n",
    "```\n",
    "array[0]*Z1 + array[1]*Z2 + array[2]*Z3 + array[3]*Z4 + ... +  array[15]*Z16\n",
    "```\n",
    "\n",
    "where Z1, Z2, Z3, ..., Z16 are the standardised versions of the variables V1, V2, V3, ..., V16 (that each have mean of 0 and variance of 1).\n",
    "\n",
    "Note that the square of the loadings sum to 1, as this is a constraint used in calculating the loadings:"
   ]
  },
  {
   "cell_type": "code",
   "execution_count": 44,
   "metadata": {
    "ExecuteTime": {
     "end_time": "2019-12-02T16:19:41.071306Z",
     "start_time": "2019-12-02T16:19:41.066318Z"
    }
   },
   "outputs": [
    {
     "data": {
      "text/plain": [
       "1.0000000000000016"
      ]
     },
     "execution_count": 44,
     "metadata": {},
     "output_type": "execute_result"
    }
   ],
   "source": [
    "np.sum(pca.components_[0]**2)"
   ]
  },
  {
   "cell_type": "markdown",
   "metadata": {},
   "source": [
    "To calculate the values of the first principal component, we can define our own function to calculate a principal component given the loadings and the input variables' values:"
   ]
  },
  {
   "cell_type": "code",
   "execution_count": 45,
   "metadata": {
    "ExecuteTime": {
     "end_time": "2019-12-02T16:19:53.020103Z",
     "start_time": "2019-12-02T16:19:53.015136Z"
    }
   },
   "outputs": [],
   "source": [
    "def calcpc(variables, loadings):\n",
    "    # find the number of samples in the data set and the number of variables\n",
    "    numsamples, numvariables = variables.shape\n",
    "    # make a vector to store the component\n",
    "    pc = np.zeros(numsamples)\n",
    "    # calculate the value of the component for each sample\n",
    "    for i in range(numsamples):\n",
    "        valuei = 0\n",
    "        for j in range(numvariables):\n",
    "            valueij = variables.iloc[i, j]\n",
    "            loadingj = loadings[j]\n",
    "            valuei = valuei + (valueij * loadingj)\n",
    "        pc[i] = valuei\n",
    "    return pc"
   ]
  },
  {
   "cell_type": "markdown",
   "metadata": {},
   "source": [
    "We can then use the function to calculate the values of the first principal component for each sample in our bank data:"
   ]
  },
  {
   "cell_type": "code",
   "execution_count": 47,
   "metadata": {
    "ExecuteTime": {
     "end_time": "2019-12-02T16:20:04.432854Z",
     "start_time": "2019-12-02T16:20:03.913653Z"
    }
   },
   "outputs": [
    {
     "data": {
      "text/plain": [
       "array([-0.55905504,  4.49935271,  3.7252057 , ..., -0.90216884,\n",
       "        2.79131693,  4.43198179])"
      ]
     },
     "execution_count": 47,
     "metadata": {},
     "output_type": "execute_result"
    }
   ],
   "source": [
    "calcpc(standardisedX, pca.components_[0])"
   ]
  },
  {
   "cell_type": "markdown",
   "metadata": {},
   "source": [
    "In fact, the values of the first principal component are computed with the following, so we can compare those values to the ones that we calculated, and they should agree:"
   ]
  },
  {
   "cell_type": "code",
   "execution_count": 51,
   "metadata": {
    "ExecuteTime": {
     "end_time": "2019-12-02T16:23:42.414758Z",
     "start_time": "2019-12-02T16:23:42.407806Z"
    }
   },
   "outputs": [
    {
     "data": {
      "text/plain": [
       "array([-0.55905504,  4.49935271,  3.7252057 , ..., -0.90216884,\n",
       "        2.79131693,  4.43198179])"
      ]
     },
     "execution_count": 51,
     "metadata": {},
     "output_type": "execute_result"
    }
   ],
   "source": [
    "pca.transform(standardisedX)[:, 0]"
   ]
  },
  {
   "cell_type": "markdown",
   "metadata": {},
   "source": [
    "We see that they do agree.\n",
    "\n",
    "Similarly, we can obtain the loadings for the second principal component by typing:"
   ]
  },
  {
   "cell_type": "code",
   "execution_count": 52,
   "metadata": {
    "ExecuteTime": {
     "end_time": "2019-12-02T16:23:44.705498Z",
     "start_time": "2019-12-02T16:23:44.700520Z"
    }
   },
   "outputs": [
    {
     "data": {
      "text/plain": [
       "array([ 0.01178552,  0.3107548 ,  0.1659012 ,  0.28284998, -0.03741076,\n",
       "        0.06263553, -0.4809901 , -0.07254273, -0.46707764,  0.12114526,\n",
       "       -0.54123738, -0.03123711,  0.13060077, -0.07396087, -0.04325306,\n",
       "        0.05176472])"
      ]
     },
     "execution_count": 52,
     "metadata": {},
     "output_type": "execute_result"
    }
   ],
   "source": [
    "pca.components_[1]"
   ]
  },
  {
   "cell_type": "markdown",
   "metadata": {},
   "source": [
    "This means that the second principal component is a linear combination of the variables: \n",
    "```\n",
    "array[0]*Z1 + array[1]*Z2 + array[2]*Z3 + array[3]*Z4 + ... +  array[15]*Z16\n",
    "```\n",
    "\n",
    "where Z1, Z2, Z3, ..., Z16 are the standardised versions of variables V1, V2, ..., V16 that each have mean 0 and variance 1.\n",
    "\n",
    "Note that the square of the loadings sum to 1, as above:"
   ]
  },
  {
   "cell_type": "code",
   "execution_count": 53,
   "metadata": {
    "ExecuteTime": {
     "end_time": "2019-12-02T16:23:48.422928Z",
     "start_time": "2019-12-02T16:23:48.416937Z"
    }
   },
   "outputs": [
    {
     "data": {
      "text/plain": [
       "0.9999999999999992"
      ]
     },
     "execution_count": 53,
     "metadata": {},
     "output_type": "execute_result"
    }
   ],
   "source": [
    "np.sum(pca.components_[1]**2)"
   ]
  },
  {
   "cell_type": "markdown",
   "metadata": {},
   "source": [
    "### Scatterplots of the Principal Components\n",
    "\n",
    "\n",
    "The values of the principal components can be computed by the `transform()` (or `fit_transform()`) method of the `PCA` class. It returns a matrix with the principal components, where the first column in the matrix contains the first principal component, the second column the second component, and so on.\n",
    "\n",
    "Thus, in our example, `pca.transform(standardisedX)[:, 0]` contains the first principal component, and `pca.transform(standardisedX)[:, 1]` contains the second principal component.\n",
    "\n",
    "We can make a scatterplot of the first two principal components, and label the data points with the cultivar that the bank samples come from, by typing:"
   ]
  },
  {
   "cell_type": "code",
   "execution_count": 54,
   "metadata": {
    "ExecuteTime": {
     "end_time": "2019-12-02T16:25:37.547746Z",
     "start_time": "2019-12-02T16:25:37.198699Z"
    }
   },
   "outputs": [
    {
     "data": {
      "image/png": "[encoded data removed]",
      "text/plain": [
       "<Figure size 402.375x360 with 1 Axes>"
      ]
     },
     "metadata": {
      "needs_background": "light"
     },
     "output_type": "display_data"
    }
   ],
   "source": [
    "def pca_scatter(pca, standardised_values, classifs):\n",
    "    foo = pca.transform(standardised_values)\n",
    "    bar = pd.DataFrame(list(zip(foo[:, 0], foo[:, 1], classifs)), columns=[\"PC1\", \"PC2\", \"Class\"])\n",
    "    sns.lmplot(\"PC1\", \"PC2\", bar, hue=\"Class\", fit_reg=False)\n",
    "\n",
    "pca_scatter(pca, standardisedX, y)"
   ]
  },
  {
   "cell_type": "markdown",
   "metadata": {},
   "source": [
    "The scatterplot shows the first principal component on the x-axis, and the second principal component on the y-axis. We can see from the scatterplot that bank samples are not so well seperated. \n",
    "\n",
    "Therefore, the first two principal components are not so useful for distinguishing wine samples of the bank dataset.\n",
    "\n",
    "We print out the means of the standardised concentration variables in each target value, using the `printMeanAndSdByGroup()` function (see above):"
   ]
  },
  {
   "cell_type": "code",
   "execution_count": 55,
   "metadata": {
    "ExecuteTime": {
     "end_time": "2019-12-02T16:30:29.688047Z",
     "start_time": "2019-12-02T16:30:29.639165Z"
    }
   },
   "outputs": [
    {
     "name": "stdout",
     "output_type": "stream",
     "text": [
      "## Means:\n"
     ]
    },
    {
     "data": {
      "text/html": [
       "<div>\n",
       "<style scoped>\n",
       "    .dataframe tbody tr th:only-of-type {\n",
       "        vertical-align: middle;\n",
       "    }\n",
       "\n",
       "    .dataframe tbody tr th {\n",
       "        vertical-align: top;\n",
       "    }\n",
       "\n",
       "    .dataframe thead th {\n",
       "        text-align: right;\n",
       "    }\n",
       "</style>\n",
       "<table border=\"1\" class=\"dataframe\">\n",
       "  <thead>\n",
       "    <tr style=\"text-align: right;\">\n",
       "      <th></th>\n",
       "      <th>V1</th>\n",
       "      <th>V2</th>\n",
       "      <th>V3</th>\n",
       "      <th>V4</th>\n",
       "      <th>V5</th>\n",
       "      <th>V6</th>\n",
       "      <th>V7</th>\n",
       "      <th>V8</th>\n",
       "      <th>V9</th>\n",
       "      <th>V10</th>\n",
       "      <th>V11</th>\n",
       "      <th>V12</th>\n",
       "      <th>V13</th>\n",
       "      <th>V14</th>\n",
       "      <th>V15</th>\n",
       "      <th>V16</th>\n",
       "    </tr>\n",
       "    <tr>\n",
       "      <th>V17</th>\n",
       "      <th></th>\n",
       "      <th></th>\n",
       "      <th></th>\n",
       "      <th></th>\n",
       "      <th></th>\n",
       "      <th></th>\n",
       "      <th></th>\n",
       "      <th></th>\n",
       "      <th></th>\n",
       "      <th></th>\n",
       "      <th></th>\n",
       "      <th></th>\n",
       "      <th></th>\n",
       "      <th></th>\n",
       "      <th></th>\n",
       "      <th></th>\n",
       "    </tr>\n",
       "  </thead>\n",
       "  <tbody>\n",
       "    <tr>\n",
       "      <th>0</th>\n",
       "      <td>-0.016274</td>\n",
       "      <td>-0.009889</td>\n",
       "      <td>-0.005429</td>\n",
       "      <td>-0.015514</td>\n",
       "      <td>-0.000470</td>\n",
       "      <td>-0.006462</td>\n",
       "      <td>0.037780</td>\n",
       "      <td>0.025450</td>\n",
       "      <td>0.048215</td>\n",
       "      <td>0.004058</td>\n",
       "      <td>0.014773</td>\n",
       "      <td>-0.144764</td>\n",
       "      <td>0.022068</td>\n",
       "      <td>-0.037565</td>\n",
       "      <td>-0.042122</td>\n",
       "      <td>0.029822</td>\n",
       "    </tr>\n",
       "    <tr>\n",
       "      <th>1</th>\n",
       "      <td>0.124942</td>\n",
       "      <td>0.075923</td>\n",
       "      <td>0.041679</td>\n",
       "      <td>0.119110</td>\n",
       "      <td>0.003609</td>\n",
       "      <td>0.049612</td>\n",
       "      <td>-0.290061</td>\n",
       "      <td>-0.195391</td>\n",
       "      <td>-0.370171</td>\n",
       "      <td>-0.031156</td>\n",
       "      <td>-0.113418</td>\n",
       "      <td>1.111434</td>\n",
       "      <td>-0.169430</td>\n",
       "      <td>0.288408</td>\n",
       "      <td>0.323397</td>\n",
       "      <td>-0.228960</td>\n",
       "    </tr>\n",
       "  </tbody>\n",
       "</table>\n",
       "</div>"
      ],
      "text/plain": [
       "           V1        V2        V3        V4        V5        V6        V7  \\\n",
       "V17                                                                         \n",
       "0   -0.016274 -0.009889 -0.005429 -0.015514 -0.000470 -0.006462  0.037780   \n",
       "1    0.124942  0.075923  0.041679  0.119110  0.003609  0.049612 -0.290061   \n",
       "\n",
       "           V8        V9       V10       V11       V12       V13       V14  \\\n",
       "V17                                                                         \n",
       "0    0.025450  0.048215  0.004058  0.014773 -0.144764  0.022068 -0.037565   \n",
       "1   -0.195391 -0.370171 -0.031156 -0.113418  1.111434 -0.169430  0.288408   \n",
       "\n",
       "          V15       V16  \n",
       "V17                      \n",
       "0   -0.042122  0.029822  \n",
       "1    0.323397 -0.228960  "
      ]
     },
     "metadata": {},
     "output_type": "display_data"
    },
    {
     "name": "stdout",
     "output_type": "stream",
     "text": [
      "\n",
      "## Standard deviations:\n"
     ]
    },
    {
     "data": {
      "text/html": [
       "<div>\n",
       "<style scoped>\n",
       "    .dataframe tbody tr th:only-of-type {\n",
       "        vertical-align: middle;\n",
       "    }\n",
       "\n",
       "    .dataframe tbody tr th {\n",
       "        vertical-align: top;\n",
       "    }\n",
       "\n",
       "    .dataframe thead th {\n",
       "        text-align: right;\n",
       "    }\n",
       "</style>\n",
       "<table border=\"1\" class=\"dataframe\">\n",
       "  <thead>\n",
       "    <tr style=\"text-align: right;\">\n",
       "      <th></th>\n",
       "      <th>V1</th>\n",
       "      <th>V2</th>\n",
       "      <th>V3</th>\n",
       "      <th>V4</th>\n",
       "      <th>V5</th>\n",
       "      <th>V6</th>\n",
       "      <th>V7</th>\n",
       "      <th>V8</th>\n",
       "      <th>V9</th>\n",
       "      <th>V10</th>\n",
       "      <th>V11</th>\n",
       "      <th>V12</th>\n",
       "      <th>V13</th>\n",
       "      <th>V14</th>\n",
       "      <th>V15</th>\n",
       "      <th>V16</th>\n",
       "    </tr>\n",
       "    <tr>\n",
       "      <th>V17</th>\n",
       "      <th></th>\n",
       "      <th></th>\n",
       "      <th></th>\n",
       "      <th></th>\n",
       "      <th></th>\n",
       "      <th></th>\n",
       "      <th></th>\n",
       "      <th></th>\n",
       "      <th></th>\n",
       "      <th></th>\n",
       "      <th></th>\n",
       "      <th></th>\n",
       "      <th></th>\n",
       "      <th></th>\n",
       "      <th></th>\n",
       "      <th></th>\n",
       "    </tr>\n",
       "  </thead>\n",
       "  <tbody>\n",
       "    <tr>\n",
       "      <th>0</th>\n",
       "      <td>0.963318</td>\n",
       "      <td>1.004966</td>\n",
       "      <td>0.985457</td>\n",
       "      <td>1.001752</td>\n",
       "      <td>0.998231</td>\n",
       "      <td>1.021819</td>\n",
       "      <td>0.994237</td>\n",
       "      <td>1.023943</td>\n",
       "      <td>1.018694</td>\n",
       "      <td>1.000236</td>\n",
       "      <td>0.980382</td>\n",
       "      <td>0.809333</td>\n",
       "      <td>1.033043</td>\n",
       "      <td>0.961798</td>\n",
       "      <td>0.960902</td>\n",
       "      <td>0.988848</td>\n",
       "    </tr>\n",
       "    <tr>\n",
       "      <th>1</th>\n",
       "      <td>1.239066</td>\n",
       "      <td>0.957623</td>\n",
       "      <td>1.104409</td>\n",
       "      <td>0.978281</td>\n",
       "      <td>1.013469</td>\n",
       "      <td>0.811500</td>\n",
       "      <td>0.996568</td>\n",
       "      <td>0.764727</td>\n",
       "      <td>0.745245</td>\n",
       "      <td>0.997634</td>\n",
       "      <td>1.133025</td>\n",
       "      <td>1.500805</td>\n",
       "      <td>0.672162</td>\n",
       "      <td>1.217120</td>\n",
       "      <td>1.212605</td>\n",
       "      <td>1.054055</td>\n",
       "    </tr>\n",
       "  </tbody>\n",
       "</table>\n",
       "</div>"
      ],
      "text/plain": [
       "           V1        V2        V3        V4        V5        V6        V7  \\\n",
       "V17                                                                         \n",
       "0    0.963318  1.004966  0.985457  1.001752  0.998231  1.021819  0.994237   \n",
       "1    1.239066  0.957623  1.104409  0.978281  1.013469  0.811500  0.996568   \n",
       "\n",
       "           V8        V9       V10       V11       V12       V13       V14  \\\n",
       "V17                                                                         \n",
       "0    1.023943  1.018694  1.000236  0.980382  0.809333  1.033043  0.961798   \n",
       "1    0.764727  0.745245  0.997634  1.133025  1.500805  0.672162  1.217120   \n",
       "\n",
       "          V15       V16  \n",
       "V17                      \n",
       "0    0.960902  0.988848  \n",
       "1    1.212605  1.054055  "
      ]
     },
     "metadata": {},
     "output_type": "display_data"
    },
    {
     "name": "stdout",
     "output_type": "stream",
     "text": [
      "\n",
      "## Sample sizes:\n"
     ]
    },
    {
     "data": {
      "text/html": [
       "<div>\n",
       "<style scoped>\n",
       "    .dataframe tbody tr th:only-of-type {\n",
       "        vertical-align: middle;\n",
       "    }\n",
       "\n",
       "    .dataframe tbody tr th {\n",
       "        vertical-align: top;\n",
       "    }\n",
       "\n",
       "    .dataframe thead th {\n",
       "        text-align: right;\n",
       "    }\n",
       "</style>\n",
       "<table border=\"1\" class=\"dataframe\">\n",
       "  <thead>\n",
       "    <tr style=\"text-align: right;\">\n",
       "      <th></th>\n",
       "      <th>0</th>\n",
       "    </tr>\n",
       "    <tr>\n",
       "      <th>V17</th>\n",
       "      <th></th>\n",
       "    </tr>\n",
       "  </thead>\n",
       "  <tbody>\n",
       "    <tr>\n",
       "      <th>0</th>\n",
       "      <td>4000</td>\n",
       "    </tr>\n",
       "    <tr>\n",
       "      <th>1</th>\n",
       "      <td>521</td>\n",
       "    </tr>\n",
       "  </tbody>\n",
       "</table>\n",
       "</div>"
      ],
      "text/plain": [
       "        0\n",
       "V17      \n",
       "0    4000\n",
       "1     521"
      ]
     },
     "metadata": {},
     "output_type": "display_data"
    }
   ],
   "source": [
    "printMeanAndSdByGroup(standardisedX, y);"
   ]
  },
  {
   "cell_type": "markdown",
   "metadata": {},
   "source": [
    "## Linear Discriminant Analysis\n",
    "\n",
    "The purpose of principal component analysis is to find the best low-dimensional representation of the variation in a multivariate data set. For example, in the bank data set, we have 16 features for every customer. By carrying out a principal component analysis, we found that most of the variation in the data between the samples can be captured using the first five principal components, where each of the principal components is a particular linear combination of the 16 customer data.\n",
    "\n",
    "The purpose of linear discriminant analysis (LDA) is to find the linear combinations of the original variables that gives the best possible separation between the groups in our data set. *Linear discriminant analysis* is also known as *canonical discriminant analysis*, or simply *discriminant analysis*.\n",
    "\n",
    "If we want to separate the customers, the number of groups (G) is 2, and the number of variables is 16 (p = 16). The maximum number of useful discriminant functions that can separate the wines by cultivar is the minimum of G-1 and p, and so in this case it is the minimum of 1 and 16, which is 1. Thus, we can find at most 1 useful discriminant function to separate the customers using the 16 features.\n",
    "\n",
    "You can carry out a linear discriminant analysis by using the `LinearDiscriminantAnalysis` class model from the module `sklearn.discriminant_analysis` and using its method `fit()` to fit our `X, y` data.\n",
    "\n",
    "For example, to carry out a linear discriminant analysis using the 16 features for the bank dataset, we type:"
   ]
  },
  {
   "cell_type": "code",
   "execution_count": 56,
   "metadata": {
    "ExecuteTime": {
     "end_time": "2019-12-02T16:40:19.317607Z",
     "start_time": "2019-12-02T16:40:19.291707Z"
    }
   },
   "outputs": [],
   "source": [
    "lda = LinearDiscriminantAnalysis().fit(X, y)"
   ]
  },
  {
   "cell_type": "markdown",
   "metadata": {},
   "source": [
    "### Loadings for the Discriminant Functions\n",
    "\n",
    "The values of the loadings of the discriminant functions for the wine data are stored in the `scalings_` member of the `lda` object model. For a pretty print we can type:"
   ]
  },
  {
   "cell_type": "code",
   "execution_count": 57,
   "metadata": {
    "ExecuteTime": {
     "end_time": "2019-12-02T16:40:24.667807Z",
     "start_time": "2019-12-02T16:40:24.656858Z"
    }
   },
   "outputs": [
    {
     "name": "stdout",
     "output_type": "stream",
     "text": [
      "Coefficients of linear discriminants:\n"
     ]
    },
    {
     "data": {
      "text/html": [
       "<div>\n",
       "<style scoped>\n",
       "    .dataframe tbody tr th:only-of-type {\n",
       "        vertical-align: middle;\n",
       "    }\n",
       "\n",
       "    .dataframe tbody tr th {\n",
       "        vertical-align: top;\n",
       "    }\n",
       "\n",
       "    .dataframe thead th {\n",
       "        text-align: right;\n",
       "    }\n",
       "</style>\n",
       "<table border=\"1\" class=\"dataframe\">\n",
       "  <thead>\n",
       "    <tr style=\"text-align: right;\">\n",
       "      <th></th>\n",
       "      <th>LD1</th>\n",
       "    </tr>\n",
       "  </thead>\n",
       "  <tbody>\n",
       "    <tr>\n",
       "      <th>V1</th>\n",
       "      <td>0.009055</td>\n",
       "    </tr>\n",
       "    <tr>\n",
       "      <th>V2</th>\n",
       "      <td>0.004604</td>\n",
       "    </tr>\n",
       "    <tr>\n",
       "      <th>V3</th>\n",
       "      <td>0.040719</td>\n",
       "    </tr>\n",
       "    <tr>\n",
       "      <th>V4</th>\n",
       "      <td>0.098088</td>\n",
       "    </tr>\n",
       "    <tr>\n",
       "      <th>V5</th>\n",
       "      <td>0.277095</td>\n",
       "    </tr>\n",
       "    <tr>\n",
       "      <th>V6</th>\n",
       "      <td>0.000007</td>\n",
       "    </tr>\n",
       "    <tr>\n",
       "      <th>V7</th>\n",
       "      <td>-0.459725</td>\n",
       "    </tr>\n",
       "    <tr>\n",
       "      <th>V8</th>\n",
       "      <td>-0.426795</td>\n",
       "    </tr>\n",
       "    <tr>\n",
       "      <th>V9</th>\n",
       "      <td>-0.257246</td>\n",
       "    </tr>\n",
       "    <tr>\n",
       "      <th>V10</th>\n",
       "      <td>0.001712</td>\n",
       "    </tr>\n",
       "    <tr>\n",
       "      <th>V11</th>\n",
       "      <td>0.012301</td>\n",
       "    </tr>\n",
       "    <tr>\n",
       "      <th>V12</th>\n",
       "      <td>0.003795</td>\n",
       "    </tr>\n",
       "    <tr>\n",
       "      <th>V13</th>\n",
       "      <td>-0.019613</td>\n",
       "    </tr>\n",
       "    <tr>\n",
       "      <th>V14</th>\n",
       "      <td>0.002771</td>\n",
       "    </tr>\n",
       "    <tr>\n",
       "      <th>V15</th>\n",
       "      <td>0.121120</td>\n",
       "    </tr>\n",
       "    <tr>\n",
       "      <th>V16</th>\n",
       "      <td>0.219986</td>\n",
       "    </tr>\n",
       "  </tbody>\n",
       "</table>\n",
       "</div>"
      ],
      "text/plain": [
       "          LD1\n",
       "V1   0.009055\n",
       "V2   0.004604\n",
       "V3   0.040719\n",
       "V4   0.098088\n",
       "V5   0.277095\n",
       "V6   0.000007\n",
       "V7  -0.459725\n",
       "V8  -0.426795\n",
       "V9  -0.257246\n",
       "V10  0.001712\n",
       "V11  0.012301\n",
       "V12  0.003795\n",
       "V13 -0.019613\n",
       "V14  0.002771\n",
       "V15  0.121120\n",
       "V16  0.219986"
      ]
     },
     "metadata": {},
     "output_type": "display_data"
    }
   ],
   "source": [
    "def pretty_scalings(lda, X, out=False):\n",
    "    ret = pd.DataFrame(lda.scalings_, index=X.columns, columns=[\"LD\"+str(i+1) for i in range(lda.scalings_.shape[1])])\n",
    "    if out:\n",
    "        print(\"Coefficients of linear discriminants:\")\n",
    "        display(ret)\n",
    "    return ret\n",
    "\n",
    "pretty_scalings_ = pretty_scalings(lda, X, out=True)"
   ]
  },
  {
   "cell_type": "markdown",
   "metadata": {},
   "source": [
    "This means that the first discriminant function is a linear combination of the variables.\n",
    "\n",
    "where V1, V2, ..., V16 are the 16 customer data of the bank dataset. For convenience, the value for each discriminant function (eg. the first discriminant function) are scaled so that their mean value is zero (see below).\n",
    "\n",
    "Note that these loadings are calculated so that the within-group variance of each discriminant function for each group (cultivar) is equal to 1, as will be demonstrated below.\n",
    "\n",
    "As mentioned above, these scalings are stored in the named member `scalings_` of the object variable returned by `LinearDiscriminantAnalysis().fit(X, y)`. This element contains a numpy array, in which the first column contains the loadings for the first discriminant function, the second column contains the loadings for the second discriminant function and so on. For example, to extract the loadings for the first discriminant function, we can type:"
   ]
  },
  {
   "cell_type": "code",
   "execution_count": 58,
   "metadata": {
    "ExecuteTime": {
     "end_time": "2019-12-02T16:41:44.683132Z",
     "start_time": "2019-12-02T16:41:44.678166Z"
    }
   },
   "outputs": [
    {
     "data": {
      "text/plain": [
       "array([ 0.00905507,  0.00460414,  0.0407188 ,  0.09808803,  0.27709511,\n",
       "        0.00000732, -0.45972488, -0.42679504, -0.25724622,  0.00171193,\n",
       "        0.01230136,  0.00379533, -0.01961302,  0.00277058,  0.12112021,\n",
       "        0.21998582])"
      ]
     },
     "execution_count": 58,
     "metadata": {},
     "output_type": "execute_result"
    }
   ],
   "source": [
    "lda.scalings_[:, 0]"
   ]
  },
  {
   "cell_type": "markdown",
   "metadata": {},
   "source": [
    "Or for \"prettier\" print, use the dataframe variable created above:"
   ]
  },
  {
   "cell_type": "code",
   "execution_count": 59,
   "metadata": {
    "ExecuteTime": {
     "end_time": "2019-12-02T16:41:47.058339Z",
     "start_time": "2019-12-02T16:41:47.052348Z"
    }
   },
   "outputs": [
    {
     "data": {
      "text/plain": [
       "V1     0.009055\n",
       "V2     0.004604\n",
       "V3     0.040719\n",
       "V4     0.098088\n",
       "V5     0.277095\n",
       "V6     0.000007\n",
       "V7    -0.459725\n",
       "V8    -0.426795\n",
       "V9    -0.257246\n",
       "V10    0.001712\n",
       "V11    0.012301\n",
       "V12    0.003795\n",
       "V13   -0.019613\n",
       "V14    0.002771\n",
       "V15    0.121120\n",
       "V16    0.219986\n",
       "Name: LD1, dtype: float64"
      ]
     },
     "execution_count": 59,
     "metadata": {},
     "output_type": "execute_result"
    }
   ],
   "source": [
    "pretty_scalings_.LD1"
   ]
  },
  {
   "cell_type": "markdown",
   "metadata": {},
   "source": [
    "To calculate the values of the first discriminant function, we can define our own function `calclda()`:"
   ]
  },
  {
   "cell_type": "code",
   "execution_count": 60,
   "metadata": {
    "ExecuteTime": {
     "end_time": "2019-12-02T16:41:56.412796Z",
     "start_time": "2019-12-02T16:41:56.407783Z"
    }
   },
   "outputs": [],
   "source": [
    "def calclda(variables, loadings):\n",
    "    # find the number of samples in the data set and the number of variables\n",
    "    numsamples, numvariables = variables.shape\n",
    "    # make a vector to store the discriminant function\n",
    "    ld = np.zeros(numsamples)\n",
    "    # calculate the value of the discriminant function for each sample\n",
    "    for i in range(numsamples):\n",
    "        valuei = 0\n",
    "        for j in range(numvariables):\n",
    "            valueij = variables.iloc[i, j]\n",
    "            loadingj = loadings[j]\n",
    "            valuei = valuei + (valueij * loadingj)\n",
    "        ld[i] = valuei\n",
    "    # standardise the discriminant function so that its mean value is 0:\n",
    "    ld = scale(ld, with_std=False)\n",
    "    return ld"
   ]
  },
  {
   "cell_type": "markdown",
   "metadata": {},
   "source": [
    "The function `calclda()` simply calculates the value of a discriminant function for each sample in the data set.\n",
    "\n",
    "Furthermore, the `scale()` command is used within the `calclda()` function in order to standardise the value of a discriminant function (eg. the first discriminant function) so that its mean value (over all the wine samples) is 0.\n",
    "\n",
    "We can use the function `calclda()` to calculate the values of the first discriminant function for each sample in our wine data:"
   ]
  },
  {
   "cell_type": "code",
   "execution_count": 61,
   "metadata": {
    "ExecuteTime": {
     "end_time": "2019-12-02T16:42:34.077692Z",
     "start_time": "2019-12-02T16:42:33.284811Z"
    }
   },
   "outputs": [
    {
     "data": {
      "text/plain": [
       "array([-0.39931067,  0.11095867,  0.04469072, ..., -0.10584483,\n",
       "        0.1677853 ,  0.97628994])"
      ]
     },
     "execution_count": 61,
     "metadata": {},
     "output_type": "execute_result"
    }
   ],
   "source": [
    "calclda(X, lda.scalings_[:, 0])"
   ]
  },
  {
   "cell_type": "markdown",
   "metadata": {},
   "source": [
    "In fact, the values of the first linear discriminant function can be calculated using the `transform(X)` or `fit_transform(X, y)` methods of the LDA object, so we can compare those to the ones that we calculated, and they should agree:"
   ]
  },
  {
   "cell_type": "code",
   "execution_count": 62,
   "metadata": {
    "ExecuteTime": {
     "end_time": "2019-12-02T16:42:46.461069Z",
     "start_time": "2019-12-02T16:42:46.436136Z"
    }
   },
   "outputs": [
    {
     "data": {
      "text/plain": [
       "array([-0.39931067,  0.11095867,  0.04469072, ..., -0.10584483,\n",
       "        0.1677853 ,  0.97628994])"
      ]
     },
     "execution_count": 62,
     "metadata": {},
     "output_type": "execute_result"
    }
   ],
   "source": [
    "# Try either, they produce the same result, use help() for more info\n",
    "# lda.transform(X)[:, 0]\n",
    "lda.fit_transform(X, y)[:, 0]"
   ]
  },
  {
   "cell_type": "markdown",
   "metadata": {},
   "source": [
    "We see that they do agree.\n",
    "\n",
    "It doesn’t matter whether the input variables for linear discriminant analysis are standardised or not, unlike for principal components analysis in which it is often necessary to standardise the input variables. However, using standardised variables in linear discriminant analysis makes it easier to interpret the loadings in a linear discriminant function.\n",
    "\n",
    "In linear discriminant analysis, the standardised version of an input variable is defined so that it has mean zero and within-groups variance of 1. Thus, we can calculate the “group-standardised” variable by subtracting the mean from each value of the variable, and dividing by the within-groups standard deviation. To calculate the group-standardised version of a set of variables, we can use the function `groupStandardise()` below:"
   ]
  },
  {
   "cell_type": "code",
   "execution_count": 63,
   "metadata": {
    "ExecuteTime": {
     "end_time": "2019-12-02T16:43:33.532809Z",
     "start_time": "2019-12-02T16:43:33.527822Z"
    }
   },
   "outputs": [],
   "source": [
    "def groupStandardise(variables, groupvariable):\n",
    "    # find the number of samples in the data set and the number of variables\n",
    "    numsamples, numvariables = variables.shape\n",
    "    # find the variable names\n",
    "    variablenames = variables.columns\n",
    "    # calculate the group-standardised version of each variable\n",
    "    variables_new = pd.DataFrame()\n",
    "    for i in range(numvariables):\n",
    "        variable_name = variablenames[i]\n",
    "        variablei = variables[variable_name]\n",
    "        variablei_Vw = calcWithinGroupsVariance(variablei, groupvariable)\n",
    "        variablei_mean = np.mean(variablei)\n",
    "        variablei_new = (variablei - variablei_mean)/(np.sqrt(variablei_Vw))\n",
    "        variables_new[variable_name] = variablei_new\n",
    "    return variables_new"
   ]
  },
  {
   "cell_type": "markdown",
   "metadata": {},
   "source": [
    "For example, we can use the `groupStandardise()` function to calculate the group-standardised versions of the customer data in bank samples:"
   ]
  },
  {
   "cell_type": "code",
   "execution_count": 64,
   "metadata": {
    "ExecuteTime": {
     "end_time": "2019-12-02T16:43:58.667939Z",
     "start_time": "2019-12-02T16:43:58.617062Z"
    }
   },
   "outputs": [],
   "source": [
    "groupstandardisedX = groupStandardise(X, y)"
   ]
  },
  {
   "cell_type": "markdown",
   "metadata": {},
   "source": [
    "We can then use the `LinearDiscriminantAnalysis().fit()` method to perform linear disriminant analysis on the group-standardised variables:"
   ]
  },
  {
   "cell_type": "code",
   "execution_count": 65,
   "metadata": {
    "ExecuteTime": {
     "end_time": "2019-12-02T16:44:01.602060Z",
     "start_time": "2019-12-02T16:44:01.576131Z"
    }
   },
   "outputs": [
    {
     "data": {
      "text/html": [
       "<div>\n",
       "<style scoped>\n",
       "    .dataframe tbody tr th:only-of-type {\n",
       "        vertical-align: middle;\n",
       "    }\n",
       "\n",
       "    .dataframe tbody tr th {\n",
       "        vertical-align: top;\n",
       "    }\n",
       "\n",
       "    .dataframe thead th {\n",
       "        text-align: right;\n",
       "    }\n",
       "</style>\n",
       "<table border=\"1\" class=\"dataframe\">\n",
       "  <thead>\n",
       "    <tr style=\"text-align: right;\">\n",
       "      <th></th>\n",
       "      <th>LD1</th>\n",
       "    </tr>\n",
       "  </thead>\n",
       "  <tbody>\n",
       "    <tr>\n",
       "      <th>V1</th>\n",
       "      <td>0.095681</td>\n",
       "    </tr>\n",
       "    <tr>\n",
       "      <th>V2</th>\n",
       "      <td>0.014986</td>\n",
       "    </tr>\n",
       "    <tr>\n",
       "      <th>V3</th>\n",
       "      <td>0.024417</td>\n",
       "    </tr>\n",
       "    <tr>\n",
       "      <th>V4</th>\n",
       "      <td>0.073383</td>\n",
       "    </tr>\n",
       "    <tr>\n",
       "      <th>V5</th>\n",
       "      <td>0.035631</td>\n",
       "    </tr>\n",
       "    <tr>\n",
       "      <th>V6</th>\n",
       "      <td>0.022039</td>\n",
       "    </tr>\n",
       "    <tr>\n",
       "      <th>V7</th>\n",
       "      <td>-0.226648</td>\n",
       "    </tr>\n",
       "    <tr>\n",
       "      <th>V8</th>\n",
       "      <td>-0.153228</td>\n",
       "    </tr>\n",
       "    <tr>\n",
       "      <th>V9</th>\n",
       "      <td>-0.229854</td>\n",
       "    </tr>\n",
       "    <tr>\n",
       "      <th>V10</th>\n",
       "      <td>0.014120</td>\n",
       "    </tr>\n",
       "    <tr>\n",
       "      <th>V11</th>\n",
       "      <td>0.036911</td>\n",
       "    </tr>\n",
       "    <tr>\n",
       "      <th>V12</th>\n",
       "      <td>0.903523</td>\n",
       "    </tr>\n",
       "    <tr>\n",
       "      <th>V13</th>\n",
       "      <td>-0.060885</td>\n",
       "    </tr>\n",
       "    <tr>\n",
       "      <th>V14</th>\n",
       "      <td>0.275918</td>\n",
       "    </tr>\n",
       "    <tr>\n",
       "      <th>V15</th>\n",
       "      <td>0.203745</td>\n",
       "    </tr>\n",
       "    <tr>\n",
       "      <th>V16</th>\n",
       "      <td>0.217515</td>\n",
       "    </tr>\n",
       "  </tbody>\n",
       "</table>\n",
       "</div>"
      ],
      "text/plain": [
       "          LD1\n",
       "V1   0.095681\n",
       "V2   0.014986\n",
       "V3   0.024417\n",
       "V4   0.073383\n",
       "V5   0.035631\n",
       "V6   0.022039\n",
       "V7  -0.226648\n",
       "V8  -0.153228\n",
       "V9  -0.229854\n",
       "V10  0.014120\n",
       "V11  0.036911\n",
       "V12  0.903523\n",
       "V13 -0.060885\n",
       "V14  0.275918\n",
       "V15  0.203745\n",
       "V16  0.217515"
      ]
     },
     "execution_count": 65,
     "metadata": {},
     "output_type": "execute_result"
    }
   ],
   "source": [
    "lda2 = LinearDiscriminantAnalysis().fit(groupstandardisedX, y)\n",
    "pretty_scalings(lda2, groupstandardisedX)"
   ]
  },
  {
   "cell_type": "markdown",
   "metadata": {},
   "source": [
    "It makes sense to interpret the loadings calculated using the group-standardised variables rather than the loadings for the original (unstandardised) variables.\n",
    "\n",
    "In the first discriminant function calculated for the group-standardised variables, the largest loadings (in absolute) value are given to V7, V8, V9, V12, V14, V15, V16. The loadings for V7, V8 and V9 are negative, while the rest are positive. Therefore, the discriminant function seems to represent a contrast between the concentrations of V7,V8 and V9 and the concentrations of V12, V14, V15 and V16.\n",
    "\n",
    "We found above that variables V9 and V12 are the variables that gave the greatest separations between groups when used individually, it is not surprising that these are the two variables that have the largest loadings in the first discriminant function.\n",
    "\n",
    "Note that although the loadings for the group-standardised variables are easier to interpret than the loadings for the unstandardised variables, the values of the discriminant function are the same regardless of whether we standardise the input variables or not. For example, for bank data, we can calculate the value of the first discriminant function calculated using the unstandardised and group-standardised variables by typing:"
   ]
  },
  {
   "cell_type": "code",
   "execution_count": 69,
   "metadata": {
    "ExecuteTime": {
     "end_time": "2019-12-02T17:03:37.456380Z",
     "start_time": "2019-12-02T17:03:37.422472Z"
    }
   },
   "outputs": [
    {
     "data": {
      "text/plain": [
       "array([-0.39931067,  0.11095867,  0.04469072, ..., -0.10584483,\n",
       "        0.1677853 ,  0.97628994])"
      ]
     },
     "execution_count": 69,
     "metadata": {},
     "output_type": "execute_result"
    }
   ],
   "source": [
    "lda.fit_transform(X, y)[:, 0]"
   ]
  },
  {
   "cell_type": "code",
   "execution_count": 70,
   "metadata": {
    "ExecuteTime": {
     "end_time": "2019-12-02T17:03:38.199394Z",
     "start_time": "2019-12-02T17:03:38.165484Z"
    }
   },
   "outputs": [
    {
     "data": {
      "text/plain": [
       "array([-0.39931067,  0.11095867,  0.04469072, ..., -0.10584483,\n",
       "        0.1677853 ,  0.97628994])"
      ]
     },
     "execution_count": 70,
     "metadata": {},
     "output_type": "execute_result"
    }
   ],
   "source": [
    "lda2.fit_transform(groupstandardisedX, y)[:, 0]"
   ]
  },
  {
   "cell_type": "markdown",
   "metadata": {},
   "source": [
    "We can see that although the loadings are different for the first discriminant functions calculated using unstandardised and group-standardised data, the actual values of the first discriminant function are the same."
   ]
  },
  {
   "cell_type": "markdown",
   "metadata": {},
   "source": [
    "### Separation Achieved by the Discriminant Functions\n",
    "\n",
    "To calculate the separation achieved by each discriminant function, we first need to calculate the value of each discriminant function, by substituting the values of the variables into the linear combination for the discriminant function and then scaling the values of the discriminant function so that their mean is zero.\n",
    "\n",
    "As mentioned above, we can do this using the `rpredict()` function which simulates the output of the `predict()` function in R. For example, to calculate the value of the discriminant functions for the wine data, we type:"
   ]
  },
  {
   "cell_type": "code",
   "execution_count": 71,
   "metadata": {
    "ExecuteTime": {
     "end_time": "2019-12-02T17:05:04.005519Z",
     "start_time": "2019-12-02T17:05:03.965626Z"
    }
   },
   "outputs": [
    {
     "name": "stdout",
     "output_type": "stream",
     "text": [
      "class\n",
      "['0' '0' '0' ... '0' '0' '0']\n",
      "\n",
      "posterior\n",
      "             0         1\n",
      "0     0.991383  0.008617\n",
      "1     0.999795  0.000205\n",
      "2     0.998761  0.001239\n",
      "3     0.999827  0.000173\n",
      "4     0.999004  0.000996\n",
      "5     0.993232  0.006768\n",
      "6     0.998118  0.001882\n",
      "7     0.997589  0.002411\n",
      "8     0.998814  0.001186\n",
      "9     0.999873  0.000127\n",
      "...        ...       ...\n",
      "4511  0.999004  0.000996\n",
      "4512  0.999021  0.000979\n",
      "4513  0.990005  0.009995\n",
      "4514  0.999133  0.000867\n",
      "4515  0.997451  0.002549\n",
      "4516  0.997706  0.002294\n",
      "4517  0.994269  0.005731\n",
      "4518  0.990622  0.009378\n",
      "4519  0.993261  0.006739\n",
      "4520  0.999473  0.000527\n",
      "\n",
      "[4521 rows x 2 columns]\n",
      "\n",
      "x\n",
      "           LD1\n",
      "0    -0.399311\n",
      "1     0.110959\n",
      "2     0.044691\n",
      "3    -1.314045\n",
      "4    -0.558023\n",
      "5     0.177851\n",
      "6     1.042761\n",
      "7    -0.489273\n",
      "8    -1.262320\n",
      "9    -0.441659\n",
      "...        ...\n",
      "4511  3.262413\n",
      "4512  0.946631\n",
      "4513  0.731079\n",
      "4514 -1.155556\n",
      "4515  1.182398\n",
      "4516  0.064585\n",
      "4517 -0.899197\n",
      "4518 -0.105845\n",
      "4519  0.167785\n",
      "4520  0.976290\n",
      "\n",
      "[4521 rows x 1 columns]\n"
     ]
    }
   ],
   "source": [
    "def rpredict(lda, X, y, out=False):\n",
    "    ret = {\"class\": lda.predict(X),\n",
    "           \"posterior\": pd.DataFrame(lda.predict_proba(X), columns=lda.classes_)}\n",
    "    ret[\"x\"] = pd.DataFrame(lda.fit_transform(X, y))\n",
    "    ret[\"x\"].columns = [\"LD\"+str(i+1) for i in range(ret[\"x\"].shape[1])]\n",
    "    if out:\n",
    "        print(\"class\")\n",
    "        print(ret[\"class\"])\n",
    "        print()\n",
    "        print(\"posterior\")\n",
    "        print(ret[\"posterior\"])\n",
    "        print()\n",
    "        print(\"x\")\n",
    "        print(ret[\"x\"])\n",
    "    return ret\n",
    "\n",
    "lda_values = rpredict(lda, standardisedX, y, True)"
   ]
  },
  {
   "cell_type": "markdown",
   "metadata": {},
   "source": [
    "The returned variable has a named element `x` which is a matrix containing the linear discriminant functions: the first column of `x` contains the first discriminant function, the second column of `x` contains the second discriminant function, and so on (if there are more discriminant functions).\n",
    "\n",
    "We can therefore calculate the separations achieved by the two linear discriminant functions for the wine data by using the `calcSeparations()` function (see above), which calculates the separation as the ratio of the between-groups variance to the within-groups variance:"
   ]
  },
  {
   "cell_type": "code",
   "execution_count": 72,
   "metadata": {
    "ExecuteTime": {
     "end_time": "2019-12-02T17:05:22.329063Z",
     "start_time": "2019-12-02T17:05:22.317092Z"
    }
   },
   "outputs": [
    {
     "name": "stdout",
     "output_type": "stream",
     "text": [
      "variable LD1 Vw= 0.9999999999999988 Vb= 1160.947635992428 separation= 1160.9476359924295\n"
     ]
    }
   ],
   "source": [
    "calcSeparations(lda_values[\"x\"], y)"
   ]
  },
  {
   "cell_type": "markdown",
   "metadata": {},
   "source": [
    "As mentioned above, the loadings for each discriminant function are calculated in such a way that the within-group variance (`Vw`) for each group is equal to 1, as we see in the output from `calcSeparations()` above.\n",
    "\n",
    "The output from `calcSeparations()` tells us that the separation achieved by the discriminant function is 1160.94\n",
    "\n",
    "The *proportion of trace* (as reported in R by the `lda()` model) is the percentage separation achieved by each discriminant function. Note that in `sklearn` the proportion of trace is reported as `explained_variance_ratio_` in a `LinearDiscriminantAnalysis` model and is computed only for an \"eigen\" solver, while so far we have been using the default one, which is \"svd\" (Singular Value Decomposition):"
   ]
  },
  {
   "cell_type": "code",
   "execution_count": 73,
   "metadata": {
    "ExecuteTime": {
     "end_time": "2019-12-02T17:10:41.998159Z",
     "start_time": "2019-12-02T17:10:41.962256Z"
    }
   },
   "outputs": [
    {
     "name": "stdout",
     "output_type": "stream",
     "text": [
      "Proportion of trace:\n",
      " LD1\n",
      " 1.0\n"
     ]
    }
   ],
   "source": [
    "def proportion_of_trace(lda):\n",
    "    ret = pd.DataFrame([round(i, 4) for i in lda.explained_variance_ratio_ if round(i, 4) > 0], columns=[\"ExplainedVariance\"])\n",
    "    ret.index = [\"LD\"+str(i+1) for i in range(ret.shape[0])]\n",
    "    ret = ret.transpose()\n",
    "    print(\"Proportion of trace:\")\n",
    "    print(ret.to_string(index=False))\n",
    "    return ret\n",
    "\n",
    "proportion_of_trace(LinearDiscriminantAnalysis(solver=\"eigen\").fit(X, y));"
   ]
  },
  {
   "cell_type": "markdown",
   "metadata": {},
   "source": [
    "### A Stacked Histogram of the LDA Values\n",
    "\n",
    "A nice way of displaying the results of a linear discriminant analysis (LDA) is to make a stacked histogram of the values of the discriminant function for the samples from different groups (different wine cultivars in our example).\n",
    "\n",
    "We can do this using the `ldahist()` function defined below."
   ]
  },
  {
   "cell_type": "code",
   "execution_count": 74,
   "metadata": {
    "ExecuteTime": {
     "end_time": "2019-12-02T17:12:59.067367Z",
     "start_time": "2019-12-02T17:12:59.060366Z"
    }
   },
   "outputs": [],
   "source": [
    "def ldahist(data, g, sep=False):\n",
    "    xmin = np.trunc(np.min(data)) - 1\n",
    "    xmax = np.trunc(np.max(data)) + 1\n",
    "    ncol = len(set(g))\n",
    "    binwidth = 0.5\n",
    "    bins=np.arange(xmin, xmax + binwidth, binwidth)\n",
    "    if sep:\n",
    "        fig, axl = plt.subplots(ncol, 1, sharey=True, sharex=True)\n",
    "    else:\n",
    "        fig, axl = plt.subplots(1, 1, sharey=True, sharex=True)\n",
    "        axl = [axl]*ncol\n",
    "    for ax, (group, gdata) in zip(axl, data.groupby(g)):\n",
    "        sns.distplot(gdata.values, bins, ax=ax, label=\"group \"+str(group))\n",
    "        ax.set_xlim([xmin, xmax])\n",
    "        if sep:\n",
    "            ax.set_xlabel(\"group\"+str(group))\n",
    "        else:\n",
    "            ax.legend(loc='center left', bbox_to_anchor=(1, 0.5))\n",
    "    plt.tight_layout()"
   ]
  },
  {
   "cell_type": "markdown",
   "metadata": {},
   "source": [
    "For example, to make a stacked histogram of the first discriminant function’s values for the bank marketing customer data, we type:"
   ]
  },
  {
   "cell_type": "code",
   "execution_count": 75,
   "metadata": {
    "ExecuteTime": {
     "end_time": "2019-12-02T17:13:06.321028Z",
     "start_time": "2019-12-02T17:13:06.064712Z"
    }
   },
   "outputs": [
    {
     "data": {
      "image/png": "[encoded data removed]",
      "text/plain": [
       "<Figure size 432x288 with 1 Axes>"
      ]
     },
     "metadata": {
      "needs_background": "light"
     },
     "output_type": "display_data"
    }
   ],
   "source": [
    "ldahist(lda_values[\"x\"].LD1, y)"
   ]
  },
  {
   "cell_type": "markdown",
   "metadata": {},
   "source": [
    "The separation achieved by the linear discriminant function on the training set may be an overestimate. To get a more accurate idea of how well the first discriminant function separates the groups, we would need to see a stacked histogram of the values for the target values using some unseen “test set”, that is, using a set of data that was not used to calculate the linear discriminant function.\n",
    "\n",
    "We see that the discriminant function does not separate the data so well."
   ]
  },
  {
   "cell_type": "markdown",
   "metadata": {},
   "source": [
    "### Allocation Rules and Misclassification Rate\n",
    "\n",
    "We can calculate the mean values of the discriminant functions for each of the two target values using the `printMeanAndSdByGroup()` function (see above):"
   ]
  },
  {
   "cell_type": "code",
   "execution_count": 80,
   "metadata": {
    "ExecuteTime": {
     "end_time": "2019-12-02T17:17:20.470446Z",
     "start_time": "2019-12-02T17:17:20.442522Z"
    }
   },
   "outputs": [
    {
     "name": "stdout",
     "output_type": "stream",
     "text": [
      "## Means:\n"
     ]
    },
    {
     "data": {
      "text/html": [
       "<div>\n",
       "<style scoped>\n",
       "    .dataframe tbody tr th:only-of-type {\n",
       "        vertical-align: middle;\n",
       "    }\n",
       "\n",
       "    .dataframe tbody tr th {\n",
       "        vertical-align: top;\n",
       "    }\n",
       "\n",
       "    .dataframe thead th {\n",
       "        text-align: right;\n",
       "    }\n",
       "</style>\n",
       "<table border=\"1\" class=\"dataframe\">\n",
       "  <thead>\n",
       "    <tr style=\"text-align: right;\">\n",
       "      <th></th>\n",
       "      <th>LD1</th>\n",
       "    </tr>\n",
       "    <tr>\n",
       "      <th>V17</th>\n",
       "      <th></th>\n",
       "    </tr>\n",
       "  </thead>\n",
       "  <tbody>\n",
       "    <tr>\n",
       "      <th>0</th>\n",
       "      <td>-0.182885</td>\n",
       "    </tr>\n",
       "    <tr>\n",
       "      <th>1</th>\n",
       "      <td>1.404107</td>\n",
       "    </tr>\n",
       "  </tbody>\n",
       "</table>\n",
       "</div>"
      ],
      "text/plain": [
       "          LD1\n",
       "V17          \n",
       "0   -0.182885\n",
       "1    1.404107"
      ]
     },
     "metadata": {},
     "output_type": "display_data"
    },
    {
     "name": "stdout",
     "output_type": "stream",
     "text": [
      "\n",
      "## Standard deviations:\n"
     ]
    },
    {
     "data": {
      "text/html": [
       "<div>\n",
       "<style scoped>\n",
       "    .dataframe tbody tr th:only-of-type {\n",
       "        vertical-align: middle;\n",
       "    }\n",
       "\n",
       "    .dataframe tbody tr th {\n",
       "        vertical-align: top;\n",
       "    }\n",
       "\n",
       "    .dataframe thead th {\n",
       "        text-align: right;\n",
       "    }\n",
       "</style>\n",
       "<table border=\"1\" class=\"dataframe\">\n",
       "  <thead>\n",
       "    <tr style=\"text-align: right;\">\n",
       "      <th></th>\n",
       "      <th>LD1</th>\n",
       "    </tr>\n",
       "    <tr>\n",
       "      <th>V17</th>\n",
       "      <th></th>\n",
       "    </tr>\n",
       "  </thead>\n",
       "  <tbody>\n",
       "    <tr>\n",
       "      <th>0</th>\n",
       "      <td>0.935561</td>\n",
       "    </tr>\n",
       "    <tr>\n",
       "      <th>1</th>\n",
       "      <td>1.397763</td>\n",
       "    </tr>\n",
       "  </tbody>\n",
       "</table>\n",
       "</div>"
      ],
      "text/plain": [
       "          LD1\n",
       "V17          \n",
       "0    0.935561\n",
       "1    1.397763"
      ]
     },
     "metadata": {},
     "output_type": "display_data"
    },
    {
     "name": "stdout",
     "output_type": "stream",
     "text": [
      "\n",
      "## Sample sizes:\n"
     ]
    },
    {
     "data": {
      "text/html": [
       "<div>\n",
       "<style scoped>\n",
       "    .dataframe tbody tr th:only-of-type {\n",
       "        vertical-align: middle;\n",
       "    }\n",
       "\n",
       "    .dataframe tbody tr th {\n",
       "        vertical-align: top;\n",
       "    }\n",
       "\n",
       "    .dataframe thead th {\n",
       "        text-align: right;\n",
       "    }\n",
       "</style>\n",
       "<table border=\"1\" class=\"dataframe\">\n",
       "  <thead>\n",
       "    <tr style=\"text-align: right;\">\n",
       "      <th></th>\n",
       "      <th>0</th>\n",
       "    </tr>\n",
       "    <tr>\n",
       "      <th>V17</th>\n",
       "      <th></th>\n",
       "    </tr>\n",
       "  </thead>\n",
       "  <tbody>\n",
       "    <tr>\n",
       "      <th>0</th>\n",
       "      <td>4000</td>\n",
       "    </tr>\n",
       "    <tr>\n",
       "      <th>1</th>\n",
       "      <td>521</td>\n",
       "    </tr>\n",
       "  </tbody>\n",
       "</table>\n",
       "</div>"
      ],
      "text/plain": [
       "        0\n",
       "V17      \n",
       "0    4000\n",
       "1     521"
      ]
     },
     "metadata": {},
     "output_type": "display_data"
    }
   ],
   "source": [
    "printMeanAndSdByGroup(lda_values[\"x\"], y);"
   ]
  },
  {
   "cell_type": "code",
   "execution_count": 81,
   "metadata": {
    "ExecuteTime": {
     "end_time": "2019-12-02T17:17:31.519141Z",
     "start_time": "2019-12-02T17:17:31.511163Z"
    }
   },
   "outputs": [],
   "source": [
    "def calcAllocationRuleAccuracy(ldavalue, groupvariable, cutoffpoints):\n",
    "    # find out how many values the group variable can take\n",
    "    levels = sorted(set((groupvariable)))\n",
    "    numlevels = len(levels)\n",
    "    confusion_matrix = []\n",
    "    # calculate the number of true positives and false negatives for each group\n",
    "    for i, leveli in enumerate(levels):\n",
    "        levelidata = ldavalue[groupvariable==leveli]\n",
    "        row = []\n",
    "        # see how many of the samples from this group are classified in each group\n",
    "        for j, levelj in enumerate(levels):\n",
    "            if j == 0:\n",
    "                cutoff1 = cutoffpoints[0]\n",
    "                cutoff2 = \"NA\"\n",
    "                results = (levelidata <= cutoff1).value_counts()\n",
    "            elif j == numlevels-1:\n",
    "                cutoff1 = cutoffpoints[numlevels-2]\n",
    "                cutoff2 = \"NA\"\n",
    "                results = (levelidata > cutoff1).value_counts()\n",
    "            else:\n",
    "                cutoff1 = cutoffpoints[j-1]\n",
    "                cutoff2 = cutoffpoints[j]\n",
    "                results = ((levelidata > cutoff1) & (levelidata <= cutoff2)).value_counts()\n",
    "            try:\n",
    "                trues = results[True]\n",
    "            except KeyError:\n",
    "                trues = 0\n",
    "            print(\"Number of samples of group\", leveli, \"classified as group\", levelj, \":\", trues, \"(cutoffs:\", cutoff1, \",\", cutoff2, \")\")\n",
    "            row.append(trues)\n",
    "        confusion_matrix.append(row)\n",
    "    return confusion_matrix"
   ]
  },
  {
   "cell_type": "markdown",
   "metadata": {},
   "source": [
    "For example, to calculate the accuracy for the bank data based on the allocation rule for the first discriminant function, we type:"
   ]
  },
  {
   "cell_type": "code",
   "execution_count": 93,
   "metadata": {
    "ExecuteTime": {
     "end_time": "2019-12-02T17:21:36.635278Z",
     "start_time": "2019-12-02T17:21:36.622313Z"
    }
   },
   "outputs": [
    {
     "name": "stdout",
     "output_type": "stream",
     "text": [
      "Number of samples of group 0 classified as group 0 : 3642 (cutoffs: 1 , NA )\n",
      "Number of samples of group 0 classified as group 1 : 358 (cutoffs: 1 , NA )\n",
      "Number of samples of group 1 classified as group 0 : 225 (cutoffs: 1 , NA )\n",
      "Number of samples of group 1 classified as group 1 : 296 (cutoffs: 1 , NA )\n"
     ]
    }
   ],
   "source": [
    "confusion_matrix = calcAllocationRuleAccuracy(lda_values[\"x\"].iloc[:, 0], y, [1, 2])"
   ]
  },
  {
   "cell_type": "markdown",
   "metadata": {},
   "source": [
    "This can be displayed in a *confusion matrix*:"
   ]
  },
  {
   "cell_type": "code",
   "execution_count": 94,
   "metadata": {
    "ExecuteTime": {
     "end_time": "2019-12-02T17:21:59.538562Z",
     "start_time": "2019-12-02T17:21:59.528554Z"
    }
   },
   "outputs": [
    {
     "data": {
      "text/html": [
       "<div>\n",
       "<style scoped>\n",
       "    .dataframe tbody tr th:only-of-type {\n",
       "        vertical-align: middle;\n",
       "    }\n",
       "\n",
       "    .dataframe tbody tr th {\n",
       "        vertical-align: top;\n",
       "    }\n",
       "\n",
       "    .dataframe thead th {\n",
       "        text-align: right;\n",
       "    }\n",
       "</style>\n",
       "<table border=\"1\" class=\"dataframe\">\n",
       "  <thead>\n",
       "    <tr style=\"text-align: right;\">\n",
       "      <th></th>\n",
       "      <th>Allocated to group 0</th>\n",
       "      <th>Allocated to group 1</th>\n",
       "    </tr>\n",
       "  </thead>\n",
       "  <tbody>\n",
       "    <tr>\n",
       "      <th>Is group 0</th>\n",
       "      <td>3642</td>\n",
       "      <td>358</td>\n",
       "    </tr>\n",
       "    <tr>\n",
       "      <th>Is group 1</th>\n",
       "      <td>225</td>\n",
       "      <td>296</td>\n",
       "    </tr>\n",
       "  </tbody>\n",
       "</table>\n",
       "</div>"
      ],
      "text/plain": [
       "            Allocated to group 0  Allocated to group 1\n",
       "Is group 0                  3642                   358\n",
       "Is group 1                   225                   296"
      ]
     },
     "metadata": {},
     "output_type": "display_data"
    }
   ],
   "source": [
    "def webprint_confusion_matrix(confusion_matrix, classes_names):\n",
    "    display(pd.DataFrame(confusion_matrix, index=[\"Is group \"+i for i in classes_names], columns=[\"Allocated to group \"+i for i in classes_names]))\n",
    "\n",
    "webprint_confusion_matrix(confusion_matrix, lda.classes_)"
   ]
  },
  {
   "cell_type": "markdown",
   "metadata": {},
   "source": [
    "There are 358+225=583 samples that are misclassified, out of 4521 customers. Therefore, the misclassification rate is 583/4521, or 12.89%. The misclassification rate is quite ok, and therefore the accuracy of the allocation rule appears to be relatively ok.\n",
    "\n",
    "However, this is probably an underestimate of the misclassification rate, as the allocation rule was based on this data (this is the *training set*). If we calculated the misclassification rate for a separate *test set* consisting of data other than that used to make the allocation rule, we would probably get a higher estimate of the misclassification rate."
   ]
  },
  {
   "cell_type": "markdown",
   "metadata": {},
   "source": [
    "#### The Python way\n",
    "\n",
    "Python allows to do all the above in a much faster way and providing extended automatic report capabilities by using the `sklearn.metrics` module. The above confusion matrix and reporting typical performance metrics, such as *precision*, *recall*, *f1-score* can be done in python as follows:"
   ]
  },
  {
   "cell_type": "code",
   "execution_count": 95,
   "metadata": {
    "ExecuteTime": {
     "end_time": "2019-12-02T17:59:28.324767Z",
     "start_time": "2019-12-02T17:59:28.311762Z"
    }
   },
   "outputs": [],
   "source": [
    "import sklearn.metrics as metrics\n",
    "\n",
    "def lda_classify(v, levels, cutoffpoints):\n",
    "    for level, cutoff in zip(reversed(levels), reversed(cutoffpoints)):\n",
    "        if v > cutoff: return level\n",
    "    return levels[0]\n",
    "    \n",
    "y_pred = lda_values[\"x\"].iloc[:, 0].apply(lda_classify, args=(lda.classes_, [-1.751107, 2.122505],)).values\n",
    "y_true = y"
   ]
  },
  {
   "cell_type": "code",
   "execution_count": 97,
   "metadata": {
    "ExecuteTime": {
     "end_time": "2019-12-02T18:00:12.031531Z",
     "start_time": "2019-12-02T18:00:11.900906Z"
    },
    "scrolled": true
   },
   "outputs": [
    {
     "name": "stdout",
     "output_type": "stream",
     "text": [
      "              precision    recall  f1-score   support\n",
      "\n",
      "           0       0.91      0.98      0.94      4000\n",
      "           1       0.55      0.23      0.32       521\n",
      "\n",
      "   micro avg       0.89      0.89      0.89      4521\n",
      "   macro avg       0.73      0.60      0.63      4521\n",
      "weighted avg       0.87      0.89      0.87      4521\n",
      "\n"
     ]
    },
    {
     "data": {
      "text/html": [
       "<div>\n",
       "<style scoped>\n",
       "    .dataframe tbody tr th:only-of-type {\n",
       "        vertical-align: middle;\n",
       "    }\n",
       "\n",
       "    .dataframe tbody tr th {\n",
       "        vertical-align: top;\n",
       "    }\n",
       "\n",
       "    .dataframe thead th {\n",
       "        text-align: right;\n",
       "    }\n",
       "</style>\n",
       "<table border=\"1\" class=\"dataframe\">\n",
       "  <thead>\n",
       "    <tr style=\"text-align: right;\">\n",
       "      <th></th>\n",
       "      <th>Allocated to group 0</th>\n",
       "      <th>Allocated to group 1</th>\n",
       "    </tr>\n",
       "  </thead>\n",
       "  <tbody>\n",
       "    <tr>\n",
       "      <th>Is group 0</th>\n",
       "      <td>3905</td>\n",
       "      <td>95</td>\n",
       "    </tr>\n",
       "    <tr>\n",
       "      <th>Is group 1</th>\n",
       "      <td>403</td>\n",
       "      <td>118</td>\n",
       "    </tr>\n",
       "  </tbody>\n",
       "</table>\n",
       "</div>"
      ],
      "text/plain": [
       "            Allocated to group 0  Allocated to group 1\n",
       "Is group 0                  3905                    95\n",
       "Is group 1                   403                   118"
      ]
     },
     "metadata": {},
     "output_type": "display_data"
    }
   ],
   "source": [
    "# from http://scikit-learn.org/stable/auto_examples/model_selection/plot_confusion_matrix.html#example-model-selection-plot-confusion-matrix-py\n",
    "def plot_confusion_matrix(cm, target_names, title='Confusion matrix', cmap=plt.cm.Blues):\n",
    "    plt.imshow(cm, interpolation='nearest', cmap=cmap)\n",
    "    plt.title(title)\n",
    "    plt.colorbar()\n",
    "    tick_marks = np.arange(len(target_names))\n",
    "    plt.xticks(tick_marks, target_names, rotation=45)\n",
    "    plt.yticks(tick_marks, target_names)\n",
    "    plt.tight_layout()\n",
    "    plt.ylabel('True label')\n",
    "    plt.xlabel('Predicted label')\n",
    "\n",
    "print(metrics.classification_report(y_true, y_pred))\n",
    "cm = metrics.confusion_matrix(y_true, y_pred)\n",
    "webprint_confusion_matrix(cm, lda.classes_)\n",
    "cm_normalized = cm.astype('float') / cm.sum(axis=1)[:, np.newaxis]"
   ]
  },
  {
   "cell_type": "code",
   "execution_count": 98,
   "metadata": {
    "ExecuteTime": {
     "end_time": "2019-12-02T18:00:14.358979Z",
     "start_time": "2019-12-02T18:00:14.221343Z"
    }
   },
   "outputs": [
    {
     "data": {
      "image/png": "[encoded data removed]",
      "text/plain": [
       "<Figure size 432x288 with 2 Axes>"
      ]
     },
     "metadata": {
      "needs_background": "light"
     },
     "output_type": "display_data"
    }
   ],
   "source": [
    "plot_confusion_matrix(cm_normalized, lda.classes_, title='Normalized confusion matrix')"
   ]
  }
 ],
 "metadata": {
  "kernelspec": {
   "display_name": "Python 3",
   "language": "python",
   "name": "python3"
  },
  "language_info": {
   "codemirror_mode": {
    "name": "ipython",
    "version": 3
   },
   "file_extension": ".py",
   "mimetype": "text/x-python",
   "name": "python",
   "nbconvert_exporter": "python",
   "pygments_lexer": "ipython3",
   "version": "3.6.8"
  },
  "latex_envs": {
   "LaTeX_envs_menu_present": true,
   "autoclose": false,
   "autocomplete": true,
   "bibliofile": "biblio.bib",
   "cite_by": "apalike",
   "current_citInitial": 1,
   "eqLabelWithNumbers": true,
   "eqNumInitial": 1,
   "hotkeys": {
    "equation": "Ctrl-E",
    "itemize": "Ctrl-I"
   },
   "labels_anchors": false,
   "latex_user_defs": false,
   "report_style_numbering": false,
   "user_envs_cfg": false
  },
  "toc": {
   "base_numbering": 1,
   "nav_menu": {},
   "number_sections": false,
   "sideBar": true,
   "skip_h1_title": false,
   "title_cell": "Table of Contents",
   "title_sidebar": "Contents",
   "toc_cell": false,
   "toc_position": {},
   "toc_section_display": true,
   "toc_window_display": false
  },
  "varInspector": {
   "cols": {
    "lenName": 16,
    "lenType": 16,
    "lenVar": 40
   },
   "kernels_config": {
    "python": {
     "delete_cmd_postfix": "",
     "delete_cmd_prefix": "del ",
     "library": "var_list.py",
     "varRefreshCmd": "print(var_dic_list())"
    },
    "r": {
     "delete_cmd_postfix": ") ",
     "delete_cmd_prefix": "rm(",
     "library": "var_list.r",
     "varRefreshCmd": "cat(var_dic_list()) "
    }
   },
   "types_to_exclude": [
    "module",
    "function",
    "builtin_function_or_method",
    "instance",
    "_Feature"
   ],
   "window_display": false
  }
 },
 "nbformat": 4,
 "nbformat_minor": 2
}
