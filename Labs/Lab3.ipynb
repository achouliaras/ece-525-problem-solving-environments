{
 "cells": [
  {
   "cell_type": "markdown",
   "metadata": {},
   "source": [
    "# LAB 3 - Least Squares Solutions for Overdetermined Systems\n",
    "\n",
    "Chouliaras Andreas 2143\n",
    "\n",
    "Pappas Apostolos 2109\n",
    "\n",
    "Gkountouvas Stylianos \n",
    "\n",
    "\n",
    "### Overdetermined systems\n",
    "\n",
    "When we want to solve systems of linear equations, $\\hat{y} = X\\beta$, we need as many equations as unknowns. When\n",
    "the number of unknowns is equal to the number of equations there may exist a single \\textbf{unique} solution. In the\n",
    "case where there are more unknowns than equations we say that the system is \\textbf{underdetermined} since we\n",
    "have no way to uniquely solve for every unknown. A more common case is when there are more equations than unknowns, in this case the system is \\textbf{overdetermined} and we have many possible solutions, but no single unique one.   \n",
    "\n",
    "We need to find solutions that are characterized as satisfactory. Thus, the concept of error(also named cost) is introduced. A satisfactory solytion is the one that minimizes the error defined as:\n",
    "\n",
    "$$\\epsilon = X\\beta - y \\Rightarrow$$\n",
    "\n",
    "$$\\epsilon = \\hat{y} - y$$\n",
    "\n",
    "\n",
    "The following dataset is a good example of what an overdetermined system is."
   ]
  },
  {
   "cell_type": "code",
   "execution_count": 32,
   "metadata": {},
   "outputs": [
    {
     "data": {
      "text/html": [
       "<table>\n",
       "<thead><tr><th scope=col>read</th><th scope=col>write</th><th scope=col>science</th><th scope=col>math</th><th scope=col>socst</th></tr></thead>\n",
       "<tbody>\n",
       "\t<tr><td>63</td><td>57</td><td>58</td><td>55</td><td>41</td></tr>\n",
       "\t<tr><td>55</td><td>39</td><td>53</td><td>57</td><td>46</td></tr>\n",
       "\t<tr><td>60</td><td>62</td><td>50</td><td>67</td><td>56</td></tr>\n",
       "\t<tr><td>73</td><td>67</td><td>58</td><td>62</td><td>66</td></tr>\n",
       "\t<tr><td>37</td><td>44</td><td>39</td><td>45</td><td>46</td></tr>\n",
       "\t<tr><td>68</td><td>60</td><td>69</td><td>64</td><td>66</td></tr>\n",
       "\t<tr><td>76</td><td>63</td><td>67</td><td>60</td><td>66</td></tr>\n",
       "\t<tr><td>66</td><td>67</td><td>61</td><td>67</td><td>66</td></tr>\n",
       "\t<tr><td>63</td><td>57</td><td>58</td><td>54</td><td>51</td></tr>\n",
       "\t<tr><td>60</td><td>46</td><td>53</td><td>51</td><td>61</td></tr>\n",
       "\t<tr><td>52</td><td>49</td><td>44</td><td>49</td><td>61</td></tr>\n",
       "\t<tr><td>50</td><td>41</td><td>44</td><td>45</td><td>56</td></tr>\n",
       "\t<tr><td>36</td><td>57</td><td>50</td><td>42</td><td>41</td></tr>\n",
       "\t<tr><td>57</td><td>52</td><td>61</td><td>40</td><td>56</td></tr>\n",
       "\t<tr><td>50</td><td>49</td><td>47</td><td>56</td><td>46</td></tr>\n",
       "\t<tr><td>42</td><td>49</td><td>50</td><td>43</td><td>56</td></tr>\n",
       "\t<tr><td>73</td><td>62</td><td>69</td><td>73</td><td>66</td></tr>\n",
       "\t<tr><td>47</td><td>62</td><td>53</td><td>53</td><td>61</td></tr>\n",
       "\t<tr><td>68</td><td>65</td><td>55</td><td>62</td><td>61</td></tr>\n",
       "\t<tr><td>50</td><td>52</td><td>39</td><td>53</td><td>56</td></tr>\n",
       "</tbody>\n",
       "</table>\n"
      ],
      "text/latex": [
       "\\begin{tabular}{r|lllll}\n",
       " read & write & science & math & socst\\\\\n",
       "\\hline\n",
       "\t 63 & 57 & 58 & 55 & 41\\\\\n",
       "\t 55 & 39 & 53 & 57 & 46\\\\\n",
       "\t 60 & 62 & 50 & 67 & 56\\\\\n",
       "\t 73 & 67 & 58 & 62 & 66\\\\\n",
       "\t 37 & 44 & 39 & 45 & 46\\\\\n",
       "\t 68 & 60 & 69 & 64 & 66\\\\\n",
       "\t 76 & 63 & 67 & 60 & 66\\\\\n",
       "\t 66 & 67 & 61 & 67 & 66\\\\\n",
       "\t 63 & 57 & 58 & 54 & 51\\\\\n",
       "\t 60 & 46 & 53 & 51 & 61\\\\\n",
       "\t 52 & 49 & 44 & 49 & 61\\\\\n",
       "\t 50 & 41 & 44 & 45 & 56\\\\\n",
       "\t 36 & 57 & 50 & 42 & 41\\\\\n",
       "\t 57 & 52 & 61 & 40 & 56\\\\\n",
       "\t 50 & 49 & 47 & 56 & 46\\\\\n",
       "\t 42 & 49 & 50 & 43 & 56\\\\\n",
       "\t 73 & 62 & 69 & 73 & 66\\\\\n",
       "\t 47 & 62 & 53 & 53 & 61\\\\\n",
       "\t 68 & 65 & 55 & 62 & 61\\\\\n",
       "\t 50 & 52 & 39 & 53 & 56\\\\\n",
       "\\end{tabular}\n"
      ],
      "text/markdown": [
       "\n",
       "| read | write | science | math | socst |\n",
       "|---|---|---|---|---|\n",
       "| 63 | 57 | 58 | 55 | 41 |\n",
       "| 55 | 39 | 53 | 57 | 46 |\n",
       "| 60 | 62 | 50 | 67 | 56 |\n",
       "| 73 | 67 | 58 | 62 | 66 |\n",
       "| 37 | 44 | 39 | 45 | 46 |\n",
       "| 68 | 60 | 69 | 64 | 66 |\n",
       "| 76 | 63 | 67 | 60 | 66 |\n",
       "| 66 | 67 | 61 | 67 | 66 |\n",
       "| 63 | 57 | 58 | 54 | 51 |\n",
       "| 60 | 46 | 53 | 51 | 61 |\n",
       "| 52 | 49 | 44 | 49 | 61 |\n",
       "| 50 | 41 | 44 | 45 | 56 |\n",
       "| 36 | 57 | 50 | 42 | 41 |\n",
       "| 57 | 52 | 61 | 40 | 56 |\n",
       "| 50 | 49 | 47 | 56 | 46 |\n",
       "| 42 | 49 | 50 | 43 | 56 |\n",
       "| 73 | 62 | 69 | 73 | 66 |\n",
       "| 47 | 62 | 53 | 53 | 61 |\n",
       "| 68 | 65 | 55 | 62 | 61 |\n",
       "| 50 | 52 | 39 | 53 | 56 |\n",
       "\n"
      ],
      "text/plain": [
       "   read write science math socst\n",
       "1  63   57    58      55   41   \n",
       "2  55   39    53      57   46   \n",
       "3  60   62    50      67   56   \n",
       "4  73   67    58      62   66   \n",
       "5  37   44    39      45   46   \n",
       "6  68   60    69      64   66   \n",
       "7  76   63    67      60   66   \n",
       "8  66   67    61      67   66   \n",
       "9  63   57    58      54   51   \n",
       "10 60   46    53      51   61   \n",
       "11 52   49    44      49   61   \n",
       "12 50   41    44      45   56   \n",
       "13 36   57    50      42   41   \n",
       "14 57   52    61      40   56   \n",
       "15 50   49    47      56   46   \n",
       "16 42   49    50      43   56   \n",
       "17 73   62    69      73   66   \n",
       "18 47   62    53      53   61   \n",
       "19 68   65    55      62   61   \n",
       "20 50   52    39      53   56   "
      ]
     },
     "metadata": {},
     "output_type": "display_data"
    }
   ],
   "source": [
    "#install.packages(\"knitr\")\n",
    "library(knitr)\n",
    "\n",
    "mls = data.frame( read = c(63,55,60,73,37,68,76,66,63,60,\n",
    "52,50,36,57,50,42,73,47,68,50),\n",
    "write = c(57,39,62,67,44,60,63,67,57,46,\n",
    "49,41,57,52,49,49,62,62,65,52),\n",
    "science = c(58,53,50,58,39,69,67,61,58,53,\n",
    "44,44,50,61,47,50,69,53,55,39),\n",
    "math = c(55,57,67,62,45,64,60,67,54,51,49,\n",
    "45,42,40,56,43,73,53,62,53),\n",
    "socst = c(41,46,56,66,46,66,66,66,51,61,\n",
    "61,56,41,56,46,56,66,61,61,56))\n",
    "\n",
    "mls"
   ]
  },
  {
   "cell_type": "markdown",
   "metadata": {},
   "source": [
    "We will try to approach the data above using several techniques. \n",
    "\n",
    "### The linear model\n",
    "\n",
    "The first model that we will use is the simple linear model as presented below:\n",
    "\n",
    "$$Sci_i = \\beta_0 + \\beta_1Read_i + \\beta_2Math_i + \\epsilon_i$$\n",
    "\n",
    "With R's lm() function we can estimate the above model. We also construct the appropriate $x$ and $y$ matrices that will be used next."
   ]
  },
  {
   "cell_type": "code",
   "execution_count": 33,
   "metadata": {},
   "outputs": [],
   "source": [
    "# prepare the data\n",
    "y =mls$science\n",
    "x = cbind('(Intercept)'=1,mls[,c('read','math')])\n",
    "x = as.matrix(x)"
   ]
  },
  {
   "cell_type": "code",
   "execution_count": 34,
   "metadata": {},
   "outputs": [
    {
     "data": {
      "text/html": [
       "<dl class=dl-horizontal>\n",
       "\t<dt>(Intercept)</dt>\n",
       "\t\t<dd>21.8895611738707</dd>\n",
       "\t<dt>read</dt>\n",
       "\t\t<dd>0.646552532038838</dd>\n",
       "\t<dt>math</dt>\n",
       "\t\t<dd>-0.0917490211237902</dd>\n",
       "</dl>\n"
      ],
      "text/latex": [
       "\\begin{description*}\n",
       "\\item[(Intercept)] 21.8895611738707\n",
       "\\item[read] 0.646552532038838\n",
       "\\item[math] -0.0917490211237902\n",
       "\\end{description*}\n"
      ],
      "text/markdown": [
       "(Intercept)\n",
       ":   21.8895611738707read\n",
       ":   0.646552532038838math\n",
       ":   -0.0917490211237902\n",
       "\n"
      ],
      "text/plain": [
       "(Intercept)        read        math \n",
       "21.88956117  0.64655253 -0.09174902 "
      ]
     },
     "metadata": {},
     "output_type": "display_data"
    }
   ],
   "source": [
    "# from R\n",
    "coef(lm(science~read+math,mls))->lma\n",
    "lma"
   ]
  },
  {
   "cell_type": "markdown",
   "metadata": {},
   "source": [
    "Thus, the simple linear model is:\n",
    "\n",
    "$$Sci_i = 21.89 + 0.65Read_i - 0.091Math_i + \\epsilon_i$$\n",
    "\n",
    "### Direct Matrix Inversion\n",
    "\n",
    "Another way is to use the so-called normal equations where:\n",
    "\n",
    "$$X\\beta = y \\Rightarrow$$\n",
    "\n",
    "$$[X^TX]\\beta = X^Ty \\Rightarrow$$\n",
    "\n",
    "$$\\beta = [X^TX]^{-1}X^Ty$$"
   ]
  },
  {
   "cell_type": "code",
   "execution_count": 35,
   "metadata": {},
   "outputs": [
    {
     "data": {
      "text/html": [
       "<table>\n",
       "<tbody>\n",
       "\t<tr><th scope=row>(Intercept)</th><td>21.88956117</td></tr>\n",
       "\t<tr><th scope=row>read</th><td> 0.64655253</td></tr>\n",
       "\t<tr><th scope=row>math</th><td>-0.09174902</td></tr>\n",
       "</tbody>\n",
       "</table>\n"
      ],
      "text/latex": [
       "\\begin{tabular}{r|l}\n",
       "\t(Intercept) & 21.88956117\\\\\n",
       "\tread &  0.64655253\\\\\n",
       "\tmath & -0.09174902\\\\\n",
       "\\end{tabular}\n"
      ],
      "text/markdown": [
       "\n",
       "| (Intercept) | 21.88956117 |\n",
       "| read |  0.64655253 |\n",
       "| math | -0.09174902 |\n",
       "\n"
      ],
      "text/plain": [
       "            [,1]       \n",
       "(Intercept) 21.88956117\n",
       "read         0.64655253\n",
       "math        -0.09174902"
      ]
     },
     "metadata": {},
     "output_type": "display_data"
    }
   ],
   "source": [
    "# the solve() function performs the matrix inversion\n",
    "solve( t(x) %*%x ) %*% t(x) %*%y ->ols\n",
    "ols"
   ]
  },
  {
   "cell_type": "markdown",
   "metadata": {},
   "source": [
    "This produces the same estimates which is nice to see. However, inverting a matrix can be diﬃcult, time\n",
    "consuming, and overall computationally intensive. Below are other methods that break down the solution\n",
    "into more manageable parts. Speciﬁcally, instead of inverting the full matrix $X^TX$, it can be broken down or\n",
    "factorized in some way to make the inversion process much less computationally intensive.\n",
    "\n",
    "### QR method\n",
    "\n",
    "The QR decomposition, or factorization, takes a matrix A and produces two additional matrices Q and R\n",
    "that represent an orthogonal matrix and a triangular matrix respectively. The form of the decomposition is\n",
    "\n",
    "$$A = QR$$\n",
    "\n",
    "Since $Q$ is orthogonal, $Q^TQ = I$. Also, R is triangular, thus easier to invert.\n",
    "In the next block of code, we construct the appropriate Q and R matrices."
   ]
  },
  {
   "cell_type": "code",
   "execution_count": 36,
   "metadata": {},
   "outputs": [
    {
     "data": {
      "text/plain": [
       "\n",
       "\n",
       "| V1| V2| V3|\n",
       "|--:|--:|--:|\n",
       "|  1|  0|  0|\n",
       "|  0|  1|  0|\n",
       "|  0|  0|  1|"
      ]
     },
     "metadata": {},
     "output_type": "display_data"
    }
   ],
   "source": [
    "# QR decomposition to solve\n",
    "qr.Q(qr(x)) ->Q\n",
    "qr.R(qr(x)) ->R\n",
    "# Make sure Q is orthogonal\n",
    "kable(as.data.frame( t(Q) %*%Q ))"
   ]
  },
  {
   "cell_type": "code",
   "execution_count": 37,
   "metadata": {},
   "outputs": [
    {
     "data": {
      "text/html": [
       "<table>\n",
       "<thead><tr><th scope=col>(Intercept)</th><th scope=col>read</th><th scope=col>math</th></tr></thead>\n",
       "<tbody>\n",
       "\t<tr><td>-4.472136 </td><td>-256.25339</td><td>-245.52026</td></tr>\n",
       "\t<tr><td> 0.000000 </td><td>  51.24646</td><td>  30.70651</td></tr>\n",
       "\t<tr><td> 0.000000 </td><td>   0.00000</td><td> -26.01750</td></tr>\n",
       "</tbody>\n",
       "</table>\n"
      ],
      "text/latex": [
       "\\begin{tabular}{lll}\n",
       " (Intercept) & read & math\\\\\n",
       "\\hline\n",
       "\t -4.472136  & -256.25339 & -245.52026\\\\\n",
       "\t  0.000000  &   51.24646 &   30.70651\\\\\n",
       "\t  0.000000  &    0.00000 &  -26.01750\\\\\n",
       "\\end{tabular}\n"
      ],
      "text/markdown": [
       "\n",
       "| (Intercept) | read | math |\n",
       "|---|---|---|\n",
       "| -4.472136  | -256.25339 | -245.52026 |\n",
       "|  0.000000  |   51.24646 |   30.70651 |\n",
       "|  0.000000  |    0.00000 |  -26.01750 |\n",
       "\n"
      ],
      "text/plain": [
       "     (Intercept) read       math      \n",
       "[1,] -4.472136   -256.25339 -245.52026\n",
       "[2,]  0.000000     51.24646   30.70651\n",
       "[3,]  0.000000      0.00000  -26.01750"
      ]
     },
     "metadata": {},
     "output_type": "display_data"
    }
   ],
   "source": [
    "# What is in R\n",
    "R"
   ]
  },
  {
   "cell_type": "markdown",
   "metadata": {},
   "source": [
    "Now that we've got $X$ decomposed, we can solve the system as follows:\n",
    "\n",
    "$$X\\beta = y \\Rightarrow$$\n",
    "\n",
    "$$QR\\beta = y \\Rightarrow$$\n",
    "\n",
    "$$Q^TQR\\beta = Q^Ty \\Rightarrow$$\n",
    "\n",
    "$$R\\beta = Q^Ty \\Rightarrow$$\n",
    "\n",
    "$$\\beta = R^{-1}Q^Ty$$\n",
    "\n",
    "That is implemented below. "
   ]
  },
  {
   "cell_type": "code",
   "execution_count": 38,
   "metadata": {},
   "outputs": [
    {
     "data": {
      "text/html": [
       "<table>\n",
       "<tbody>\n",
       "\t<tr><th scope=row>(Intercept)</th><td>21.88956117</td></tr>\n",
       "\t<tr><th scope=row>read</th><td> 0.64655253</td></tr>\n",
       "\t<tr><th scope=row>math</th><td>-0.09174902</td></tr>\n",
       "</tbody>\n",
       "</table>\n"
      ],
      "text/latex": [
       "\\begin{tabular}{r|l}\n",
       "\t(Intercept) & 21.88956117\\\\\n",
       "\tread &  0.64655253\\\\\n",
       "\tmath & -0.09174902\\\\\n",
       "\\end{tabular}\n"
      ],
      "text/markdown": [
       "\n",
       "| (Intercept) | 21.88956117 |\n",
       "| read |  0.64655253 |\n",
       "| math | -0.09174902 |\n",
       "\n"
      ],
      "text/plain": [
       "            [,1]       \n",
       "(Intercept) 21.88956117\n",
       "read         0.64655253\n",
       "math        -0.09174902"
      ]
     },
     "metadata": {},
     "output_type": "display_data"
    }
   ],
   "source": [
    "# Using QR (Spoiler Alert: this is what the lm() function does on the backend)\n",
    "solve(R) %*% t(Q) %*%y ->qrs\n",
    "qrs"
   ]
  },
  {
   "cell_type": "markdown",
   "metadata": {},
   "source": [
    "### Cholesky method\n",
    "\n",
    "The **Cholesky** decomposition or Cholesky factorization is a decomposition of a Hermitian$(A^TA)$, positive-definite matrix into the product of a lower triangular matrix and its conjugate transpose. The Cholesky decomposition is roughly twice as efficient as the LU decomposition for solving systems of linear equations.\n",
    "\n",
    "The Cholesky decomposition of a Hermitian positive-definite matrix A is a decomposition of the form $A = R^TR$, where R is a lower triangular matrix with real and positive diagonal entries, and LT denotes the conjugate transpose of L. Every Hermitian positive-definite matrix (and thus also every real-valued symmetric positive-definite matrix) has a unique Cholesky decomposition."
   ]
  },
  {
   "cell_type": "code",
   "execution_count": 39,
   "metadata": {},
   "outputs": [
    {
     "data": {
      "text/html": [
       "<table>\n",
       "<tbody>\n",
       "\t<tr><th scope=row>(Intercept)</th><td>21.88956117</td></tr>\n",
       "\t<tr><th scope=row>read</th><td> 0.64655253</td></tr>\n",
       "\t<tr><th scope=row>math</th><td>-0.09174902</td></tr>\n",
       "</tbody>\n",
       "</table>\n"
      ],
      "text/latex": [
       "\\begin{tabular}{r|l}\n",
       "\t(Intercept) & 21.88956117\\\\\n",
       "\tread &  0.64655253\\\\\n",
       "\tmath & -0.09174902\\\\\n",
       "\\end{tabular}\n"
      ],
      "text/markdown": [
       "\n",
       "| (Intercept) | 21.88956117 |\n",
       "| read |  0.64655253 |\n",
       "| math | -0.09174902 |\n",
       "\n"
      ],
      "text/plain": [
       "            [,1]       \n",
       "(Intercept) 21.88956117\n",
       "read         0.64655253\n",
       "math        -0.09174902"
      ]
     },
     "metadata": {},
     "output_type": "display_data"
    }
   ],
   "source": [
    "# Cholesky\n",
    "cv = t(x) %*%x\n",
    "u = chol(cv)\n",
    "uinv = solve(u)\n",
    "uinv %*% t(uinv) %*% t(x) %*%y ->chs\n",
    "chs"
   ]
  },
  {
   "cell_type": "markdown",
   "metadata": {},
   "source": [
    "### Singular Value Decomposition\n",
    "\n",
    "This decomposition breaks down our matrix A into three new matrices U, D, and V , such that $A = UDV^T$.\n",
    "In this case both U and V are orthogonal and D is a diagonal matrix containing the singular values such\n",
    "that D = $U^TAV$.\n",
    "\n",
    "The fact that D is diagonal makes this a much easier problem since the inverse of a diagonal matrix is equal\n",
    "to a matrix with each diagonal element inverted (only for non-zero elements of course!)\n",
    "As a quick example"
   ]
  },
  {
   "cell_type": "code",
   "execution_count": 40,
   "metadata": {},
   "outputs": [
    {
     "data": {
      "text/html": [
       "<table>\n",
       "<tbody>\n",
       "\t<tr><td>2</td><td>0</td><td>0</td></tr>\n",
       "\t<tr><td>0</td><td>4</td><td>0</td></tr>\n",
       "\t<tr><td>0</td><td>0</td><td>5</td></tr>\n",
       "</tbody>\n",
       "</table>\n"
      ],
      "text/latex": [
       "\\begin{tabular}{lll}\n",
       "\t 2 & 0 & 0\\\\\n",
       "\t 0 & 4 & 0\\\\\n",
       "\t 0 & 0 & 5\\\\\n",
       "\\end{tabular}\n"
      ],
      "text/markdown": [
       "\n",
       "| 2 | 0 | 0 |\n",
       "| 0 | 4 | 0 |\n",
       "| 0 | 0 | 5 |\n",
       "\n"
      ],
      "text/plain": [
       "     [,1] [,2] [,3]\n",
       "[1,] 2    0    0   \n",
       "[2,] 0    4    0   \n",
       "[3,] 0    0    5   "
      ]
     },
     "metadata": {},
     "output_type": "display_data"
    }
   ],
   "source": [
    "A = diag(c(2,4,5))\n",
    "A"
   ]
  },
  {
   "cell_type": "code",
   "execution_count": 41,
   "metadata": {},
   "outputs": [
    {
     "data": {
      "text/html": [
       "<table>\n",
       "<tbody>\n",
       "\t<tr><td>0.5 </td><td>0.00</td><td>0.0 </td></tr>\n",
       "\t<tr><td>0.0 </td><td>0.25</td><td>0.0 </td></tr>\n",
       "\t<tr><td>0.0 </td><td>0.00</td><td>0.2 </td></tr>\n",
       "</tbody>\n",
       "</table>\n"
      ],
      "text/latex": [
       "\\begin{tabular}{lll}\n",
       "\t 0.5  & 0.00 & 0.0 \\\\\n",
       "\t 0.0  & 0.25 & 0.0 \\\\\n",
       "\t 0.0  & 0.00 & 0.2 \\\\\n",
       "\\end{tabular}\n"
      ],
      "text/markdown": [
       "\n",
       "| 0.5  | 0.00 | 0.0  |\n",
       "| 0.0  | 0.25 | 0.0  |\n",
       "| 0.0  | 0.00 | 0.2  |\n",
       "\n"
      ],
      "text/plain": [
       "     [,1] [,2] [,3]\n",
       "[1,] 0.5  0.00 0.0 \n",
       "[2,] 0.0  0.25 0.0 \n",
       "[3,] 0.0  0.00 0.2 "
      ]
     },
     "metadata": {},
     "output_type": "display_data"
    }
   ],
   "source": [
    "solve(A)"
   ]
  },
  {
   "cell_type": "markdown",
   "metadata": {},
   "source": [
    "To solve the system, we do:\n",
    "\n",
    "$$X\\beta = y \\Rightarrow$$\n",
    "\n",
    "$$UDV^T\\beta = y \\Rightarrow$$\n",
    "\n",
    "$$U^TUDV^T\\beta = U^Ty \\Rightarrow$$\n",
    "\n",
    "$$DV^T\\beta = U^Ty \\Rightarrow$$\n",
    "\n",
    "$$D^{-1}DV^T\\beta = D^{-1}U^Ty \\Rightarrow$$\n",
    "\n",
    "$$V^T\\beta = D^{-1}U^Ty \\Rightarrow$$\n",
    "\n",
    "$$VV^T\\beta = VD^{-1}U^Ty \\Rightarrow$$\n",
    "\n",
    "$$\\beta = VD^{-1}U^Ty$$\n",
    "\n",
    "What follows is the implementation of the algorithnm above."
   ]
  },
  {
   "cell_type": "code",
   "execution_count": 42,
   "metadata": {},
   "outputs": [
    {
     "data": {
      "text/html": [
       "<table>\n",
       "<tbody>\n",
       "\t<tr><td>21.88956117</td></tr>\n",
       "\t<tr><td> 0.64655253</td></tr>\n",
       "\t<tr><td>-0.09174902</td></tr>\n",
       "</tbody>\n",
       "</table>\n"
      ],
      "text/latex": [
       "\\begin{tabular}{l}\n",
       "\t 21.88956117\\\\\n",
       "\t  0.64655253\\\\\n",
       "\t -0.09174902\\\\\n",
       "\\end{tabular}\n"
      ],
      "text/markdown": [
       "\n",
       "| 21.88956117 |\n",
       "|  0.64655253 |\n",
       "| -0.09174902 |\n",
       "\n"
      ],
      "text/plain": [
       "     [,1]       \n",
       "[1,] 21.88956117\n",
       "[2,]  0.64655253\n",
       "[3,] -0.09174902"
      ]
     },
     "metadata": {},
     "output_type": "display_data"
    }
   ],
   "source": [
    "# Singular Value Decomposition\n",
    "dcomp = svd(x)\n",
    "V =dcomp$v\n",
    "# orthogonal eigenvectors\n",
    "D = diag(dcomp$d) # diagonal singular values\n",
    "U =dcomp$u\n",
    "# orthogonal\n",
    "V %*% solve(D) %*% t(U) %*%y ->svs\n",
    "svs"
   ]
  },
  {
   "cell_type": "markdown",
   "metadata": {},
   "source": [
    "### How do they compare?"
   ]
  },
  {
   "cell_type": "code",
   "execution_count": 43,
   "metadata": {},
   "outputs": [
    {
     "data": {
      "text/plain": [
       "\n",
       "\n",
       "|            |        R|      OLS|       QR| Cholesky|      SVD|\n",
       "|:-----------|--------:|--------:|--------:|--------:|--------:|\n",
       "|(Intercept) | 21.88956| 21.88956| 21.88956| 21.88956| 21.88956|\n",
       "|read        |  0.64655|  0.64655|  0.64655|  0.64655|  0.64655|\n",
       "|math        | -0.09175| -0.09175| -0.09175| -0.09175| -0.09175|"
      ]
     },
     "metadata": {},
     "output_type": "display_data"
    }
   ],
   "source": [
    "results = data.frame('R'=lma, 'OLS'=ols, 'QR'=qrs, 'Cholesky'=chs, 'SVD'=svs)\n",
    "kable(results,digits=5)"
   ]
  },
  {
   "cell_type": "markdown",
   "metadata": {},
   "source": [
    "We see that the estimates are exactly the same. It is somehow expected since we actually solved the same problem/system, using several different approaches.\n",
    "\n",
    "### Interaction eﬀect estimates?\n",
    "\n",
    "Here we include an interaction eﬀect between math and read, thus our model becomes,\n",
    "\n",
    "$$Sci_i = \\beta_0 + \\beta_1Read_i + \\beta_2Math_i + \\beta_3(Math_i\\times Read_i) + \\epsilon_i$$"
   ]
  },
  {
   "cell_type": "code",
   "execution_count": 44,
   "metadata": {},
   "outputs": [],
   "source": [
    "# interactions?\n",
    "x = cbind(x,'intrxn'=mls$read*mls$math)\n",
    "x = as.matrix(x)\n",
    "# from R\n",
    "lm0 = lm(science~read*math,mls)\n",
    "lm0$coef ->beta1\n",
    "# Traditional Least squares\n",
    "solve( t(x) %*%x ) %*% t(x) %*%y ->beta2\n",
    "# QR decomposition to solve\n",
    "qr.Q(qr(x)) ->Q\n",
    "qr.R(qr(x)) ->R\n",
    "solve(R) %*% t(Q) %*%y ->beta3\n",
    "# Cholesky\n",
    "cv = t(x) %*%x\n",
    "u = chol(cv)\n",
    "uinv = solve(u)\n",
    "uinv %*% t(uinv) %*% t(x) %*%y ->beta4\n",
    "# Singular Value Decomposition\n",
    "dcomp = svd(x)\n",
    "V =dcomp$v\n",
    "# orthogonal eigenvectors\n",
    "D = diag(dcomp$d) # diagonal singular values\n",
    "U =dcomp$u\n",
    "# orthogonal\n",
    "V %*% solve(D) %*% t(U) %*%y ->beta5"
   ]
  },
  {
   "cell_type": "markdown",
   "metadata": {},
   "source": [
    "### How do they compare?"
   ]
  },
  {
   "cell_type": "code",
   "execution_count": 45,
   "metadata": {},
   "outputs": [
    {
     "data": {
      "text/plain": [
       "\n",
       "\n",
       "|            |         R|       OLS|        QR|  Cholesky|       SVD|\n",
       "|:-----------|---------:|---------:|---------:|---------:|---------:|\n",
       "|(Intercept) | 107.29380| 107.29380| 107.29380| 107.29380| 107.29380|\n",
       "|read        |  -0.78323|  -0.78323|  -0.78323|  -0.78323|  -0.78323|\n",
       "|math        |  -1.78291|  -1.78291|  -1.78291|  -1.78291|  -1.78291|\n",
       "|read:math   |   0.02772|   0.02772|   0.02772|   0.02772|   0.02772|"
      ]
     },
     "metadata": {},
     "output_type": "display_data"
    }
   ],
   "source": [
    "res = data.frame('R'=beta1, 'OLS'=beta2, 'QR'=beta3, 'Cholesky'=beta4, 'SVD'=beta5)\n",
    "kable(res,digits=5)"
   ]
  },
  {
   "cell_type": "markdown",
   "metadata": {},
   "source": [
    "### Standard errors of estimates\n",
    "\n",
    "We can also use aspects of these matrix methods for model assessment as well. In\n",
    "particular we may be interested in computing \\textbf{standard errors} of the parameters as well as of the estimates.\n",
    "Looking for standard errors of estimates for QR decomposition it will be helpful to know that errors are\n",
    "deﬁned as:\n",
    "\n",
    "$$\\epsilon = (y - QQ^Ty),$$\n",
    "\n",
    "$$MSE = \\frac{1}{n-p}\\epsilon^T\\epsilon,$$\n",
    "\n",
    "$$SE_{\\beta} = \\sqrt{\\frac{MSE}{SS_x}},$$\n",
    "\n",
    "which in the case of QR factorization becomes,\n",
    "\n",
    "$$SE_{\\beta} = \\sqrt{\\frac{MSE}{R^TR}}$$\n",
    "\n",
    "\n"
   ]
  },
  {
   "cell_type": "code",
   "execution_count": 46,
   "metadata": {},
   "outputs": [
    {
     "name": "stderr",
     "output_type": "stream",
     "text": [
      "Warning message in MSE * diag(solve(t(R) %*% R)):\n",
      "\"Recycling array of length 1 in array-vector arithmetic is deprecated.\n",
      "  Use c() or as.vector() instead.\n",
      "\""
     ]
    },
    {
     "data": {
      "text/plain": [
       "\n",
       "\n",
       "|            |       Est|  Std.Err|  t.val|\n",
       "|:-----------|---------:|--------:|------:|\n",
       "|(Intercept) | 107.29380| 44.13585|  2.431|\n",
       "|read        |  -0.78323|  0.74634| -1.049|\n",
       "|math        |  -1.78291|  0.88619| -2.012|\n",
       "|intrxn      |   0.02772|  0.01411|  1.964|"
      ]
     },
     "metadata": {},
     "output_type": "display_data"
    }
   ],
   "source": [
    "n = nrow(x)\n",
    "p = ncol(x)\n",
    "# e = (I - QQ')y\n",
    "( diag(20) -Q %*% t(Q) ) %*%y ->err3\n",
    "# MSE = 1/n-p (e'e)\n",
    "MSE =1/(n-p) * t(err3) %*%err3\n",
    "# SEb = (MSE/SSx)^.5\n",
    "SEb = sqrt( MSE * diag( solve( t(R) %*%R ) ) )\n",
    "kable(data.frame('Est' =beta3,'Std.Err'=SEb, 't val'=beta3/SEb),digits=c(5,5,3))"
   ]
  },
  {
   "cell_type": "code",
   "execution_count": 47,
   "metadata": {},
   "outputs": [
    {
     "data": {
      "text/html": [
       "<table>\n",
       "<tbody>\n",
       "\t<tr><td>5.455545</td></tr>\n",
       "</tbody>\n",
       "</table>\n"
      ],
      "text/latex": [
       "\\begin{tabular}{l}\n",
       "\t 5.455545\\\\\n",
       "\\end{tabular}\n"
      ],
      "text/markdown": [
       "\n",
       "| 5.455545 |\n",
       "\n"
      ],
      "text/plain": [
       "     [,1]    \n",
       "[1,] 5.455545"
      ]
     },
     "metadata": {},
     "output_type": "display_data"
    }
   ],
   "source": [
    "sqrt(MSE)"
   ]
  },
  {
   "cell_type": "code",
   "execution_count": 48,
   "metadata": {},
   "outputs": [
    {
     "data": {
      "text/plain": [
       "\n",
       "Call:\n",
       "lm(formula = science ~ read * math, data = mls)\n",
       "\n",
       "Residuals:\n",
       "   Min     1Q Median     3Q    Max \n",
       "-8.084 -5.258  1.223  2.603  8.454 \n",
       "\n",
       "Coefficients:\n",
       "             Estimate Std. Error t value Pr(>|t|)  \n",
       "(Intercept) 107.29380   44.13585   2.431   0.0272 *\n",
       "read         -0.78323    0.74634  -1.049   0.3096  \n",
       "math         -1.78291    0.88619  -2.012   0.0614 .\n",
       "read:math     0.02772    0.01411   1.964   0.0671 .\n",
       "---\n",
       "Signif. codes:  0 '***' 0.001 '**' 0.01 '*' 0.05 '.' 0.1 ' ' 1\n",
       "\n",
       "Residual standard error: 5.456 on 16 degrees of freedom\n",
       "Multiple R-squared:  0.6858,\tAdjusted R-squared:  0.6269 \n",
       "F-statistic: 11.64 on 3 and 16 DF,  p-value: 0.0002689\n"
      ]
     },
     "metadata": {},
     "output_type": "display_data"
    }
   ],
   "source": [
    "summary(lm0)"
   ]
  }
 ],
 "metadata": {
  "kernelspec": {
   "display_name": "R",
   "language": "R",
   "name": "ir"
  },
  "language_info": {
   "codemirror_mode": "r",
   "file_extension": ".r",
   "mimetype": "text/x-r-source",
   "name": "R",
   "pygments_lexer": "r",
   "version": "3.5.1"
  },
  "latex_envs": {
   "LaTeX_envs_menu_present": true,
   "autoclose": false,
   "autocomplete": true,
   "bibliofile": "biblio.bib",
   "cite_by": "apalike",
   "current_citInitial": 1,
   "eqLabelWithNumbers": true,
   "eqNumInitial": 1,
   "hotkeys": {
    "equation": "Ctrl-E",
    "itemize": "Ctrl-I"
   },
   "labels_anchors": false,
   "latex_user_defs": false,
   "report_style_numbering": false,
   "user_envs_cfg": false
  },
  "toc": {
   "base_numbering": 1,
   "nav_menu": {},
   "number_sections": true,
   "sideBar": true,
   "skip_h1_title": false,
   "title_cell": "Table of Contents",
   "title_sidebar": "Contents",
   "toc_cell": false,
   "toc_position": {},
   "toc_section_display": true,
   "toc_window_display": false
  },
  "varInspector": {
   "cols": {
    "lenName": 16,
    "lenType": 16,
    "lenVar": 40
   },
   "kernels_config": {
    "python": {
     "delete_cmd_postfix": "",
     "delete_cmd_prefix": "del ",
     "library": "var_list.py",
     "varRefreshCmd": "print(var_dic_list())"
    },
    "r": {
     "delete_cmd_postfix": ") ",
     "delete_cmd_prefix": "rm(",
     "library": "var_list.r",
     "varRefreshCmd": "cat(var_dic_list()) "
    }
   },
   "types_to_exclude": [
    "module",
    "function",
    "builtin_function_or_method",
    "instance",
    "_Feature"
   ],
   "window_display": false
  }
 },
 "nbformat": 4,
 "nbformat_minor": 2
}
