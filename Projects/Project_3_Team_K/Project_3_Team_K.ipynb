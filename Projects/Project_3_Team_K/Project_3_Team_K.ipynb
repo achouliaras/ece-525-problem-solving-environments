{
 "cells": [
  {
   "cell_type": "markdown",
   "metadata": {},
   "source": [
    "# Project 3 - Introduction to Probability - Statistics - Regression - Exercises\n",
    "\n",
    " Chouliaras Andreas 2143\n",
    " \n",
    " Pappas Apostolos 2109\n",
    " \n",
    " Gkountouvas Stylianos 1973"
   ]
  },
  {
   "cell_type": "markdown",
   "metadata": {},
   "source": [
    "__1. How should you report the performance as a single number?__<br>\n",
    "We would report the performance of the computer system using mean, median or mode.\n",
    "\n",
    "__2. Is specifying the mean the correct way to summarize a sequence of measurements?__<br>\n",
    "It depends: <br>\n",
    "If the data is categorical the mode should be used.<br>\n",
    "If the total of all the measurements is of any interest the mean should be used.<br>\n",
    "If the total of all the measurements is not of interest:\n",
    "- If the histogram is symmetrical and unimodal, the mean, median, and mode are all equal and it does not really matter which one is used.\n",
    "- If the histogram is skewed, the median is more representative of a typical observation.\n",
    "  \n",
    "__3. How should you report the variability of measured quantities?__<br>\n",
    "Variability is specified using one of the following measures, which are called indices of dispersion:<br>\n",
    "- Range — minimum and maximum of the values observed\n",
    "- Variance or standard deviation\n",
    "- 10- and 90-percentiles\n",
    "- Semi-interquantile range\n",
    "- Mean absolute deviation\n",
    "    \n",
    "__What are the alternatives to variance and when are they appropriate?__\n",
    "- Range, which  is useful if and only if there is a reason to believe that the variable is bounded.\n",
    "- Standard deviation, which is preferable to variance, as it is in the same unit as the mean.\n",
    "- 10- and 90-percentiles, which are appropriate when the variables are unbounded.\n",
    "- Semi-interquantile range, which is preferable when there are outliers in the data, which is very likely when the distribution is highly skewed.\n",
    "- Mean absolute deviation, which requires no multiplication or square root compared to standard deviation.\n",
    "\n",
    "__5. How should you interpret the variability?__\n",
    "\n",
    "Variability (also called spread or dispersion) refers to how spread out a dataset is.<br> \n",
    "Variability gives you a way to describe how much datasets vary and allows you to use statistics to compare your data to other sets of data. <br>\n",
    "Datasets with similar values are said to have little variability, while datasets that have values that are spread out have high variability.\n",
    "\n",
    "__6. How much confidence can you put on data with a large variability?__<br>\n",
    "We can not put much confidence on data with a large variability, since the spread between the data is large and the data is less consistent.\n",
    "\n",
    "__7. How many measurements are required to get a desired level of statistical confidence?__<br>\n",
    "The number of measurements required to get a desired level of statistical confidence depends on the aformentioned level. This means that, the larger the required confidence level, the larger the sample size needs to be. That said the sample size should be at least 25 to achieve a decent statistical confidence.\n",
    "\n",
    "\n",
    "__8. How should you summarize the results of several different workloads on a single computer system?__<br>\n",
    "The summarization should contain the mean and the standard diviation of the experiments in order for someone to get the hang of the distribution the results have. With this much information one can even form confidence intervals of the results.\n",
    "\n",
    "\n",
    "__9. How should you compare two or more computer systems using several different workloads?__<br>\n",
    "Using their means and their standard diviations we can deduct how well they compare based on two criteria. Accuracy and precision. Accuracy refers to closeness of the measurements to a specific value, while precision refers to the closeness of the measurements to each other.\n",
    "\n",
    "That said, the means can evaluate the accuracy while their standard diviations can evaluate on the precision.\n",
    "\n",
    "__10. Is comparing the mean performance sufficient?__<br>\n",
    "Comparing the mean performance is rarely enough. It is important to include a statement about its variability in any summary of the data. This is because given two systems with the same mean performance,one would generally prefer one whose performance does not vary much from the mean.\n",
    "\n",
    "\n",
    "__11. What model best describes the relationship between two variables? Also, how good is the model?__<br>\n",
    "The correlation coefficient is a numerical measure of some type of correlation, meaning a statistical relationship between two variables. Several types of correlation coefficient exist, each with their own definition and own range of usability and characteristics.\n",
    "\n",
    "A correlation could be positive, meaning both variables move in the same direction, or negative, meaning that when one variable’s value increases, the other variables’ values decrease. Correlation can also be neural or zero, meaning that the variables are unrelated.\n",
    "\n",
    "However, in general, the presence of a correlation is not sufficient to infer the presence of a causal relationship (\"correlation does not imply causation\")."
   ]
  },
  {
   "cell_type": "markdown",
   "metadata": {},
   "source": [
    "\\begin{exercise}\n",
    " A distributed system has three file servers, which are chosen independently and with equal probabilities whenever a new file is created. The servers are named A, B, and C. Determine the probabilities of the following events: \n",
    "a.  Server A is selected \n",
    "b.  Server A or B is selected \n",
    "c.  Servers A and B are selected \n",
    "d.  Server A is not selected \n",
    "e.  Server A is selected twice in a row \n",
    "f.  Server selection sequence ABCABCABC is observed (in nine successive file creations) \n",
    "\n",
    "\\end{exercise}\n",
    "\n",
    "Probabilities of:\n",
    "\n",
    "a. Server A is selected $P_a = \\frac{1}{3}$ \n",
    "\n",
    "b. Server A or B is selected $P_b = \\frac{2}{3}$\n",
    "\n",
    "c. Servers A and B are selected $P_c = \\frac{1}{9}$\n",
    "\n",
    "d. Server A is not selected $P_d = \\frac{2}{3}$\n",
    "\n",
    "e. Server A is selected twice in a row $P_e = \\frac{1}{9}$ \n",
    "\n",
    "f. Server selection sequence ABCABCABC is observed $P_f = \\frac{1}{3^9}$"
   ]
  },
  {
   "cell_type": "markdown",
   "metadata": {},
   "source": [
    "\\begin{exercise}\n",
    "\n",
    "The traffic arriving at a network gateway is bursty. The burst size x is geometrically distributed with the following pmf. \n",
    "\n",
    "$$\n",
    "f(x)=(1-p)^{x-1} p, \\quad x=1,2, \\ldots, \\infty\n",
    "$$\n",
    "\n",
    "Compute the mean, variance, standard deviation, and coefficient of variation of the burst size. Plot the pmf and CDF for P = 0.2. \n",
    "\n",
    "\\end{exercise}"
   ]
  },
  {
   "cell_type": "markdown",
   "metadata": {},
   "source": [
    "$$\\mu= E(X) = \\sum_{i=1}^n p_i\\cdot x_i = \\sum_{i=1}^n f(x_i)\\cdot x_i = \\sum_{i=1}^n (1-p)^{x_i-1} \\cdot p \\cdot x_i$$\n",
    "\n",
    "$$\\sigma^{2}= Var(X) = \\sum_{i=1}^n (1-p)^{x_i-1} \\cdot p \\cdot (x_i - \\mu)^{2}$$\n",
    "\n",
    "$$\\sigma = \\sqrt{\\sigma^{2}} = \\sqrt{\\sum_{i=1}^n (1-p)^{x_i-1} \\cdot p \\cdot (x_i - \\mu)^{2}}$$\n",
    "\n",
    "$$CV = \\frac{\\sigma}{\\mu} = \\frac{\\sqrt{\\sum_{i=1}^n (1-p)^{x_i-1} \\cdot p \\cdot (x_i - \\mu)^{2}}}{\\sum_{i=1}^n (1-p)^{x_i-1} \\cdot p \\cdot x_i}$$"
   ]
  },
  {
   "cell_type": "code",
   "execution_count": 22,
   "metadata": {
    "ExecuteTime": {
     "end_time": "2019-11-25T20:23:39.786713Z",
     "start_time": "2019-11-25T20:23:39.536410Z"
    }
   },
   "outputs": [
    {
     "data": {
      "image/png": "[encoded data removed]",
      "text/plain": [
       "<Figure size 720x720 with 2 Axes>"
      ]
     },
     "metadata": {
      "needs_background": "light"
     },
     "output_type": "display_data"
    }
   ],
   "source": [
    "import numpy as np \n",
    "import pandas as pd\n",
    "import matplotlib.pyplot as plt\n",
    "import scipy.stats as stats\n",
    " \n",
    "x = np.array(range(1,20))\n",
    "y = stats.geom(0.2)\n",
    "\n",
    "fig, (ax1, ax2) = plt.subplots(2,1, figsize=(10,10))\n",
    "ax1.vlines(x, 0, y.pmf(x), colors='b', linestyles ='-', lw=1, label = 'pmf')\n",
    "ax1.set_title('Geometric PMF for p = 0.2')\n",
    "ax1.legend(loc='best')\n",
    "ax2.vlines(x, 0, y.cdf(x), colors = 'k', linestyles ='-',lw = 1, label = 'cdf')\n",
    "ax2.set_title('Geometric CDF for p = 0.2')\n",
    "ax2.legend(loc='best')\n",
    "plt.show();"
   ]
  },
  {
   "cell_type": "markdown",
   "metadata": {},
   "source": [
    "\\begin{exercise}\n",
    "The number of I/O requests received at a disk during a unit interval follows a Poisson distribution with the following mass function: \n",
    "\n",
    "$$\n",
    "f(x)=\\lambda^{x} \\frac{e^{-\\lambda x}}{x !}, \\quad x=0,1,2 \\ldots, \\infty\n",
    "$$\n",
    "Here, $\\lambda$ is a parameter. Determine the mean, variance, and coefficient of variation of the number. Plot the pmf and CDF for $\\lambda$ = 8.\n",
    "\\end{exercise}"
   ]
  },
  {
   "cell_type": "markdown",
   "metadata": {
    "ExecuteTime": {
     "end_time": "2019-11-08T15:36:28.303705Z",
     "start_time": "2019-11-08T15:36:28.276Z"
    }
   },
   "source": [
    "$$\\mu= E(X) = \\sum_{i=1}^n p_i\\cdot x_i = \\sum_{i=1}^n f(x_i)\\cdot x_i = \\sum_{i=1}^n (\\lambda^{x_i} \\cdot \\frac{e^{- \\lambda x_i}}{x_i !}) \\cdot x_i$$\n",
    "\n",
    "$$\\sigma^{2}= Var(X) = \\sum_{i=1}^n f(x_i)\\cdot x_i = \\sum_{i=1}^n (\\lambda^{x_i} \\cdot \\frac{e^{- \\lambda x_i}}{x_i !}) \\cdot (x_i - \\mu)^{2}$$\n",
    "\n",
    "$$\\sigma = \\sqrt{\\sigma^{2}} = \\sqrt{\\sum_{i=1}^n (\\lambda^{x_i} \\cdot \\frac{e^{- \\lambda x_i}}{x_i !}) \\cdot (x_i - \\mu)^{2}}$$\n",
    "\n",
    "$$CV = \\frac{\\sigma}{\\mu} = \\frac{\\sqrt{\\sum_{i=1}^n (\\lambda^{x_i} \\cdot \\frac{e^{- \\lambda x_i}}{x_i !}) \\cdot (x_i - \\mu)^{2}}}{\\sum_{i=1}^n (\\lambda^{x_i} \\cdot \\frac{e^{- \\lambda x_i}}{x_i !}) \\cdot x_i}$$"
   ]
  },
  {
   "cell_type": "code",
   "execution_count": 25,
   "metadata": {
    "ExecuteTime": {
     "end_time": "2019-11-25T20:25:58.423555Z",
     "start_time": "2019-11-25T20:25:57.848154Z"
    }
   },
   "outputs": [
    {
     "data": {
      "image/png": "[encoded data removed]",
      "text/plain": [
       "<Figure size 720x720 with 2 Axes>"
      ]
     },
     "metadata": {
      "needs_background": "light"
     },
     "output_type": "display_data"
    }
   ],
   "source": [
    "import numpy as np \n",
    "import pandas as pd\n",
    "import matplotlib.pyplot as plt\n",
    "import scipy.stats as stats\n",
    " \n",
    "x = np.array(range(1,30))\n",
    "y = stats.poisson(8)\n",
    "\n",
    "fig, (ax1, ax2) = plt.subplots(2,1, figsize=(10,10))\n",
    "ax1.vlines(x, 0, y.pmf(x), colors='b', linestyles ='-', lw=1, label = 'pmf')\n",
    "ax1.set_title('Poisson PMF for $\\lambda = 8$')\n",
    "ax1.legend(loc='best')\n",
    "ax2.vlines(x, 0, y.cdf(x), colors = 'k', linestyles ='-',lw = 1, label = 'cdf')\n",
    "ax2.set_title('Poisson CDF for $\\lambda = 8$')\n",
    "ax2.legend(loc='best')\n",
    "plt.show();"
   ]
  },
  {
   "cell_type": "markdown",
   "metadata": {},
   "source": [
    "\\begin{exercise}\n",
    "Two Poisson streams  merge at a disk. The pmf for the two streams are as follows: \n",
    "\n",
    "$$\n",
    "f(x)=\\lambda^{x} \\frac{e^{-\\lambda x}}{x !}, \\quad x=0,1,2, \\ldots, \\infty\n",
    "$$\n",
    "\n",
    "$$\n",
    "f(y)=\\lambda^{y} \\frac{e^{-\\lambda y}}{y !}, \\quad y=0,1,2, \\ldots, \\infty\n",
    "$$\n",
    "Determine the following: \n",
    "a.  Mean of $x + y$ \n",
    "b.  Variance of $x + y$ \n",
    "c.  Mean of $x - y$ \n",
    "d.  Variance of $x - y$ \n",
    "e.  Mean of $3x - 4y$ \n",
    "f.  Coefficient of variation of $3x - 4y$ \n",
    "\n",
    "\n",
    "\\end{exercise}"
   ]
  },
  {
   "cell_type": "markdown",
   "metadata": {},
   "source": [
    "$$E(X+Y) = E(X) + E(Y) = \\sum_{i=1}^n (\\lambda^{x_i} \\cdot \\frac{e^{- \\lambda x_i}}{x_i !})  + \\sum_{i=1}^n (\\lambda^{y_i} \\cdot \\frac{e^{- \\lambda y_i}}{y_i !}) $$\n",
    "\n",
    "$$ Var(X+Y) = Var(X) + Var(Y)  = \\sum_{i=1}^n (\\lambda^{x_i} \\cdot \\frac{e^{- \\lambda x_i}}{x_i !}) \\cdot (x_i - \\mu)^{2} + \\sum_{i=1}^n (\\lambda^{y_i} \\cdot \\frac{e^{- \\lambda y_i}}{y_i !}) \\cdot (y_i - \\mu)^{2}$$\n",
    "\n",
    "$$E(X-Y) = E(X) - E(Y) = \\sum_{i=1}^n (\\lambda^{x_i} \\cdot \\frac{e^{- \\lambda x_i}}{x_i !})  - \\sum_{i=1}^n (\\lambda^{y_i} \\cdot \\frac{e^{- \\lambda y_i}}{y_i !})  $$\n",
    "\n",
    "$$Var(X-Y) = Var(X) - Var(Y) = \\sum_{i=1}^n (\\lambda^{x_i} \\cdot \\frac{e^{- \\lambda x_i}}{x_i !}) \\cdot (x_i - \\mu)^{2} + \\sum_{i=1}^n (\\lambda^{y_i} \\cdot \\frac{e^{- \\lambda y_i}}{y_i !}) \\cdot (y_i - \\mu)^{2}$$\n",
    "\n",
    "$$E(3X-4Y) = E(3X) + E(-4Y) = 3E(X)-4E(Y) = 3 \\cdot \\sum_{i=1}^n (\\lambda^{x_i} \\cdot \\frac{e^{- \\lambda x_i}}{x_i !}) \\cdot (x_i - \\mu)^{2} -4 \\cdot \\sum_{i=1}^n (\\lambda^{y_i} \\cdot \\frac{e^{- \\lambda y_i}}{y_i !}) \\cdot (y_i - \\mu)^{2} $$\n",
    "\n",
    "$$CV(3X-4Y) = \\frac{\\sigma}{\\mu} = \n",
    "\\frac{Var(3X-4Y)}{E(3X-4Y)} =\n",
    "\\frac{3^{2} Var(X) + 4^{2} Var(Y)}{3 E(X) - 4 E(Y)} =\n",
    "\\frac{ 9 \\cdot sum_{i=1}^n (\\lambda^{x_i} \\cdot \\frac{e^{- \\lambda x_i}}{x_i !}) \\cdot (x_i - \\mu)^{2} + 16 \\cdot \\sum_{i=1}^n (\\lambda^{y_i} \\cdot \\frac{e^{- \\lambda y_i}}{y_i !}) }{3 \\cdot \\sum_{i=1}^n (\\lambda^{x_i} \\cdot \\frac{e^{- \\lambda x_i}}{x_i !}) \\cdot (x_i - \\mu)^{2} -4 \\cdot \\sum_{i=1}^n (\\lambda^{y_i} \\cdot \\frac{e^{- \\lambda y_i}}{y_i !}) \\cdot (y_i - \\mu)^{2} } $$"
   ]
  },
  {
   "cell_type": "markdown",
   "metadata": {},
   "source": [
    "\\begin{exercise}\n",
    "The response time of a computer system has an Erlang distribution with the following CDF: \n",
    "\n",
    "$$\n",
    "F(x)=1-e^{-x / a}\\left(\\sum_{i=0}^{m-1} \\frac{(x / a)^{i}}{i !}\\right)\n",
    "$$\n",
    "\n",
    "Find expressions for the pdf, mean, variance, mode, and coefficient of variation of the response time. \n",
    "\n",
    "\n",
    "\\end{exercise}"
   ]
  },
  {
   "cell_type": "markdown",
   "metadata": {},
   "source": [
    "$$f(x) = \\frac{\\lambda^{k} x^{k-1} e^{-\\lambda x}}{(k-1)!} $$\n",
    "$$Mean = \\frac{k}{\\lambda}$$\n",
    "$$Var(X) =  \\frac{k}{\\lambda^{2}}$$ \n",
    "$$Mode = \\frac{(k-1)}{\\lambda}$$ \n",
    "$$CV = \\frac{\\sigma}{\\mu} = \\frac{\\frac{k}{\\lambda^{2}}}{\\frac{k}{\\lambda}} = \\frac{1}{\\lambda}$$ \n"
   ]
  },
  {
   "cell_type": "markdown",
   "metadata": {
    "ExecuteTime": {
     "end_time": "2019-11-08T14:25:02.003583Z",
     "start_time": "2019-11-08T14:25:01.996Z"
    }
   },
   "source": [
    "\\begin{exercise}\n",
    "The execution times of queries on a database is normally distributed with a mean of 5 seconds and a standard deviation of 1 second. Determine the following: \n",
    "\n",
    "    a.  What is the probability of the execution time being more than 8 seconds? \n",
    "    \n",
    "    b.  What is the probability of the execution time being less than 6 seconds? \n",
    "    \n",
    "    c.  What percentage of responses will take between 4 and 7 seconds? \n",
    "    \n",
    "    d.  What is the 95-percentile execution time? \n",
    "\n",
    "\\end{exercise}"
   ]
  },
  {
   "cell_type": "code",
   "execution_count": 32,
   "metadata": {
    "ExecuteTime": {
     "end_time": "2019-11-25T20:35:49.973021Z",
     "start_time": "2019-11-25T20:35:49.964046Z"
    }
   },
   "outputs": [
    {
     "name": "stdout",
     "output_type": "stream",
     "text": [
      "a. 0.0013498980316301035\n",
      "b. 0.8413447460685429\n",
      "c. 81.85946141203637\n",
      "d. 6.644853626951472\n"
     ]
    }
   ],
   "source": [
    "from scipy.stats import norm\n",
    "\n",
    "mean = 5\n",
    "sd = 1\n",
    "\n",
    "p_more_than_8 = 1 - norm.cdf(8,mean,sd)\n",
    "print(\"a.\", p_more_than_8)\n",
    "\n",
    "p_less_than_6 = norm.cdf(6,mean,sd)\n",
    "print(\"b.\", p_less_than_6)\n",
    "\n",
    "percentage_between_4_and_7 = (norm.cdf(7,mean,sd) - norm.cdf(4,mean,sd)) *100\n",
    "print(\"c.\", percentage_between_4_and_7)\n",
    "\n",
    "p_95_percentile = norm.ppf(0.95)*sd+mean\n",
    "print(\"d.\", p_95_percentile)"
   ]
  },
  {
   "cell_type": "markdown",
   "metadata": {
    "ExecuteTime": {
     "end_time": "2019-11-08T14:25:26.757116Z",
     "start_time": "2019-11-08T14:25:26.749Z"
    }
   },
   "source": [
    "\\begin{exercise}\n",
    "\n",
    "Plot a normal quantile-quantile plot for the following sample of errors: -0.04444  -0.04439  -0.04165  -0.03268  -0.03235  -0.03182  0.02771  0.02650  \n",
    "-0.02569  -0.02358  0.02330  0.02305  0.02213  0.02128  0.01793  0.01668  \n",
    "-0.01565  -0.01509  0.01432  0.00978  0.00889  0.00687  0.00543  0.00084  \n",
    "-0.00083  -0.00048  0.00024  0.00079  0.00082  0.00106  0.00110  0.00132  \n",
    "0.00162  0.00181  0.00280  0.00379  0.00411  0.00424  0.00553  0.00865  \n",
    "0.01026  0.01085  0.01440  0.01562  0.01975  0.01996  0.02016  0.02078  \n",
    "0.02134  0.02252  0.02414  0.02568  0.02682  0.02855  0.02889  0.03072  \n",
    "0.03259  0.03754  0.04263  0.04276  \n",
    "\n",
    "Are the errors normally distributed? \n",
    "\n",
    "\n",
    "\\end{exercise}"
   ]
  },
  {
   "cell_type": "code",
   "execution_count": 38,
   "metadata": {
    "ExecuteTime": {
     "end_time": "2019-11-25T20:41:33.670740Z",
     "start_time": "2019-11-25T20:41:33.545076Z"
    }
   },
   "outputs": [
    {
     "data": {
      "image/png": "[encoded data removed]",
      "text/plain": [
       "<Figure size 432x288 with 1 Axes>"
      ]
     },
     "metadata": {
      "needs_background": "light"
     },
     "output_type": "display_data"
    }
   ],
   "source": [
    "import scipy.stats as stats\n",
    "\n",
    "x = [-0.04444 , -0.04439 , -0.04165 , -0.03268 , -0.03235 , -0.03182 , 0.02771 , 0.02650 , \n",
    "     -0.02569 , -0.02358 ,  0.02330 ,  0.02305 ,  0.02213 ,  0.02128 , 0.01793 , 0.01668 ,\n",
    "     -0.01565 , -0.01509 ,  0.01432 ,  0.00978 ,  0.00889 ,  0.00687 , 0.00543 , 0.00084 ,  \n",
    "     -0.00083 , -0.00048 ,  0.00024 ,  0.00079 ,  0.00082 ,  0.00106 , 0.00110 , 0.00132 , \n",
    "      0.00162 ,  0.00181 ,  0.00280 ,  0.00379 ,  0.00411 ,  0.00424 , 0.00553 , 0.00865 ,  \n",
    "      0.01026 ,  0.01085 ,  0.01440 ,  0.01562 ,  0.01975 ,  0.01996 , 0.02016 , 0.02078 , \n",
    "      0.02134 ,  0.02252 ,  0.02414 ,  0.02568 ,  0.02682 ,  0.02855 , 0.02889 , 0.03072 , \n",
    "      0.03259 ,  0.03754 ,  0.04263 ,  0.04276 ]\n",
    "\n",
    "#10 percentiles of the data\n",
    "x = np.array(x);\n",
    "res = stats.probplot(x, dist='norm', plot=plt)\n",
    "\n",
    "plt.title('Normal QQ-plot')\n",
    "plt.xlabel('Theoretical quantiles')\n",
    "plt.ylabel('Real quantiles');"
   ]
  },
  {
   "cell_type": "markdown",
   "metadata": {},
   "source": [
    "From the Q-Q plot, we can see that the errors are not normally distributed, since there are values that decline significantly from the normal distribution line."
   ]
  },
  {
   "cell_type": "markdown",
   "metadata": {},
   "source": [
    "\\begin{exercise}\n",
    "\n",
    "The performance of a remote procedure call (RPC) mechanism was compared on two operating systems named UNIX and ARGUS. The performance metric was total elapsed time, which was measured for various data sizes. The measurements are shown in Table.\n",
    "\n",
    "1) Plot the scatter diagrams of the two data sets along with the regression lines a for UNIX and ARGUS, respectively.\n",
    "\n",
    "2) Notice that for large data sizes the variance of both data sets is large.  This is because ARGUS measurements are affected by the garbage collection and UNIX measurements are affected by a page optimization technique that avoids copying of complete data pages by mapping the pages from the input buffer into the kernel instead of the normal copying.\n",
    "\n",
    "3) Compute the 90% confidence intervals for regression coefficients for RPC study.\n",
    "\n",
    "4) How much of the variation is explained by regression in the two data sets?\n",
    "\n",
    "5) Compute the Best linear models for UNIX and ARGUS\n",
    "\n",
    "6) Does ARGUS takes larger time per byte as well as a larger set up time per call than UNIX?\n",
    "\n",
    "7) Intervals for intercepts overlap while those of the slopes do not. What does it mean?\n",
    "\\end{exercise}"
   ]
  },
  {
   "cell_type": "code",
   "execution_count": 57,
   "metadata": {
    "ExecuteTime": {
     "end_time": "2019-11-26T17:58:26.517358Z",
     "start_time": "2019-11-26T17:58:26.505390Z"
    }
   },
   "outputs": [],
   "source": [
    "import numpy as np\n",
    "import math\n",
    "import statsmodels.api as sm\n",
    "#import statsmodels.formula.api as smf\n",
    "#import statsmodels.stats.api as sms\n",
    "import matplotlib.pyplot as plt\n",
    "\n",
    "X_UNIX = np.array([64, 64, 64, 64, 234, 590, 846, 1060, 1082, 1088, 1088, 1088, 1088]).reshape(-1, 1)\n",
    "y_UNIX = np.array([26.4, 26.4, 26.4, 26.2, 33.8, 41.6, 50.0, 48.4, 49.0, 42.0, 41.8, 41.8, 42.0]).reshape(-1, 1)\n",
    "X_ARGUS = np.array([92, 92, 92, 92, 348, 604, 860, 1074, 1074, 1088, 1088, 1088, 1088]).reshape(-1, 1)\n",
    "y_ARGUS = np.array([32.8, 34.2, 32.4, 34.4, 41.4, 51.2, 76.0, 80.8, 79.8, 58.6, 57.6, 59.8, 57.4]).reshape(-1, 1)"
   ]
  },
  {
   "cell_type": "code",
   "execution_count": 58,
   "metadata": {
    "ExecuteTime": {
     "end_time": "2019-11-26T17:58:27.395654Z",
     "start_time": "2019-11-26T17:58:27.161270Z"
    }
   },
   "outputs": [
    {
     "data": {
      "image/png": "[encoded data removed]",
      "text/plain": [
       "<Figure size 720x360 with 2 Axes>"
      ]
     },
     "metadata": {
      "needs_background": "light"
     },
     "output_type": "display_data"
    }
   ],
   "source": [
    "#1)Plot the scatter diagrams of the two data sets along with the regression lines a for UNIX and ARGUS, respectively.\n",
    "\n",
    "fig, ax = plt.subplots(1,2, figsize=(10,5))\n",
    "\n",
    "x_UNIX_t = sm.add_constant(X_UNIX)\n",
    "x_ARGUS_t = sm.add_constant(X_ARGUS)\n",
    "\n",
    "model_unix = sm.OLS(y_UNIX, x_UNIX_t).fit()\n",
    "model_argus = sm.OLS(y_ARGUS, x_ARGUS_t).fit()\n",
    "\n",
    "ax[0].plot(X_UNIX, y_UNIX, '*r',label = 'real values')\n",
    "ax[0].plot(X_UNIX, model_unix.predict(x_UNIX_t), '-b', label='approx line')\n",
    "ax[0].set_title(\"UNIX\")\n",
    "\n",
    "ax[1].plot(X_ARGUS, y_ARGUS, '*r',label = 'real values')\n",
    "ax[1].plot(X_ARGUS, model_argus.predict(x_ARGUS_t), '-b', label='approx line')\n",
    "ax[1].set_title(\"ARGUS\");"
   ]
  },
  {
   "cell_type": "markdown",
   "metadata": {},
   "source": [
    "3) Compute the 90% confidence intervals for regression coefficients for RPC study.\n",
    "\n",
    "Using OLS from the statsmodels api we can compute the confidence intervals for regression coefficients easily.\n"
   ]
  },
  {
   "cell_type": "code",
   "execution_count": 59,
   "metadata": {
    "ExecuteTime": {
     "end_time": "2019-11-26T17:58:32.811724Z",
     "start_time": "2019-11-26T17:58:32.806731Z"
    }
   },
   "outputs": [
    {
     "name": "stdout",
     "output_type": "stream",
     "text": [
      "UNIX:\n",
      "\n",
      "[[2.32970203e+01 3.04986055e+01]\n",
      " [1.28112015e-02 2.18986398e-02]]\n"
     ]
    }
   ],
   "source": [
    "print(\"UNIX:\\n\")\n",
    "print(model_unix.conf_int(alpha=0.1, cols=None))"
   ]
  },
  {
   "cell_type": "code",
   "execution_count": 60,
   "metadata": {
    "ExecuteTime": {
     "end_time": "2019-11-26T17:58:33.996592Z",
     "start_time": "2019-11-26T17:58:33.991606Z"
    }
   },
   "outputs": [
    {
     "name": "stdout",
     "output_type": "stream",
     "text": [
      "ARGUS:\n",
      "\n",
      "[[2.26081406e+01 3.95273184e+01]\n",
      " [2.31140179e-02 4.42867924e-02]]\n"
     ]
    }
   ],
   "source": [
    "print(\"ARGUS:\\n\")\n",
    "print(model_argus.conf_int(alpha=0.1, cols=None))"
   ]
  },
  {
   "cell_type": "markdown",
   "metadata": {},
   "source": [
    "4) How much of the variation is explained by regression in the two data sets?\n",
    "\n",
    "By Aquiring the $R^2$ metric we can quantify how much of the variation is explained by regression in the two data sets"
   ]
  },
  {
   "cell_type": "code",
   "execution_count": 61,
   "metadata": {
    "ExecuteTime": {
     "end_time": "2019-11-26T17:58:39.609686Z",
     "start_time": "2019-11-26T17:58:39.605677Z"
    }
   },
   "outputs": [
    {
     "name": "stdout",
     "output_type": "stream",
     "text": [
      "Unix r2 score:   0.8105151270527281\n",
      "Argus r2 score:  0.7481900182594209\n"
     ]
    }
   ],
   "source": [
    "print(\"Unix r2 score:  \",model_unix.rsquared)\n",
    "print(\"Argus r2 score: \",model_argus.rsquared)"
   ]
  },
  {
   "cell_type": "markdown",
   "metadata": {},
   "source": [
    "5) Compute the Best linear models for UNIX and ARGUS\n",
    "\n",
    "The best models are computed using the OLS Algorithm. Their parameters are:"
   ]
  },
  {
   "cell_type": "code",
   "execution_count": 62,
   "metadata": {
    "ExecuteTime": {
     "end_time": "2019-11-26T17:58:49.450190Z",
     "start_time": "2019-11-26T17:58:49.446174Z"
    }
   },
   "outputs": [
    {
     "name": "stdout",
     "output_type": "stream",
     "text": [
      "Unix r2 parameters:   [2.68978129e+01 1.73549207e-02]\n",
      "Argus r2 parameters:  [31.06772948  0.03370041]\n"
     ]
    }
   ],
   "source": [
    "print(\"Unix r2 parameters:  \",model_unix.params)\n",
    "print(\"Argus r2 parameters: \",model_argus.params)"
   ]
  },
  {
   "cell_type": "markdown",
   "metadata": {},
   "source": [
    "And the regression line is:"
   ]
  },
  {
   "cell_type": "code",
   "execution_count": 63,
   "metadata": {
    "ExecuteTime": {
     "end_time": "2019-11-26T17:59:01.551095Z",
     "start_time": "2019-11-26T17:59:01.543116Z"
    }
   },
   "outputs": [
    {
     "name": "stdout",
     "output_type": "stream",
     "text": [
      "Unix r2 regression line:   0.0173549206718206*x + 26.8978129187131\n",
      "Argus r2 regression line:  0.0337004051506219*x + 31.0677294840463\n"
     ]
    }
   ],
   "source": [
    "from sympy import symbols,rem,pprint,Matrix\n",
    "from sympy.polys.subresultants_qq_zz import *\n",
    "x = symbols('x')\n",
    "\n",
    "print(\"Unix r2 regression line:  \", Poly(model_unix.params.tolist()[::-1], x).as_expr())\n",
    "print(\"Argus r2 regression line: \", Poly(model_argus.params.tolist()[::-1], x).as_expr())"
   ]
  },
  {
   "cell_type": "markdown",
   "metadata": {},
   "source": [
    "6) Does ARGUS takes larger time per byte as well as a larger set up time per call than UNIX?"
   ]
  },
  {
   "cell_type": "code",
   "execution_count": 64,
   "metadata": {
    "ExecuteTime": {
     "end_time": "2019-11-26T17:59:52.175815Z",
     "start_time": "2019-11-26T17:59:52.035191Z"
    }
   },
   "outputs": [
    {
     "data": {
      "image/png": "[encoded data removed]",
      "text/plain": [
       "<Figure size 720x360 with 1 Axes>"
      ]
     },
     "metadata": {
      "needs_background": "light"
     },
     "output_type": "display_data"
    }
   ],
   "source": [
    "xtest = np.linspace(0, 10000, 10).reshape(-1,1)\n",
    "\n",
    "fig, ax = plt.subplots(1,1, figsize=(10,5))\n",
    "ax.plot(xtest, model_unix.predict(sm.add_constant(xtest)), '-g', label='UNIX')\n",
    "ax.plot(xtest, model_argus.predict(sm.add_constant(xtest)), '-b', label='ARGUS')\n",
    "ax.legend(loc='best');\n",
    "plt.show();"
   ]
  },
  {
   "cell_type": "markdown",
   "metadata": {},
   "source": [
    "Yes, this is true and the fact that Argus' slope is greater than the Unix's confirms that.\n",
    "\n",
    "7) Intervals for intercepts overlap while those of the slopes do not. What does it mean?\n",
    "It means that the execution times for small data size will be similar ,but the as the data size rises the execution time ascends faster at ARGUS compared to UNIX. As data increases the lines are less and less likely to meet."
   ]
  },
  {
   "cell_type": "markdown",
   "metadata": {},
   "source": [
    "\\begin{exercise}\n",
    "Using the disk $I/O$ and $CPU$ time data of Example above, estimate the $CPU$ time for a program with $100$ disk $I/O$’s, compute the standard deviation of errors, the standard deviation of the predicted mean of a large number of observations $s_{ \\widehat{y}_{p}} $, from table above, find the $0.95$-quantile of the $t$-variate with $5$ degrees of freedom, the $90\\%$ $CI$ for the predicted mean, compute the $CPU$ time of a single future program with $100$ disk $I/O$’s with $90\\%$ $CI$ for a single prediction.\n",
    "\\end{exercise}"
   ]
  },
  {
   "cell_type": "code",
   "execution_count": 66,
   "metadata": {
    "ExecuteTime": {
     "end_time": "2019-11-26T18:06:58.544201Z",
     "start_time": "2019-11-26T18:06:58.366638Z"
    }
   },
   "outputs": [
    {
     "data": {
      "image/png": "[encoded data removed]",
      "text/plain": [
       "<Figure size 720x360 with 1 Axes>"
      ]
     },
     "metadata": {
      "needs_background": "light"
     },
     "output_type": "display_data"
    }
   ],
   "source": [
    "cpu_time = np.array([2,5,7,9,10,13,20])\n",
    "disk_io = np.array([14,16,27,42,39,50,83])\n",
    "test = np.array([14,16,27,42,39,50,83,100])\n",
    "test_t = sm.add_constant(test)\n",
    "\n",
    "disk_io_t = sm.add_constant(disk_io)\n",
    "results = sm.OLS(cpu_time, disk_io_t).fit()\n",
    "\n",
    "fig, ax = plt.subplots(1,1, figsize=(10,5))\n",
    "ax.plot(disk_io, cpu_time, '*b',label = 'real values')\n",
    "ax.plot([[100]], results.predict([[1, 100]]), '*r', label='prediction')\n",
    "ax.plot(test, results.predict(test_t), '-k', label='regression line')\n",
    "ax.set_xlabel('Disk I/O')\n",
    "ax.set_ylabel('CPU time')\n",
    "ax.set_title(\"CPU time vs Disk I/O\")\n",
    "ax.legend(loc='best');"
   ]
  },
  {
   "cell_type": "markdown",
   "metadata": {},
   "source": [
    "Standard deviation of errors:"
   ]
  },
  {
   "cell_type": "code",
   "execution_count": 67,
   "metadata": {
    "ExecuteTime": {
     "end_time": "2019-11-26T18:07:02.706835Z",
     "start_time": "2019-11-26T18:07:02.702835Z"
    }
   },
   "outputs": [
    {
     "name": "stdout",
     "output_type": "stream",
     "text": [
      "Standard errors of [b0 b1]:  [0.831105   0.01868107]\n"
     ]
    }
   ],
   "source": [
    "print('Standard errors of [b0 b1]: ', results.bse)"
   ]
  },
  {
   "cell_type": "markdown",
   "metadata": {},
   "source": [
    "The standard deviation of the predicted mean of a large number of observations:\n",
    "\n",
    "$$\n",
    "s_{\\hat{y}_{mp}} = s_e \\left[ \\frac{1}{n} + \\frac{(x_p-\\bar{x})^2}{\\sum (x^2)-n(\\bar{x})^2} \\right]^\\frac{1}{2}\n",
    "$$"
   ]
  },
  {
   "cell_type": "code",
   "execution_count": 87,
   "metadata": {
    "ExecuteTime": {
     "end_time": "2019-11-26T18:28:31.663425Z",
     "start_time": "2019-11-26T18:28:31.659434Z"
    }
   },
   "outputs": [
    {
     "name": "stdout",
     "output_type": "stream",
     "text": [
      "[0.61712179 0.58969132 0.46429657 0.41406519 0.40952519 0.46057717\n",
      " 0.92310068]\n"
     ]
    }
   ],
   "source": [
    "pred=results.get_prediction(disk_io_t)\n",
    "print(pred.se_mean)"
   ]
  },
  {
   "cell_type": "code",
   "execution_count": 88,
   "metadata": {
    "ExecuteTime": {
     "end_time": "2019-11-26T18:40:54.948114Z",
     "start_time": "2019-11-26T18:40:54.940134Z"
    }
   },
   "outputs": [
    {
     "name": "stdout",
     "output_type": "stream",
     "text": [
      "\n",
      "Standard deviation of predicted mean at disk_io[1,2,3,4,5]:\n",
      "  [0.5896913189060122, 0.4642965654477105, 0.41406518518365854, 0.409525191414102, 0.46057717390508307]\n"
     ]
    }
   ],
   "source": [
    "#Standard Error of predicted mean\n",
    "n = len(disk_io)\n",
    "y_std = np.std(cpu_time,ddof = 1)\n",
    "adj_r2 = results.rsquared_adj\n",
    "stde_reg = math.sqrt(1-adj_r2) * y_std\n",
    "meanX = np.mean(disk_io)\n",
    "STD_mean_x = [(stde_reg/math.sqrt(n))*math.sqrt(1+((x-meanX)**2)/np.var(disk_io,ddof =0)) for x in disk_io[1:6]]\n",
    "print('\\nStandard deviation of predicted mean at disk_io[1,2,3,4,5]:\\n ', STD_mean_x)"
   ]
  },
  {
   "cell_type": "markdown",
   "metadata": {},
   "source": [
    "The  0.95-quantile of the  𝑡 -variate with  5  degrees of freedom is 2.015\n",
    "\n",
    "The 90% CI for the predicted mean:"
   ]
  },
  {
   "cell_type": "code",
   "execution_count": 92,
   "metadata": {
    "ExecuteTime": {
     "end_time": "2019-11-26T18:44:31.192494Z",
     "start_time": "2019-11-26T18:44:31.188481Z"
    }
   },
   "outputs": [
    {
     "name": "stdout",
     "output_type": "stream",
     "text": [
      "[[ 2.16077656  4.64783709]\n",
      " [ 2.70356304  5.0800761 ]\n",
      " [ 5.63755961  7.50871969]\n",
      " [ 9.39512384 11.0638466 ]\n",
      " [ 8.67300304 10.32342918]\n",
      " [11.2514509  13.10762147]\n",
      " [18.36340391 22.08358895]]\n"
     ]
    }
   ],
   "source": [
    "ci = pred.conf_int(alpha=0.1)\n",
    "print(ci)"
   ]
  },
  {
   "cell_type": "code",
   "execution_count": 94,
   "metadata": {
    "ExecuteTime": {
     "end_time": "2019-11-26T18:46:20.811779Z",
     "start_time": "2019-11-26T18:46:20.614328Z"
    }
   },
   "outputs": [
    {
     "name": "stderr",
     "output_type": "stream",
     "text": [
      "C:\\Users\\Admin\\.conda\\envs\\ml\\lib\\site-packages\\ipykernel_launcher.py:11: UserWarning: Matplotlib is currently using module://ipykernel.pylab.backend_inline, which is a non-GUI backend, so cannot show the figure.\n",
      "  # This is added back by InteractiveShellApp.init_path()\n"
     ]
    },
    {
     "data": {
      "image/png": "[encoded data removed]",
      "text/plain": [
       "<Figure size 720x360 with 1 Axes>"
      ]
     },
     "metadata": {
      "needs_background": "light"
     },
     "output_type": "display_data"
    }
   ],
   "source": [
    "fig, ax = plt.subplots(1,1, figsize=(10,5))\n",
    "\n",
    "ax.plot(disk_io, results.predict(disk_io_t), '-g', label='regression line')\n",
    "ax.plot(disk_io, ci[:,0], 'r', label='lower bound')\n",
    "ax.plot(disk_io, ci[:,1], 'b', label='higher bound')\n",
    "ax.plot(disk_io, cpu_time, '*k',label = 'real values')\n",
    "ax.set_xlabel('Disk I/O')\n",
    "ax.set_ylabel('CPU time')\n",
    "ax.set_title(\"The 90% Confidence Intervals for mean\")\n",
    "ax.legend(loc='best')\n",
    "fig.show()"
   ]
  },
  {
   "cell_type": "markdown",
   "metadata": {},
   "source": [
    "The CPU time of a single future program with 100 disk I/O's with 90% CI for a single prediction is:"
   ]
  },
  {
   "cell_type": "code",
   "execution_count": 103,
   "metadata": {
    "ExecuteTime": {
     "end_time": "2019-11-26T18:53:03.458920Z",
     "start_time": "2019-11-26T18:53:03.453930Z"
    }
   },
   "outputs": [
    {
     "name": "stdout",
     "output_type": "stream",
     "text": [
      "Prediction : [24.36735474]\n",
      "90% CI : [[21.91723636 26.81747312]]\n"
     ]
    }
   ],
   "source": [
    "pred100=results.get_prediction([1, 100])\n",
    "print(\"Prediction :\",pred100.predicted_mean)\n",
    "print(\"90% CI :\",pred100.conf_int(alpha=0.1))"
   ]
  },
  {
   "cell_type": "markdown",
   "metadata": {},
   "source": [
    "\\begin{exercise}\n",
    "The time to encrypt a k-byte record using an encryption technique is shown in the following Table. Fit an optimal linear regression model to this data. First try to identify a linear model with non zero intersect. Use the statistical data (i.e. confidence interval) to accept or reject the model. Explain. Second, try to generate a linear model with zero intersect. What do you observe?\n",
    "\n",
    "\\end{exercise}"
   ]
  },
  {
   "cell_type": "code",
   "execution_count": 130,
   "metadata": {
    "ExecuteTime": {
     "end_time": "2019-11-26T21:20:11.300508Z",
     "start_time": "2019-11-26T21:20:11.295522Z"
    }
   },
   "outputs": [],
   "source": [
    "y = np.array([128, 256, 384, 512, 640, 768, 896, 1024])\n",
    "x = np.array([[386, 375, 393],\n",
    "              [850, 805, 824], \n",
    "              [1544, 1644, 1553], \n",
    "              [3035, 3123, 3235], \n",
    "              [6650, 6839, 6768], \n",
    "              [13887, 14567, 13456], \n",
    "              [28059, 27439, 27659], \n",
    "              [50914, 52129, 51360]])\n",
    "\n",
    "from scipy import stats"
   ]
  },
  {
   "cell_type": "code",
   "execution_count": 134,
   "metadata": {
    "ExecuteTime": {
     "end_time": "2019-11-26T21:26:04.559762Z",
     "start_time": "2019-11-26T21:26:04.544803Z"
    }
   },
   "outputs": [
    {
     "name": "stdout",
     "output_type": "stream",
     "text": [
      "WITH INTERCECT:\n",
      "\n",
      "[[ 1.79015936e+02  5.44481285e+02]\n",
      " [-3.04125365e-01  7.73818980e-01]\n",
      " [-3.14230422e-01  4.15132877e-01]\n",
      " [-8.66730901e-01  3.26758178e-01]]\n",
      "                            OLS Regression Results                            \n",
      "==============================================================================\n",
      "Dep. Variable:                      y   R-squared:                       0.796\n",
      "Model:                            OLS   Adj. R-squared:                  0.643\n",
      "Method:                 Least Squares   F-statistic:                     5.194\n",
      "Date:                Tue, 26 Nov 2019   Prob (F-statistic):             0.0727\n",
      "Time:                        23:26:04   Log-Likelihood:                -50.448\n",
      "No. Observations:                   8   AIC:                             108.9\n",
      "Df Residuals:                       4   BIC:                             109.2\n",
      "Df Model:                           3                                         \n",
      "Covariance Type:            nonrobust                                         \n",
      "==============================================================================\n",
      "                 coef    std err          t      P>|t|      [0.025      0.975]\n",
      "------------------------------------------------------------------------------\n",
      "const        361.7486     85.716      4.220      0.013     123.764     599.733\n",
      "x1             0.2348      0.253      0.929      0.406      -0.467       0.937\n",
      "x2             0.0505      0.171      0.295      0.783      -0.424       0.525\n",
      "x3            -0.2700      0.280     -0.965      0.389      -1.047       0.507\n",
      "==============================================================================\n",
      "Omnibus:                        0.123   Durbin-Watson:                   0.611\n",
      "Prob(Omnibus):                  0.940   Jarque-Bera (JB):                0.251\n",
      "Skew:                          -0.208   Prob(JB):                        0.882\n",
      "Kurtosis:                       2.238   Cond. No.                     4.80e+04\n",
      "==============================================================================\n",
      "\n",
      "Warnings:\n",
      "[1] Standard Errors assume that the covariance matrix of the errors is correctly specified.\n",
      "[2] The condition number is large, 4.8e+04. This might indicate that there are\n",
      "strong multicollinearity or other numerical problems.\n"
     ]
    },
    {
     "name": "stderr",
     "output_type": "stream",
     "text": [
      "C:\\Users\\Admin\\.conda\\envs\\ml\\lib\\site-packages\\scipy\\stats\\stats.py:1416: UserWarning: kurtosistest only valid for n>=20 ... continuing anyway, n=8\n",
      "  \"anyway, n=%i\" % int(n))\n"
     ]
    }
   ],
   "source": [
    "x_t = sm.add_constant(x)\n",
    "result_b= sm.OLS(y, x_t).fit()\n",
    "\n",
    "print(\"WITH INTERCECT:\\n\")\n",
    "print(result_b.conf_int(alpha=0.1))\n",
    "print(result_b.summary())"
   ]
  },
  {
   "cell_type": "code",
   "execution_count": 132,
   "metadata": {
    "ExecuteTime": {
     "end_time": "2019-11-26T21:20:30.564734Z",
     "start_time": "2019-11-26T21:20:30.550773Z"
    },
    "scrolled": true
   },
   "outputs": [
    {
     "name": "stdout",
     "output_type": "stream",
     "text": [
      "WITHOUT INTERCECT:\n",
      "\n",
      "[0.47681166 0.77614012 0.43973876]\n",
      "                            OLS Regression Results                            \n",
      "==============================================================================\n",
      "Dep. Variable:                      y   R-squared:                       0.771\n",
      "Model:                            OLS   Adj. R-squared:                  0.633\n",
      "Method:                 Least Squares   F-statistic:                     5.601\n",
      "Date:                Tue, 26 Nov 2019   Prob (F-statistic):             0.0469\n",
      "Time:                        23:20:30   Log-Likelihood:                -57.232\n",
      "No. Observations:                   8   AIC:                             120.5\n",
      "Df Residuals:                       5   BIC:                             120.7\n",
      "Df Model:                           3                                         \n",
      "Covariance Type:            nonrobust                                         \n",
      "==============================================================================\n",
      "                 coef    std err          t      P>|t|      [0.025      0.975]\n",
      "------------------------------------------------------------------------------\n",
      "x1             0.4009      0.522      0.769      0.477      -0.940       1.742\n",
      "x2             0.1069      0.356      0.300      0.776      -0.809       1.023\n",
      "x3            -0.4825      0.575     -0.839      0.440      -1.961       0.996\n",
      "==============================================================================\n",
      "Omnibus:                        0.066   Durbin-Watson:                   0.339\n",
      "Prob(Omnibus):                  0.968   Jarque-Bera (JB):                0.252\n",
      "Skew:                          -0.148   Prob(JB):                        0.882\n",
      "Kurtosis:                       2.183   Cond. No.                         198.\n",
      "==============================================================================\n",
      "\n",
      "Warnings:\n",
      "[1] Standard Errors assume that the covariance matrix of the errors is correctly specified.\n"
     ]
    },
    {
     "name": "stderr",
     "output_type": "stream",
     "text": [
      "C:\\Users\\Admin\\.conda\\envs\\ml\\lib\\site-packages\\scipy\\stats\\stats.py:1416: UserWarning: kurtosistest only valid for n>=20 ... continuing anyway, n=8\n",
      "  \"anyway, n=%i\" % int(n))\n"
     ]
    }
   ],
   "source": [
    "result_no_b = sm.OLS(y, x).fit()\n",
    "print(\"WITHOUT INTERCECT:\\n\")\n",
    "print(result_no_b.pvalues)\n",
    "print(result_no_b.summary())"
   ]
  },
  {
   "cell_type": "markdown",
   "metadata": {},
   "source": [
    "We see that when we included the intercept into the model we get smaller standar errors of the coeficient means than when we ignored the intercept.\n",
    "\n",
    "Moreover The Non Zero intercept model has greater R-squared value than the Zero intercept model. This means that in explains better the variability of our data with the intercept included.\n",
    "\n",
    "The P value of the intercept is very small which indicates that its existance is statistical significant."
   ]
  },
  {
   "cell_type": "markdown",
   "metadata": {},
   "source": [
    "**Review Questions**\n",
    "\n",
    "\n",
    "**How does regression differ from correlation?**\n",
    "Correlation is described as the analysis which lets us know the association or the absence of the relationship between two variables ‘x’ and ‘y’. On the other end, Regression analysis, predicts the value of the dependent variable based on the known value of the independent variable, assuming that average mathematical relationship between two or more variables.\n",
    "\n",
    "<img src=\"files/comp.png\">\n",
    "\n",
    "**How does an algebraic line differ from a statistical line?**\n",
    "\n",
    "Both describe a relation between an output variable and the input(s).<br>\n",
    "An algebraic line is created only to make predictions without a measure to understand how good are those predictions.\n",
    "\n",
    "A statistical line takes into consideration the uncertainty of the data, that's why is contains a random variable of the the errors. But this enables us to compute an extensive statistical analysis that can tell us useful information like:<br>\n",
    "The distribution of the data around the predicted value, the confidence intervals of a prediction given a confidence level, metrics that tells us if the model has any statistical significance which means whether it is good or bad.\n",
    "\n",
    "\n",
    "**Lines are characterized by their slope and intercept. What does the slope tell you about the line? What does the intercept tell you? What does a slope of 0 indicate?**\n",
    "\n",
    "The slope tells us the rate that the output changes while we increase the input. \n",
    "\n",
    "The intercept rises the line by the mean value of predictions. It may seem that it doen't offer much information but it is necessary in order to minimize the residuals of (real - predicted) values which many times lead to better predictions.\n",
    "\n",
    "Intercept zero forces the regression line to pass through the point (0,0), meaning that the mean value of predictions is zero for zero input.\n",
    "\n",
    "**What is ”squared” in a least squared regression line?**\n",
    "\n",
    "The least squared regression algorithm creates a line that minimizes the mean squared error, hence the term \"squared\".\n",
    "\n",
    "\n",
    "**Suppose the relation between AGE (years) and HEIGHT (inches) in an adolescent population is described\n",
    "by this model: = 46 + 1.5X. Interpret the slope of this model.Then, predict the average height of a 10 year-old**\n",
    "\n",
    "Height = 46 + 1.5*Age\n",
    "\n",
    "The slope of this model describes the rate of predicted height's change in relation to age, so the predicted height is \n",
    "incremented by 1.5 inches for every one year a person gets older.\n",
    "\n",
    "The average height of a 10 year-old will be $10 \\cdot 1.5+46 = 15+46 = 61$ inches\n",
    "\n",
    "\n"
   ]
  },
  {
   "cell_type": "markdown",
   "metadata": {},
   "source": [
    "**What t value do you use when calculating a $95\\%$ confidence interval for b when n = 25?**\n",
    "\n",
    "$t_{\\left[\\frac{(1 - 0.95)}{2}+0.95, 25 - 2\\right]} = t_{\\left[0.975, 23\\right]} =2.069$ \n",
    "\n",
    "according to the table from the lecture.\n",
    "\n",
    "**What symbol is used to denote the slope in the data?**\n",
    "\n",
    "The symbol we use is $\\beta_1$.\n",
    "\n",
    "**What symbol is used to denote the slope in the population?**\n",
    "\n",
    "The symbol we use is $b_1$.\n",
    "\n",
    "**The Normality and equal variance assumptions for regression refer to the distribution of the residuals**. \n",
    "\n",
    "Yes, because $e = y - (b_0 + b_1x)$\n",
    "\n",
    "**What is a residual?**\n",
    "\n",
    "Residual is remainter of the difference between the real value and the predicted value for a certain input.\n",
    "\n",
    "**What distributional conditions are necessary to help infer population slope beta?**\n",
    "\n",
    "The conditions for slope inference are similar to that of regression inference in general. The conditions are:\n",
    "\n",
    "i.   Linear Relationship among input and output\n",
    "\n",
    "ii.  Independence of observations and errors\n",
    "\n",
    "iii. Distribution of errors follow normal distribution\n",
    "\n",
    "iv.  Equal variance of error for every observation\n",
    "\n",
    "v.   The sample data are picked randomly \n",
    "\n",
    "**Assuming that the 90% confidence interval of the slope contains zero (0). What that implies?**\n",
    "It means that we can't be sure if we have a positive or negative linear relationship in our data.\n",
    " "
   ]
  },
  {
   "cell_type": "code",
   "execution_count": null,
   "metadata": {},
   "outputs": [],
   "source": []
  }
 ],
 "metadata": {
  "kernelspec": {
   "display_name": "Python 3",
   "language": "python",
   "name": "python3"
  },
  "language_info": {
   "codemirror_mode": {
    "name": "ipython",
    "version": 3
   },
   "file_extension": ".py",
   "mimetype": "text/x-python",
   "name": "python",
   "nbconvert_exporter": "python",
   "pygments_lexer": "ipython3",
   "version": "3.6.8"
  },
  "latex_envs": {
   "LaTeX_envs_menu_present": true,
   "autoclose": false,
   "autocomplete": true,
   "bibliofile": "biblio.bib",
   "cite_by": "apalike",
   "current_citInitial": 1,
   "eqLabelWithNumbers": true,
   "eqNumInitial": 1,
   "hotkeys": {
    "equation": "Ctrl-E",
    "itemize": "Ctrl-I"
   },
   "labels_anchors": false,
   "latex_user_defs": false,
   "report_style_numbering": false,
   "user_envs_cfg": false
  },
  "toc": {
   "base_numbering": 1,
   "nav_menu": {},
   "number_sections": false,
   "sideBar": true,
   "skip_h1_title": false,
   "title_cell": "Table of Contents",
   "title_sidebar": "Contents",
   "toc_cell": false,
   "toc_position": {},
   "toc_section_display": true,
   "toc_window_display": false
  },
  "varInspector": {
   "cols": {
    "lenName": 16,
    "lenType": 16,
    "lenVar": 40
   },
   "kernels_config": {
    "python": {
     "delete_cmd_postfix": "",
     "delete_cmd_prefix": "del ",
     "library": "var_list.py",
     "varRefreshCmd": "print(var_dic_list())"
    },
    "r": {
     "delete_cmd_postfix": ") ",
     "delete_cmd_prefix": "rm(",
     "library": "var_list.r",
     "varRefreshCmd": "cat(var_dic_list()) "
    }
   },
   "types_to_exclude": [
    "module",
    "function",
    "builtin_function_or_method",
    "instance",
    "_Feature"
   ],
   "window_display": false
  }
 },
 "nbformat": 4,
 "nbformat_minor": 2
}
